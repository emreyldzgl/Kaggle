{
 "cells": [
  {
   "cell_type": "code",
   "execution_count": 1,
   "id": "4c102235",
   "metadata": {
    "_cell_guid": "b1076dfc-b9ad-4769-8c92-a6c4dae69d19",
    "_uuid": "8f2839f25d086af736a60e9eeb907d3b93b6e0e5",
    "execution": {
     "iopub.execute_input": "2022-11-08T20:41:38.355760Z",
     "iopub.status.busy": "2022-11-08T20:41:38.354983Z",
     "iopub.status.idle": "2022-11-08T20:41:38.368455Z",
     "shell.execute_reply": "2022-11-08T20:41:38.367435Z"
    },
    "papermill": {
     "duration": 0.042769,
     "end_time": "2022-11-08T20:41:38.371614",
     "exception": false,
     "start_time": "2022-11-08T20:41:38.328845",
     "status": "completed"
    },
    "tags": []
   },
   "outputs": [
    {
     "name": "stdout",
     "output_type": "stream",
     "text": [
      "/kaggle/input/spaceship-titanic/sample_submission.csv\n",
      "/kaggle/input/spaceship-titanic/train.csv\n",
      "/kaggle/input/spaceship-titanic/test.csv\n"
     ]
    }
   ],
   "source": [
    "# This Python 3 environment comes with many helpful analytics libraries installed\n",
    "# It is defined by the kaggle/python Docker image: https://github.com/kaggle/docker-python\n",
    "# For example, here's several helpful packages to load\n",
    "\n",
    "import numpy as np # linear algebra\n",
    "import pandas as pd # data processing, CSV file I/O (e.g. pd.read_csv)\n",
    "\n",
    "# Input data files are available in the read-only \"../input/\" directory\n",
    "# For example, running this (by clicking run or pressing Shift+Enter) will list all files under the input directory\n",
    "\n",
    "import os\n",
    "for dirname, _, filenames in os.walk('/kaggle/input'):\n",
    "    for filename in filenames:\n",
    "        print(os.path.join(dirname, filename))\n",
    "\n",
    "# You can write up to 20GB to the current directory (/kaggle/working/) that gets preserved as output when you create a version using \"Save & Run All\" \n",
    "# You can also write temporary files to /kaggle/temp/, but they won't be saved outside of the current session"
   ]
  },
  {
   "cell_type": "markdown",
   "id": "93bac0c6",
   "metadata": {
    "papermill": {
     "duration": 0.023502,
     "end_time": "2022-11-08T20:41:38.419668",
     "exception": false,
     "start_time": "2022-11-08T20:41:38.396166",
     "status": "completed"
    },
    "tags": []
   },
   "source": [
    "# <center> <h1 style=\"background-color:indigo; color:white\" >Spaceship - Titanic &#128760;</h1>\n",
    "<center><img\n",
    "src=\"https://cdna.artstation.com/p/assets/images/images/031/622/800/large/vitaliy-ostaschenko-moncala2.jpg?1604144433\"\n",
    "style=\"width:90%;height:40%;\">\n",
    "</center>   "
   ]
  },
  {
   "cell_type": "markdown",
   "id": "92b9febf",
   "metadata": {
    "papermill": {
     "duration": 0.022808,
     "end_time": "2022-11-08T20:41:38.465363",
     "exception": false,
     "start_time": "2022-11-08T20:41:38.442555",
     "status": "completed"
    },
    "tags": []
   },
   "source": [
    "<a class=\"anchor\" id=\"0.\"></a>\n",
    "# <center> <h1 style=\"background-color:indigo; color:white\" >Contents &#128214;</h1><center>"
   ]
  },
  {
   "cell_type": "markdown",
   "id": "81eaa73a",
   "metadata": {
    "papermill": {
     "duration": 0.023291,
     "end_time": "2022-11-08T20:41:38.511785",
     "exception": false,
     "start_time": "2022-11-08T20:41:38.488494",
     "status": "completed"
    },
    "tags": []
   },
   "source": [
    "* [Import Libraries &#128218;](#1.)\n",
    "* [Functions](#2.)\n",
    "* [Load Data &#128229;](#3.)\n",
    "* [Feature Engineering](#4.)\n",
    "* * [Train Values Analyze &#128270;](#4.1.)\n",
    "* * * [Analysis of Categorical Variables &#128202;](#4.1.1.)\n",
    "* * * * [Handling Missing Values](#4.1.1.1.)\n",
    "* * * [Analysis of Numerical Variables &#128202;](#4.1.2.)\n",
    "* * * * [Handling Missing Values](#4.1.2.1.)\n",
    "* * * * [Target variable analysis with numerical variables](#4.1.2.2.)\n",
    "* * * [Checking for Missing Data](#4.1.3.)\n",
    "* * * [One Hot Encoding](#4.1.4.)\n",
    "* * * [Editing Train Data](#4.1.5.)\n",
    "* * [Test Values Analyze](#4.2.)\n",
    "* * * [Analysis of Categorical Variables (test) &#128202;](#4.2.1.)\n",
    "* * * * [Handling Missing Values (test)](#4.2.1.1.)\n",
    "* * * [Analysis of Numerical Variables (test) &#128202;](#4.2.2.)\n",
    "* * * * [Handling Missing Values (test)](#4.2.2.1.)\n",
    "* * * [Checking for Missing Data (test)](#4.2.3.)\n",
    "* * * [One Hot Encoding (test)](#4.2.4.)\n",
    "* * * [Editing Test Data](#4.2.5.)\n",
    "* [Random Forest &#127795;](#5.)\n",
    "* [Gradient Boosting Machine &#128297;](#6.)\n",
    "* [eXtreme Gradient Boosting &#128295;](#7.)\n",
    "* [Light Gradient Boosting Machine &#128294;](#8.)\n",
    "* [Accuracy table of models &#128187;](#9.)\n",
    "* [THANK YOU &#127881;](#10.)"
   ]
  },
  {
   "cell_type": "markdown",
   "id": "fec4f46b",
   "metadata": {
    "papermill": {
     "duration": 0.022785,
     "end_time": "2022-11-08T20:41:38.558045",
     "exception": false,
     "start_time": "2022-11-08T20:41:38.535260",
     "status": "completed"
    },
    "tags": []
   },
   "source": [
    "<a class=\"anchor\" id=\"1.\"> \n",
    "<center> <h1 style=\"background-color:indigo; color:white\" >Import Libraries &#128218;</h1>\n",
    "    <center>\n",
    " <a/>"
   ]
  },
  {
   "cell_type": "code",
   "execution_count": 2,
   "id": "07a5275e",
   "metadata": {
    "execution": {
     "iopub.execute_input": "2022-11-08T20:41:38.607449Z",
     "iopub.status.busy": "2022-11-08T20:41:38.606917Z",
     "iopub.status.idle": "2022-11-08T20:41:41.153670Z",
     "shell.execute_reply": "2022-11-08T20:41:41.152135Z"
    },
    "papermill": {
     "duration": 2.574553,
     "end_time": "2022-11-08T20:41:41.156762",
     "exception": false,
     "start_time": "2022-11-08T20:41:38.582209",
     "status": "completed"
    },
    "tags": []
   },
   "outputs": [
    {
     "data": {
      "text/html": [
       "<style type='text/css'>\n",
       ".datatable table.frame { margin-bottom: 0; }\n",
       ".datatable table.frame thead { border-bottom: none; }\n",
       ".datatable table.frame tr.coltypes td {  color: #FFFFFF;  line-height: 6px;  padding: 0 0.5em;}\n",
       ".datatable .bool    { background: #DDDD99; }\n",
       ".datatable .object  { background: #565656; }\n",
       ".datatable .int     { background: #5D9E5D; }\n",
       ".datatable .float   { background: #4040CC; }\n",
       ".datatable .str     { background: #CC4040; }\n",
       ".datatable .time    { background: #40CC40; }\n",
       ".datatable .row_index {  background: var(--jp-border-color3);  border-right: 1px solid var(--jp-border-color0);  color: var(--jp-ui-font-color3);  font-size: 9px;}\n",
       ".datatable .frame tbody td { text-align: left; }\n",
       ".datatable .frame tr.coltypes .row_index {  background: var(--jp-border-color0);}\n",
       ".datatable th:nth-child(2) { padding-left: 12px; }\n",
       ".datatable .hellipsis {  color: var(--jp-cell-editor-border-color);}\n",
       ".datatable .vellipsis {  background: var(--jp-layout-color0);  color: var(--jp-cell-editor-border-color);}\n",
       ".datatable .na {  color: var(--jp-cell-editor-border-color);  font-size: 80%;}\n",
       ".datatable .sp {  opacity: 0.25;}\n",
       ".datatable .footer { font-size: 9px; }\n",
       ".datatable .frame_dimensions {  background: var(--jp-border-color3);  border-top: 1px solid var(--jp-border-color0);  color: var(--jp-ui-font-color3);  display: inline-block;  opacity: 0.6;  padding: 1px 10px 1px 5px;}\n",
       "</style>\n"
      ],
      "text/plain": [
       "<IPython.core.display.HTML object>"
      ]
     },
     "metadata": {},
     "output_type": "display_data"
    }
   ],
   "source": [
    "import pandas as pd\n",
    "import numpy as np\n",
    "import matplotlib.pyplot as plt\n",
    "import seaborn as sns\n",
    "import missingno as msno\n",
    "from sklearn import preprocessing\n",
    "from sklearn.ensemble import RandomForestClassifier, GradientBoostingClassifier\n",
    "from lightgbm import LGBMClassifier\n",
    "from xgboost import XGBClassifier\n",
    "from sklearn.model_selection import GridSearchCV, cross_validate, validation_curve, cross_val_score\n",
    "from sklearn.metrics import confusion_matrix, accuracy_score, classification_report"
   ]
  },
  {
   "cell_type": "code",
   "execution_count": 3,
   "id": "9b17206e",
   "metadata": {
    "execution": {
     "iopub.execute_input": "2022-11-08T20:41:41.204977Z",
     "iopub.status.busy": "2022-11-08T20:41:41.204672Z",
     "iopub.status.idle": "2022-11-08T20:41:41.210881Z",
     "shell.execute_reply": "2022-11-08T20:41:41.209529Z"
    },
    "papermill": {
     "duration": 0.032765,
     "end_time": "2022-11-08T20:41:41.212921",
     "exception": false,
     "start_time": "2022-11-08T20:41:41.180156",
     "status": "completed"
    },
    "tags": []
   },
   "outputs": [],
   "source": [
    "pd.set_option('display.max_columns', None)\n",
    "pd.set_option('display.width', 170)\n",
    "pd.set_option('display.max_rows', 20)\n",
    "pd.set_option('display.float_format', lambda x: '%.3f' % x)"
   ]
  },
  {
   "cell_type": "markdown",
   "id": "54445224",
   "metadata": {
    "papermill": {
     "duration": 0.023222,
     "end_time": "2022-11-08T20:41:41.260094",
     "exception": false,
     "start_time": "2022-11-08T20:41:41.236872",
     "status": "completed"
    },
    "tags": []
   },
   "source": [
    "<a class=\"anchor\" id=\"2.\"> \n",
    "<center> <h1 style=\"background-color:indigo; color:white\" >Functions</h1>\n",
    "    <center>\n",
    " <a/>"
   ]
  },
  {
   "cell_type": "code",
   "execution_count": 4,
   "id": "b55e7094",
   "metadata": {
    "execution": {
     "iopub.execute_input": "2022-11-08T20:41:41.308322Z",
     "iopub.status.busy": "2022-11-08T20:41:41.308011Z",
     "iopub.status.idle": "2022-11-08T20:41:41.315287Z",
     "shell.execute_reply": "2022-11-08T20:41:41.314046Z"
    },
    "papermill": {
     "duration": 0.033402,
     "end_time": "2022-11-08T20:41:41.316996",
     "exception": false,
     "start_time": "2022-11-08T20:41:41.283594",
     "status": "completed"
    },
    "tags": []
   },
   "outputs": [],
   "source": [
    "def cat_summary(dataframe,col_name, hue_, plot=False):\n",
    "    print(pd.DataFrame({\"Count\": dataframe[col_name].value_counts(),\n",
    "                        \"Ratio\": 100 * dataframe[col_name].value_counts() / len(dataframe),\n",
    "                        \"TARGET_MEAN\": dataframe.groupby(col_name)[hue_].mean()}))\n",
    "\n",
    "    if plot:\n",
    "        sns.countplot(x=dataframe[col_name], data=dataframe, hue = hue_, palette='rocket')\n",
    "        plt.show()"
   ]
  },
  {
   "cell_type": "code",
   "execution_count": 5,
   "id": "0884a998",
   "metadata": {
    "execution": {
     "iopub.execute_input": "2022-11-08T20:41:41.366114Z",
     "iopub.status.busy": "2022-11-08T20:41:41.365805Z",
     "iopub.status.idle": "2022-11-08T20:41:41.372006Z",
     "shell.execute_reply": "2022-11-08T20:41:41.370789Z"
    },
    "papermill": {
     "duration": 0.033337,
     "end_time": "2022-11-08T20:41:41.373897",
     "exception": false,
     "start_time": "2022-11-08T20:41:41.340560",
     "status": "completed"
    },
    "tags": []
   },
   "outputs": [],
   "source": [
    "def cat_summary_test(dataframe,col_name, plot=False):\n",
    "    print(pd.DataFrame({\"Count\": dataframe[col_name].value_counts(),\n",
    "                        \"Ratio\": 100 * dataframe[col_name].value_counts() / len(dataframe)}))\n",
    "\n",
    "    if plot:\n",
    "        sns.countplot(x=dataframe[col_name], data=dataframe,palette='rocket')\n",
    "        plt.show()"
   ]
  },
  {
   "cell_type": "code",
   "execution_count": 6,
   "id": "483d5da2",
   "metadata": {
    "execution": {
     "iopub.execute_input": "2022-11-08T20:41:41.422582Z",
     "iopub.status.busy": "2022-11-08T20:41:41.422054Z",
     "iopub.status.idle": "2022-11-08T20:41:41.427279Z",
     "shell.execute_reply": "2022-11-08T20:41:41.426320Z"
    },
    "papermill": {
     "duration": 0.032039,
     "end_time": "2022-11-08T20:41:41.429407",
     "exception": false,
     "start_time": "2022-11-08T20:41:41.397368",
     "status": "completed"
    },
    "tags": []
   },
   "outputs": [],
   "source": [
    "def num_summary(dataframe, numerical_col, plot=False):\n",
    "    quantiles = [0.05, 0.10, 0.20, 0.30, 0.40, 0.50, 0.60, 0.70, 0.80, 0.90, 0.95, 0.99]\n",
    "    print(dataframe[numerical_col].describe(quantiles).T)\n",
    "\n",
    "    if plot:\n",
    "        dataframe[numerical_col].hist(bins=50)\n",
    "        plt.xlabel(numerical_col)\n",
    "        plt.title(numerical_col)\n",
    "        plt.show()"
   ]
  },
  {
   "cell_type": "code",
   "execution_count": 7,
   "id": "fc6ea063",
   "metadata": {
    "execution": {
     "iopub.execute_input": "2022-11-08T20:41:41.477365Z",
     "iopub.status.busy": "2022-11-08T20:41:41.476991Z",
     "iopub.status.idle": "2022-11-08T20:41:41.482729Z",
     "shell.execute_reply": "2022-11-08T20:41:41.481555Z"
    },
    "papermill": {
     "duration": 0.032902,
     "end_time": "2022-11-08T20:41:41.485358",
     "exception": false,
     "start_time": "2022-11-08T20:41:41.452456",
     "status": "completed"
    },
    "tags": []
   },
   "outputs": [],
   "source": [
    "def target_summary_with_num(dataframe, target, numerical_col):\n",
    "    print(dataframe.groupby(target).agg({numerical_col: \"mean\"}), end=\"\\n\\n\\n\")"
   ]
  },
  {
   "cell_type": "code",
   "execution_count": 8,
   "id": "f501401c",
   "metadata": {
    "execution": {
     "iopub.execute_input": "2022-11-08T20:41:41.533786Z",
     "iopub.status.busy": "2022-11-08T20:41:41.532713Z",
     "iopub.status.idle": "2022-11-08T20:41:41.539926Z",
     "shell.execute_reply": "2022-11-08T20:41:41.539053Z"
    },
    "papermill": {
     "duration": 0.033468,
     "end_time": "2022-11-08T20:41:41.542097",
     "exception": false,
     "start_time": "2022-11-08T20:41:41.508629",
     "status": "completed"
    },
    "tags": []
   },
   "outputs": [],
   "source": [
    "def val_curve_params(model, X, y, param_name, param_range, scoring=\"roc_auc\", cv=10):\n",
    "    train_score, test_score = validation_curve(\n",
    "        model, X=X, y=y, param_name=param_name, param_range=param_range, scoring=scoring, cv=cv)\n",
    "\n",
    "    mean_train_score = np.mean(train_score, axis=1)\n",
    "    mean_test_score = np.mean(test_score, axis=1)\n",
    "\n",
    "    plt.plot(param_range, mean_train_score,\n",
    "             label=\"Training Score\", color='b')\n",
    "\n",
    "    plt.plot(param_range, mean_test_score,\n",
    "             label=\"Validation Score\", color='r')\n",
    "\n",
    "    plt.title(f\"Validation Curve for {type(model).__name__}\")\n",
    "    plt.xlabel(f\"Number of {param_name}\")\n",
    "    plt.ylabel(f\"{scoring}\")\n",
    "    plt.tight_layout()\n",
    "    plt.legend(loc='best')\n",
    "    plt.show(block=True) "
   ]
  },
  {
   "cell_type": "markdown",
   "id": "6aee7ba4",
   "metadata": {
    "papermill": {
     "duration": 0.023334,
     "end_time": "2022-11-08T20:41:41.588801",
     "exception": false,
     "start_time": "2022-11-08T20:41:41.565467",
     "status": "completed"
    },
    "tags": []
   },
   "source": [
    "[back to contents &#10548;](#0.)\n",
    "<a class=\"anchor\" id=\"3.\"> \n",
    "<center> <h1 style=\"background-color:indigo; color:white\" >Load Data &#128229;</h1>\n",
    "    <center>\n",
    " <a/>"
   ]
  },
  {
   "cell_type": "code",
   "execution_count": 9,
   "id": "ef54520f",
   "metadata": {
    "execution": {
     "iopub.execute_input": "2022-11-08T20:41:41.638220Z",
     "iopub.status.busy": "2022-11-08T20:41:41.637099Z",
     "iopub.status.idle": "2022-11-08T20:41:41.707625Z",
     "shell.execute_reply": "2022-11-08T20:41:41.706630Z"
    },
    "papermill": {
     "duration": 0.097319,
     "end_time": "2022-11-08T20:41:41.709634",
     "exception": false,
     "start_time": "2022-11-08T20:41:41.612315",
     "status": "completed"
    },
    "tags": []
   },
   "outputs": [],
   "source": [
    "train = pd.read_csv(\"../input/spaceship-titanic/train.csv\")\n",
    "test = pd.read_csv(\"../input/spaceship-titanic/test.csv\")"
   ]
  },
  {
   "cell_type": "markdown",
   "id": "f608b11f",
   "metadata": {
    "papermill": {
     "duration": 0.02291,
     "end_time": "2022-11-08T20:41:41.755433",
     "exception": false,
     "start_time": "2022-11-08T20:41:41.732523",
     "status": "completed"
    },
    "tags": []
   },
   "source": [
    "[back to contents &#10548;](#0.)\n",
    "<a class=\"anchor\" id=\"4.\"> \n",
    "<center> <h1 style=\"background-color:indigo; color:white\" >Feature Engineering</h1>\n",
    "    <center>\n",
    " <a/>"
   ]
  },
  {
   "cell_type": "code",
   "execution_count": 10,
   "id": "6e7228a1",
   "metadata": {
    "execution": {
     "iopub.execute_input": "2022-11-08T20:41:41.804405Z",
     "iopub.status.busy": "2022-11-08T20:41:41.803907Z",
     "iopub.status.idle": "2022-11-08T20:41:41.823087Z",
     "shell.execute_reply": "2022-11-08T20:41:41.822520Z"
    },
    "papermill": {
     "duration": 0.046227,
     "end_time": "2022-11-08T20:41:41.825313",
     "exception": false,
     "start_time": "2022-11-08T20:41:41.779086",
     "status": "completed"
    },
    "tags": []
   },
   "outputs": [
    {
     "data": {
      "text/html": [
       "<div>\n",
       "<style scoped>\n",
       "    .dataframe tbody tr th:only-of-type {\n",
       "        vertical-align: middle;\n",
       "    }\n",
       "\n",
       "    .dataframe tbody tr th {\n",
       "        vertical-align: top;\n",
       "    }\n",
       "\n",
       "    .dataframe thead th {\n",
       "        text-align: right;\n",
       "    }\n",
       "</style>\n",
       "<table border=\"1\" class=\"dataframe\">\n",
       "  <thead>\n",
       "    <tr style=\"text-align: right;\">\n",
       "      <th></th>\n",
       "      <th>PassengerId</th>\n",
       "      <th>HomePlanet</th>\n",
       "      <th>CryoSleep</th>\n",
       "      <th>Cabin</th>\n",
       "      <th>Destination</th>\n",
       "      <th>Age</th>\n",
       "      <th>VIP</th>\n",
       "      <th>RoomService</th>\n",
       "      <th>FoodCourt</th>\n",
       "      <th>ShoppingMall</th>\n",
       "      <th>Spa</th>\n",
       "      <th>VRDeck</th>\n",
       "      <th>Name</th>\n",
       "      <th>Transported</th>\n",
       "    </tr>\n",
       "  </thead>\n",
       "  <tbody>\n",
       "    <tr>\n",
       "      <th>0</th>\n",
       "      <td>0001_01</td>\n",
       "      <td>Europa</td>\n",
       "      <td>False</td>\n",
       "      <td>B/0/P</td>\n",
       "      <td>TRAPPIST-1e</td>\n",
       "      <td>39.000</td>\n",
       "      <td>False</td>\n",
       "      <td>0.000</td>\n",
       "      <td>0.000</td>\n",
       "      <td>0.000</td>\n",
       "      <td>0.000</td>\n",
       "      <td>0.000</td>\n",
       "      <td>Maham Ofracculy</td>\n",
       "      <td>False</td>\n",
       "    </tr>\n",
       "    <tr>\n",
       "      <th>1</th>\n",
       "      <td>0002_01</td>\n",
       "      <td>Earth</td>\n",
       "      <td>False</td>\n",
       "      <td>F/0/S</td>\n",
       "      <td>TRAPPIST-1e</td>\n",
       "      <td>24.000</td>\n",
       "      <td>False</td>\n",
       "      <td>109.000</td>\n",
       "      <td>9.000</td>\n",
       "      <td>25.000</td>\n",
       "      <td>549.000</td>\n",
       "      <td>44.000</td>\n",
       "      <td>Juanna Vines</td>\n",
       "      <td>True</td>\n",
       "    </tr>\n",
       "    <tr>\n",
       "      <th>2</th>\n",
       "      <td>0003_01</td>\n",
       "      <td>Europa</td>\n",
       "      <td>False</td>\n",
       "      <td>A/0/S</td>\n",
       "      <td>TRAPPIST-1e</td>\n",
       "      <td>58.000</td>\n",
       "      <td>True</td>\n",
       "      <td>43.000</td>\n",
       "      <td>3576.000</td>\n",
       "      <td>0.000</td>\n",
       "      <td>6715.000</td>\n",
       "      <td>49.000</td>\n",
       "      <td>Altark Susent</td>\n",
       "      <td>False</td>\n",
       "    </tr>\n",
       "    <tr>\n",
       "      <th>3</th>\n",
       "      <td>0003_02</td>\n",
       "      <td>Europa</td>\n",
       "      <td>False</td>\n",
       "      <td>A/0/S</td>\n",
       "      <td>TRAPPIST-1e</td>\n",
       "      <td>33.000</td>\n",
       "      <td>False</td>\n",
       "      <td>0.000</td>\n",
       "      <td>1283.000</td>\n",
       "      <td>371.000</td>\n",
       "      <td>3329.000</td>\n",
       "      <td>193.000</td>\n",
       "      <td>Solam Susent</td>\n",
       "      <td>False</td>\n",
       "    </tr>\n",
       "    <tr>\n",
       "      <th>4</th>\n",
       "      <td>0004_01</td>\n",
       "      <td>Earth</td>\n",
       "      <td>False</td>\n",
       "      <td>F/1/S</td>\n",
       "      <td>TRAPPIST-1e</td>\n",
       "      <td>16.000</td>\n",
       "      <td>False</td>\n",
       "      <td>303.000</td>\n",
       "      <td>70.000</td>\n",
       "      <td>151.000</td>\n",
       "      <td>565.000</td>\n",
       "      <td>2.000</td>\n",
       "      <td>Willy Santantines</td>\n",
       "      <td>True</td>\n",
       "    </tr>\n",
       "  </tbody>\n",
       "</table>\n",
       "</div>"
      ],
      "text/plain": [
       "  PassengerId HomePlanet CryoSleep  Cabin  Destination    Age    VIP  RoomService  FoodCourt  ShoppingMall      Spa  VRDeck               Name  Transported\n",
       "0     0001_01     Europa     False  B/0/P  TRAPPIST-1e 39.000  False        0.000      0.000         0.000    0.000   0.000    Maham Ofracculy        False\n",
       "1     0002_01      Earth     False  F/0/S  TRAPPIST-1e 24.000  False      109.000      9.000        25.000  549.000  44.000       Juanna Vines         True\n",
       "2     0003_01     Europa     False  A/0/S  TRAPPIST-1e 58.000   True       43.000   3576.000         0.000 6715.000  49.000      Altark Susent        False\n",
       "3     0003_02     Europa     False  A/0/S  TRAPPIST-1e 33.000  False        0.000   1283.000       371.000 3329.000 193.000       Solam Susent        False\n",
       "4     0004_01      Earth     False  F/1/S  TRAPPIST-1e 16.000  False      303.000     70.000       151.000  565.000   2.000  Willy Santantines         True"
      ]
     },
     "execution_count": 10,
     "metadata": {},
     "output_type": "execute_result"
    }
   ],
   "source": [
    "train.head()"
   ]
  },
  {
   "cell_type": "code",
   "execution_count": 11,
   "id": "9f034f26",
   "metadata": {
    "execution": {
     "iopub.execute_input": "2022-11-08T20:41:41.875381Z",
     "iopub.status.busy": "2022-11-08T20:41:41.874618Z",
     "iopub.status.idle": "2022-11-08T20:41:41.902640Z",
     "shell.execute_reply": "2022-11-08T20:41:41.900939Z"
    },
    "papermill": {
     "duration": 0.055209,
     "end_time": "2022-11-08T20:41:41.904611",
     "exception": false,
     "start_time": "2022-11-08T20:41:41.849402",
     "status": "completed"
    },
    "tags": []
   },
   "outputs": [
    {
     "name": "stdout",
     "output_type": "stream",
     "text": [
      "<class 'pandas.core.frame.DataFrame'>\n",
      "RangeIndex: 8693 entries, 0 to 8692\n",
      "Data columns (total 14 columns):\n",
      " #   Column        Non-Null Count  Dtype  \n",
      "---  ------        --------------  -----  \n",
      " 0   PassengerId   8693 non-null   object \n",
      " 1   HomePlanet    8492 non-null   object \n",
      " 2   CryoSleep     8476 non-null   object \n",
      " 3   Cabin         8494 non-null   object \n",
      " 4   Destination   8511 non-null   object \n",
      " 5   Age           8514 non-null   float64\n",
      " 6   VIP           8490 non-null   object \n",
      " 7   RoomService   8512 non-null   float64\n",
      " 8   FoodCourt     8510 non-null   float64\n",
      " 9   ShoppingMall  8485 non-null   float64\n",
      " 10  Spa           8510 non-null   float64\n",
      " 11  VRDeck        8505 non-null   float64\n",
      " 12  Name          8493 non-null   object \n",
      " 13  Transported   8693 non-null   bool   \n",
      "dtypes: bool(1), float64(6), object(7)\n",
      "memory usage: 891.5+ KB\n"
     ]
    }
   ],
   "source": [
    "train.info()"
   ]
  },
  {
   "cell_type": "code",
   "execution_count": 12,
   "id": "dd1aeff9",
   "metadata": {
    "execution": {
     "iopub.execute_input": "2022-11-08T20:41:41.953580Z",
     "iopub.status.busy": "2022-11-08T20:41:41.952338Z",
     "iopub.status.idle": "2022-11-08T20:41:41.972298Z",
     "shell.execute_reply": "2022-11-08T20:41:41.971500Z"
    },
    "papermill": {
     "duration": 0.048413,
     "end_time": "2022-11-08T20:41:41.976222",
     "exception": false,
     "start_time": "2022-11-08T20:41:41.927809",
     "status": "completed"
    },
    "tags": []
   },
   "outputs": [
    {
     "data": {
      "text/html": [
       "<div>\n",
       "<style scoped>\n",
       "    .dataframe tbody tr th:only-of-type {\n",
       "        vertical-align: middle;\n",
       "    }\n",
       "\n",
       "    .dataframe tbody tr th {\n",
       "        vertical-align: top;\n",
       "    }\n",
       "\n",
       "    .dataframe thead th {\n",
       "        text-align: right;\n",
       "    }\n",
       "</style>\n",
       "<table border=\"1\" class=\"dataframe\">\n",
       "  <thead>\n",
       "    <tr style=\"text-align: right;\">\n",
       "      <th></th>\n",
       "      <th>PassengerId</th>\n",
       "      <th>HomePlanet</th>\n",
       "      <th>CryoSleep</th>\n",
       "      <th>Cabin</th>\n",
       "      <th>Destination</th>\n",
       "      <th>Age</th>\n",
       "      <th>VIP</th>\n",
       "      <th>RoomService</th>\n",
       "      <th>FoodCourt</th>\n",
       "      <th>ShoppingMall</th>\n",
       "      <th>Spa</th>\n",
       "      <th>VRDeck</th>\n",
       "      <th>Name</th>\n",
       "      <th>Transported</th>\n",
       "    </tr>\n",
       "  </thead>\n",
       "  <tbody>\n",
       "    <tr>\n",
       "      <th>0</th>\n",
       "      <td>0001_01</td>\n",
       "      <td>Europa</td>\n",
       "      <td>False</td>\n",
       "      <td>B/0/P</td>\n",
       "      <td>TRAPPIST-1e</td>\n",
       "      <td>39.000</td>\n",
       "      <td>False</td>\n",
       "      <td>0.000</td>\n",
       "      <td>0.000</td>\n",
       "      <td>0.000</td>\n",
       "      <td>0.000</td>\n",
       "      <td>0.000</td>\n",
       "      <td>Maham Ofracculy</td>\n",
       "      <td>False</td>\n",
       "    </tr>\n",
       "    <tr>\n",
       "      <th>1</th>\n",
       "      <td>0002_01</td>\n",
       "      <td>Earth</td>\n",
       "      <td>False</td>\n",
       "      <td>F/0/S</td>\n",
       "      <td>TRAPPIST-1e</td>\n",
       "      <td>24.000</td>\n",
       "      <td>False</td>\n",
       "      <td>109.000</td>\n",
       "      <td>9.000</td>\n",
       "      <td>25.000</td>\n",
       "      <td>549.000</td>\n",
       "      <td>44.000</td>\n",
       "      <td>Juanna Vines</td>\n",
       "      <td>True</td>\n",
       "    </tr>\n",
       "    <tr>\n",
       "      <th>2</th>\n",
       "      <td>0003_01</td>\n",
       "      <td>Europa</td>\n",
       "      <td>False</td>\n",
       "      <td>A/0/S</td>\n",
       "      <td>TRAPPIST-1e</td>\n",
       "      <td>58.000</td>\n",
       "      <td>True</td>\n",
       "      <td>43.000</td>\n",
       "      <td>3576.000</td>\n",
       "      <td>0.000</td>\n",
       "      <td>6715.000</td>\n",
       "      <td>49.000</td>\n",
       "      <td>Altark Susent</td>\n",
       "      <td>False</td>\n",
       "    </tr>\n",
       "    <tr>\n",
       "      <th>3</th>\n",
       "      <td>0003_02</td>\n",
       "      <td>Europa</td>\n",
       "      <td>False</td>\n",
       "      <td>A/0/S</td>\n",
       "      <td>TRAPPIST-1e</td>\n",
       "      <td>33.000</td>\n",
       "      <td>False</td>\n",
       "      <td>0.000</td>\n",
       "      <td>1283.000</td>\n",
       "      <td>371.000</td>\n",
       "      <td>3329.000</td>\n",
       "      <td>193.000</td>\n",
       "      <td>Solam Susent</td>\n",
       "      <td>False</td>\n",
       "    </tr>\n",
       "    <tr>\n",
       "      <th>4</th>\n",
       "      <td>0004_01</td>\n",
       "      <td>Earth</td>\n",
       "      <td>False</td>\n",
       "      <td>F/1/S</td>\n",
       "      <td>TRAPPIST-1e</td>\n",
       "      <td>16.000</td>\n",
       "      <td>False</td>\n",
       "      <td>303.000</td>\n",
       "      <td>70.000</td>\n",
       "      <td>151.000</td>\n",
       "      <td>565.000</td>\n",
       "      <td>2.000</td>\n",
       "      <td>Willy Santantines</td>\n",
       "      <td>True</td>\n",
       "    </tr>\n",
       "  </tbody>\n",
       "</table>\n",
       "</div>"
      ],
      "text/plain": [
       "  PassengerId HomePlanet CryoSleep  Cabin  Destination    Age    VIP  RoomService  FoodCourt  ShoppingMall      Spa  VRDeck               Name  Transported\n",
       "0     0001_01     Europa     False  B/0/P  TRAPPIST-1e 39.000  False        0.000      0.000         0.000    0.000   0.000    Maham Ofracculy        False\n",
       "1     0002_01      Earth     False  F/0/S  TRAPPIST-1e 24.000  False      109.000      9.000        25.000  549.000  44.000       Juanna Vines         True\n",
       "2     0003_01     Europa     False  A/0/S  TRAPPIST-1e 58.000   True       43.000   3576.000         0.000 6715.000  49.000      Altark Susent        False\n",
       "3     0003_02     Europa     False  A/0/S  TRAPPIST-1e 33.000  False        0.000   1283.000       371.000 3329.000 193.000       Solam Susent        False\n",
       "4     0004_01      Earth     False  F/1/S  TRAPPIST-1e 16.000  False      303.000     70.000       151.000  565.000   2.000  Willy Santantines         True"
      ]
     },
     "execution_count": 12,
     "metadata": {},
     "output_type": "execute_result"
    }
   ],
   "source": [
    "train.head()"
   ]
  },
  {
   "cell_type": "code",
   "execution_count": 13,
   "id": "3509c629",
   "metadata": {
    "execution": {
     "iopub.execute_input": "2022-11-08T20:41:42.035722Z",
     "iopub.status.busy": "2022-11-08T20:41:42.035054Z",
     "iopub.status.idle": "2022-11-08T20:41:42.575079Z",
     "shell.execute_reply": "2022-11-08T20:41:42.573878Z"
    },
    "papermill": {
     "duration": 0.570681,
     "end_time": "2022-11-08T20:41:42.577256",
     "exception": false,
     "start_time": "2022-11-08T20:41:42.006575",
     "status": "completed"
    },
    "tags": []
   },
   "outputs": [
    {
     "data": {
      "image/png": "[encoded data removed]",
      "text/plain": [
       "<Figure size 1800x720 with 2 Axes>"
      ]
     },
     "metadata": {
      "needs_background": "light"
     },
     "output_type": "display_data"
    }
   ],
   "source": [
    "msno.matrix(train, color=(0.3, 0, 0.2))\n",
    "plt.title('Distribution Missing Values',fontsize=30);"
   ]
  },
  {
   "cell_type": "code",
   "execution_count": 14,
   "id": "dda33ba9",
   "metadata": {
    "execution": {
     "iopub.execute_input": "2022-11-08T20:41:42.628216Z",
     "iopub.status.busy": "2022-11-08T20:41:42.627907Z",
     "iopub.status.idle": "2022-11-08T20:41:42.633873Z",
     "shell.execute_reply": "2022-11-08T20:41:42.632980Z"
    },
    "papermill": {
     "duration": 0.033749,
     "end_time": "2022-11-08T20:41:42.635503",
     "exception": false,
     "start_time": "2022-11-08T20:41:42.601754",
     "status": "completed"
    },
    "tags": []
   },
   "outputs": [],
   "source": [
    "# Replace NaN's with outliers for now (so we can split feature)\n",
    "train['Cabin'].fillna('X/9999/X', inplace=True)\n",
    "test['Cabin'].fillna('X/9999/X', inplace=True)"
   ]
  },
  {
   "cell_type": "code",
   "execution_count": 15,
   "id": "ea715d9a",
   "metadata": {
    "execution": {
     "iopub.execute_input": "2022-11-08T20:41:42.687016Z",
     "iopub.status.busy": "2022-11-08T20:41:42.686041Z",
     "iopub.status.idle": "2022-11-08T20:41:42.702968Z",
     "shell.execute_reply": "2022-11-08T20:41:42.702331Z"
    },
    "papermill": {
     "duration": 0.044986,
     "end_time": "2022-11-08T20:41:42.705069",
     "exception": false,
     "start_time": "2022-11-08T20:41:42.660083",
     "status": "completed"
    },
    "tags": []
   },
   "outputs": [],
   "source": [
    "# New features - train \n",
    "train['Deck'] = train['Cabin'].apply(lambda x: x.split('/')[0])\n",
    "train['Number'] = train['Cabin'].apply(lambda x: x.split('/')[1]).astype(int)\n",
    "train['Side'] = train['Cabin'].apply(lambda x: x.split('/')[2])"
   ]
  },
  {
   "cell_type": "code",
   "execution_count": 16,
   "id": "32316f58",
   "metadata": {
    "execution": {
     "iopub.execute_input": "2022-11-08T20:41:42.756946Z",
     "iopub.status.busy": "2022-11-08T20:41:42.755741Z",
     "iopub.status.idle": "2022-11-08T20:41:42.768802Z",
     "shell.execute_reply": "2022-11-08T20:41:42.767931Z"
    },
    "papermill": {
     "duration": 0.040657,
     "end_time": "2022-11-08T20:41:42.770743",
     "exception": false,
     "start_time": "2022-11-08T20:41:42.730086",
     "status": "completed"
    },
    "tags": []
   },
   "outputs": [],
   "source": [
    "# New features - test\n",
    "test['Deck'] = test['Cabin'].apply(lambda x: x.split('/')[0])\n",
    "test['Number'] = test['Cabin'].apply(lambda x: x.split('/')[1]).astype(int)\n",
    "test['Side'] = test['Cabin'].apply(lambda x: x.split('/')[2])"
   ]
  },
  {
   "cell_type": "code",
   "execution_count": 17,
   "id": "441f2dcb",
   "metadata": {
    "execution": {
     "iopub.execute_input": "2022-11-08T20:41:42.820878Z",
     "iopub.status.busy": "2022-11-08T20:41:42.820554Z",
     "iopub.status.idle": "2022-11-08T20:41:42.833908Z",
     "shell.execute_reply": "2022-11-08T20:41:42.832987Z"
    },
    "papermill": {
     "duration": 0.041002,
     "end_time": "2022-11-08T20:41:42.836011",
     "exception": false,
     "start_time": "2022-11-08T20:41:42.795009",
     "status": "completed"
    },
    "tags": []
   },
   "outputs": [],
   "source": [
    "# Put Nan's back in (we will fill these later)\n",
    "train.loc[train['Deck']=='X', 'Deck']=np.nan\n",
    "train.loc[train['Number']==9999, 'Number']=np.nan\n",
    "train.loc[train['Side']=='X', 'Side']=np.nan\n",
    "test.loc[test['Deck']=='X', 'Deck']=np.nan\n",
    "test.loc[test['Number']==9999, 'Number']=np.nan\n",
    "test.loc[test['Side']=='X', 'Side']=np.nan"
   ]
  },
  {
   "cell_type": "code",
   "execution_count": 18,
   "id": "81f9a708",
   "metadata": {
    "execution": {
     "iopub.execute_input": "2022-11-08T20:41:42.887324Z",
     "iopub.status.busy": "2022-11-08T20:41:42.886758Z",
     "iopub.status.idle": "2022-11-08T20:41:42.898485Z",
     "shell.execute_reply": "2022-11-08T20:41:42.897218Z"
    },
    "papermill": {
     "duration": 0.040406,
     "end_time": "2022-11-08T20:41:42.900948",
     "exception": false,
     "start_time": "2022-11-08T20:41:42.860542",
     "status": "completed"
    },
    "tags": []
   },
   "outputs": [],
   "source": [
    "# Drop Cabin (we don't need it anymore)\n",
    "train.drop('Cabin', axis=1, inplace=True)\n",
    "test.drop('Cabin', axis=1, inplace=True)"
   ]
  },
  {
   "cell_type": "code",
   "execution_count": 19,
   "id": "67ace985",
   "metadata": {
    "execution": {
     "iopub.execute_input": "2022-11-08T20:41:42.952530Z",
     "iopub.status.busy": "2022-11-08T20:41:42.952165Z",
     "iopub.status.idle": "2022-11-08T20:41:42.966759Z",
     "shell.execute_reply": "2022-11-08T20:41:42.965910Z"
    },
    "papermill": {
     "duration": 0.043898,
     "end_time": "2022-11-08T20:41:42.969370",
     "exception": false,
     "start_time": "2022-11-08T20:41:42.925472",
     "status": "completed"
    },
    "tags": []
   },
   "outputs": [
    {
     "data": {
      "text/html": [
       "<div>\n",
       "<style scoped>\n",
       "    .dataframe tbody tr th:only-of-type {\n",
       "        vertical-align: middle;\n",
       "    }\n",
       "\n",
       "    .dataframe tbody tr th {\n",
       "        vertical-align: top;\n",
       "    }\n",
       "\n",
       "    .dataframe thead th {\n",
       "        text-align: right;\n",
       "    }\n",
       "</style>\n",
       "<table border=\"1\" class=\"dataframe\">\n",
       "  <thead>\n",
       "    <tr style=\"text-align: right;\">\n",
       "      <th></th>\n",
       "      <th>PassengerId</th>\n",
       "      <th>HomePlanet</th>\n",
       "      <th>CryoSleep</th>\n",
       "      <th>Destination</th>\n",
       "      <th>Age</th>\n",
       "      <th>VIP</th>\n",
       "      <th>RoomService</th>\n",
       "      <th>FoodCourt</th>\n",
       "      <th>ShoppingMall</th>\n",
       "      <th>Spa</th>\n",
       "      <th>VRDeck</th>\n",
       "      <th>Name</th>\n",
       "      <th>Transported</th>\n",
       "      <th>Deck</th>\n",
       "      <th>Number</th>\n",
       "      <th>Side</th>\n",
       "    </tr>\n",
       "  </thead>\n",
       "  <tbody>\n",
       "    <tr>\n",
       "      <th>0</th>\n",
       "      <td>0001_01</td>\n",
       "      <td>Europa</td>\n",
       "      <td>False</td>\n",
       "      <td>TRAPPIST-1e</td>\n",
       "      <td>39.000</td>\n",
       "      <td>False</td>\n",
       "      <td>0.000</td>\n",
       "      <td>0.000</td>\n",
       "      <td>0.000</td>\n",
       "      <td>0.000</td>\n",
       "      <td>0.000</td>\n",
       "      <td>Maham Ofracculy</td>\n",
       "      <td>False</td>\n",
       "      <td>B</td>\n",
       "      <td>0.000</td>\n",
       "      <td>P</td>\n",
       "    </tr>\n",
       "    <tr>\n",
       "      <th>1</th>\n",
       "      <td>0002_01</td>\n",
       "      <td>Earth</td>\n",
       "      <td>False</td>\n",
       "      <td>TRAPPIST-1e</td>\n",
       "      <td>24.000</td>\n",
       "      <td>False</td>\n",
       "      <td>109.000</td>\n",
       "      <td>9.000</td>\n",
       "      <td>25.000</td>\n",
       "      <td>549.000</td>\n",
       "      <td>44.000</td>\n",
       "      <td>Juanna Vines</td>\n",
       "      <td>True</td>\n",
       "      <td>F</td>\n",
       "      <td>0.000</td>\n",
       "      <td>S</td>\n",
       "    </tr>\n",
       "    <tr>\n",
       "      <th>2</th>\n",
       "      <td>0003_01</td>\n",
       "      <td>Europa</td>\n",
       "      <td>False</td>\n",
       "      <td>TRAPPIST-1e</td>\n",
       "      <td>58.000</td>\n",
       "      <td>True</td>\n",
       "      <td>43.000</td>\n",
       "      <td>3576.000</td>\n",
       "      <td>0.000</td>\n",
       "      <td>6715.000</td>\n",
       "      <td>49.000</td>\n",
       "      <td>Altark Susent</td>\n",
       "      <td>False</td>\n",
       "      <td>A</td>\n",
       "      <td>0.000</td>\n",
       "      <td>S</td>\n",
       "    </tr>\n",
       "    <tr>\n",
       "      <th>3</th>\n",
       "      <td>0003_02</td>\n",
       "      <td>Europa</td>\n",
       "      <td>False</td>\n",
       "      <td>TRAPPIST-1e</td>\n",
       "      <td>33.000</td>\n",
       "      <td>False</td>\n",
       "      <td>0.000</td>\n",
       "      <td>1283.000</td>\n",
       "      <td>371.000</td>\n",
       "      <td>3329.000</td>\n",
       "      <td>193.000</td>\n",
       "      <td>Solam Susent</td>\n",
       "      <td>False</td>\n",
       "      <td>A</td>\n",
       "      <td>0.000</td>\n",
       "      <td>S</td>\n",
       "    </tr>\n",
       "    <tr>\n",
       "      <th>4</th>\n",
       "      <td>0004_01</td>\n",
       "      <td>Earth</td>\n",
       "      <td>False</td>\n",
       "      <td>TRAPPIST-1e</td>\n",
       "      <td>16.000</td>\n",
       "      <td>False</td>\n",
       "      <td>303.000</td>\n",
       "      <td>70.000</td>\n",
       "      <td>151.000</td>\n",
       "      <td>565.000</td>\n",
       "      <td>2.000</td>\n",
       "      <td>Willy Santantines</td>\n",
       "      <td>True</td>\n",
       "      <td>F</td>\n",
       "      <td>1.000</td>\n",
       "      <td>S</td>\n",
       "    </tr>\n",
       "  </tbody>\n",
       "</table>\n",
       "</div>"
      ],
      "text/plain": [
       "  PassengerId HomePlanet CryoSleep  Destination    Age    VIP  RoomService  FoodCourt  ShoppingMall      Spa  VRDeck               Name  Transported Deck  Number Side\n",
       "0     0001_01     Europa     False  TRAPPIST-1e 39.000  False        0.000      0.000         0.000    0.000   0.000    Maham Ofracculy        False    B   0.000    P\n",
       "1     0002_01      Earth     False  TRAPPIST-1e 24.000  False      109.000      9.000        25.000  549.000  44.000       Juanna Vines         True    F   0.000    S\n",
       "2     0003_01     Europa     False  TRAPPIST-1e 58.000   True       43.000   3576.000         0.000 6715.000  49.000      Altark Susent        False    A   0.000    S\n",
       "3     0003_02     Europa     False  TRAPPIST-1e 33.000  False        0.000   1283.000       371.000 3329.000 193.000       Solam Susent        False    A   0.000    S\n",
       "4     0004_01      Earth     False  TRAPPIST-1e 16.000  False      303.000     70.000       151.000  565.000   2.000  Willy Santantines         True    F   1.000    S"
      ]
     },
     "execution_count": 19,
     "metadata": {},
     "output_type": "execute_result"
    }
   ],
   "source": [
    "train.head()"
   ]
  },
  {
   "cell_type": "code",
   "execution_count": 20,
   "id": "834b387a",
   "metadata": {
    "execution": {
     "iopub.execute_input": "2022-11-08T20:41:43.022718Z",
     "iopub.status.busy": "2022-11-08T20:41:43.022385Z",
     "iopub.status.idle": "2022-11-08T20:41:43.036192Z",
     "shell.execute_reply": "2022-11-08T20:41:43.034344Z"
    },
    "papermill": {
     "duration": 0.043478,
     "end_time": "2022-11-08T20:41:43.038791",
     "exception": false,
     "start_time": "2022-11-08T20:41:42.995313",
     "status": "completed"
    },
    "tags": []
   },
   "outputs": [
    {
     "data": {
      "text/plain": [
       "PassengerId       0\n",
       "HomePlanet      201\n",
       "CryoSleep       217\n",
       "Destination     182\n",
       "Age             179\n",
       "VIP             203\n",
       "RoomService     181\n",
       "FoodCourt       183\n",
       "ShoppingMall    208\n",
       "Spa             183\n",
       "VRDeck          188\n",
       "Name            200\n",
       "Transported       0\n",
       "Deck            199\n",
       "Number          199\n",
       "Side            199\n",
       "dtype: int64"
      ]
     },
     "execution_count": 20,
     "metadata": {},
     "output_type": "execute_result"
    }
   ],
   "source": [
    "train.isnull().sum()"
   ]
  },
  {
   "cell_type": "markdown",
   "id": "c979d406",
   "metadata": {
    "papermill": {
     "duration": 0.024951,
     "end_time": "2022-11-08T20:41:43.088911",
     "exception": false,
     "start_time": "2022-11-08T20:41:43.063960",
     "status": "completed"
    },
    "tags": []
   },
   "source": [
    "[back to contents &#10548;](#0.)\n",
    "<a class=\"anchor\" id=\"4.1.\"> \n",
    "<center> <h1 style=\"background-color:indigo; color:white\" >Train Values Analyze &#128270;</h1>\n",
    "    <center>\n",
    " <a/>"
   ]
  },
  {
   "cell_type": "code",
   "execution_count": 21,
   "id": "35294926",
   "metadata": {
    "execution": {
     "iopub.execute_input": "2022-11-08T20:41:43.140772Z",
     "iopub.status.busy": "2022-11-08T20:41:43.140451Z",
     "iopub.status.idle": "2022-11-08T20:41:43.156241Z",
     "shell.execute_reply": "2022-11-08T20:41:43.155007Z"
    },
    "papermill": {
     "duration": 0.044781,
     "end_time": "2022-11-08T20:41:43.158674",
     "exception": false,
     "start_time": "2022-11-08T20:41:43.113893",
     "status": "completed"
    },
    "tags": []
   },
   "outputs": [
    {
     "data": {
      "text/html": [
       "<div>\n",
       "<style scoped>\n",
       "    .dataframe tbody tr th:only-of-type {\n",
       "        vertical-align: middle;\n",
       "    }\n",
       "\n",
       "    .dataframe tbody tr th {\n",
       "        vertical-align: top;\n",
       "    }\n",
       "\n",
       "    .dataframe thead th {\n",
       "        text-align: right;\n",
       "    }\n",
       "</style>\n",
       "<table border=\"1\" class=\"dataframe\">\n",
       "  <thead>\n",
       "    <tr style=\"text-align: right;\">\n",
       "      <th></th>\n",
       "      <th>PassengerId</th>\n",
       "      <th>HomePlanet</th>\n",
       "      <th>CryoSleep</th>\n",
       "      <th>Destination</th>\n",
       "      <th>Age</th>\n",
       "      <th>VIP</th>\n",
       "      <th>RoomService</th>\n",
       "      <th>FoodCourt</th>\n",
       "      <th>ShoppingMall</th>\n",
       "      <th>Spa</th>\n",
       "      <th>VRDeck</th>\n",
       "      <th>Name</th>\n",
       "      <th>Transported</th>\n",
       "      <th>Deck</th>\n",
       "      <th>Number</th>\n",
       "      <th>Side</th>\n",
       "    </tr>\n",
       "  </thead>\n",
       "  <tbody>\n",
       "    <tr>\n",
       "      <th>0</th>\n",
       "      <td>0001_01</td>\n",
       "      <td>Europa</td>\n",
       "      <td>False</td>\n",
       "      <td>TRAPPIST-1e</td>\n",
       "      <td>39.000</td>\n",
       "      <td>False</td>\n",
       "      <td>0.000</td>\n",
       "      <td>0.000</td>\n",
       "      <td>0.000</td>\n",
       "      <td>0.000</td>\n",
       "      <td>0.000</td>\n",
       "      <td>Maham Ofracculy</td>\n",
       "      <td>False</td>\n",
       "      <td>B</td>\n",
       "      <td>0.000</td>\n",
       "      <td>P</td>\n",
       "    </tr>\n",
       "    <tr>\n",
       "      <th>1</th>\n",
       "      <td>0002_01</td>\n",
       "      <td>Earth</td>\n",
       "      <td>False</td>\n",
       "      <td>TRAPPIST-1e</td>\n",
       "      <td>24.000</td>\n",
       "      <td>False</td>\n",
       "      <td>109.000</td>\n",
       "      <td>9.000</td>\n",
       "      <td>25.000</td>\n",
       "      <td>549.000</td>\n",
       "      <td>44.000</td>\n",
       "      <td>Juanna Vines</td>\n",
       "      <td>True</td>\n",
       "      <td>F</td>\n",
       "      <td>0.000</td>\n",
       "      <td>S</td>\n",
       "    </tr>\n",
       "    <tr>\n",
       "      <th>2</th>\n",
       "      <td>0003_01</td>\n",
       "      <td>Europa</td>\n",
       "      <td>False</td>\n",
       "      <td>TRAPPIST-1e</td>\n",
       "      <td>58.000</td>\n",
       "      <td>True</td>\n",
       "      <td>43.000</td>\n",
       "      <td>3576.000</td>\n",
       "      <td>0.000</td>\n",
       "      <td>6715.000</td>\n",
       "      <td>49.000</td>\n",
       "      <td>Altark Susent</td>\n",
       "      <td>False</td>\n",
       "      <td>A</td>\n",
       "      <td>0.000</td>\n",
       "      <td>S</td>\n",
       "    </tr>\n",
       "    <tr>\n",
       "      <th>3</th>\n",
       "      <td>0003_02</td>\n",
       "      <td>Europa</td>\n",
       "      <td>False</td>\n",
       "      <td>TRAPPIST-1e</td>\n",
       "      <td>33.000</td>\n",
       "      <td>False</td>\n",
       "      <td>0.000</td>\n",
       "      <td>1283.000</td>\n",
       "      <td>371.000</td>\n",
       "      <td>3329.000</td>\n",
       "      <td>193.000</td>\n",
       "      <td>Solam Susent</td>\n",
       "      <td>False</td>\n",
       "      <td>A</td>\n",
       "      <td>0.000</td>\n",
       "      <td>S</td>\n",
       "    </tr>\n",
       "    <tr>\n",
       "      <th>4</th>\n",
       "      <td>0004_01</td>\n",
       "      <td>Earth</td>\n",
       "      <td>False</td>\n",
       "      <td>TRAPPIST-1e</td>\n",
       "      <td>16.000</td>\n",
       "      <td>False</td>\n",
       "      <td>303.000</td>\n",
       "      <td>70.000</td>\n",
       "      <td>151.000</td>\n",
       "      <td>565.000</td>\n",
       "      <td>2.000</td>\n",
       "      <td>Willy Santantines</td>\n",
       "      <td>True</td>\n",
       "      <td>F</td>\n",
       "      <td>1.000</td>\n",
       "      <td>S</td>\n",
       "    </tr>\n",
       "  </tbody>\n",
       "</table>\n",
       "</div>"
      ],
      "text/plain": [
       "  PassengerId HomePlanet CryoSleep  Destination    Age    VIP  RoomService  FoodCourt  ShoppingMall      Spa  VRDeck               Name  Transported Deck  Number Side\n",
       "0     0001_01     Europa     False  TRAPPIST-1e 39.000  False        0.000      0.000         0.000    0.000   0.000    Maham Ofracculy        False    B   0.000    P\n",
       "1     0002_01      Earth     False  TRAPPIST-1e 24.000  False      109.000      9.000        25.000  549.000  44.000       Juanna Vines         True    F   0.000    S\n",
       "2     0003_01     Europa     False  TRAPPIST-1e 58.000   True       43.000   3576.000         0.000 6715.000  49.000      Altark Susent        False    A   0.000    S\n",
       "3     0003_02     Europa     False  TRAPPIST-1e 33.000  False        0.000   1283.000       371.000 3329.000 193.000       Solam Susent        False    A   0.000    S\n",
       "4     0004_01      Earth     False  TRAPPIST-1e 16.000  False      303.000     70.000       151.000  565.000   2.000  Willy Santantines         True    F   1.000    S"
      ]
     },
     "execution_count": 21,
     "metadata": {},
     "output_type": "execute_result"
    }
   ],
   "source": [
    "train.head()"
   ]
  },
  {
   "cell_type": "code",
   "execution_count": 22,
   "id": "dcda3ede",
   "metadata": {
    "execution": {
     "iopub.execute_input": "2022-11-08T20:41:43.210451Z",
     "iopub.status.busy": "2022-11-08T20:41:43.210108Z",
     "iopub.status.idle": "2022-11-08T20:41:43.240335Z",
     "shell.execute_reply": "2022-11-08T20:41:43.239046Z"
    },
    "papermill": {
     "duration": 0.058153,
     "end_time": "2022-11-08T20:41:43.242042",
     "exception": false,
     "start_time": "2022-11-08T20:41:43.183889",
     "status": "completed"
    },
    "tags": []
   },
   "outputs": [
    {
     "data": {
      "text/html": [
       "<div>\n",
       "<style scoped>\n",
       "    .dataframe tbody tr th:only-of-type {\n",
       "        vertical-align: middle;\n",
       "    }\n",
       "\n",
       "    .dataframe tbody tr th {\n",
       "        vertical-align: top;\n",
       "    }\n",
       "\n",
       "    .dataframe thead th {\n",
       "        text-align: right;\n",
       "    }\n",
       "</style>\n",
       "<table border=\"1\" class=\"dataframe\">\n",
       "  <thead>\n",
       "    <tr style=\"text-align: right;\">\n",
       "      <th></th>\n",
       "      <th>Age</th>\n",
       "      <th>RoomService</th>\n",
       "      <th>FoodCourt</th>\n",
       "      <th>ShoppingMall</th>\n",
       "      <th>Spa</th>\n",
       "      <th>VRDeck</th>\n",
       "      <th>Number</th>\n",
       "    </tr>\n",
       "  </thead>\n",
       "  <tbody>\n",
       "    <tr>\n",
       "      <th>count</th>\n",
       "      <td>8514.000</td>\n",
       "      <td>8512.000</td>\n",
       "      <td>8510.000</td>\n",
       "      <td>8485.000</td>\n",
       "      <td>8510.000</td>\n",
       "      <td>8505.000</td>\n",
       "      <td>8494.000</td>\n",
       "    </tr>\n",
       "    <tr>\n",
       "      <th>mean</th>\n",
       "      <td>28.828</td>\n",
       "      <td>224.688</td>\n",
       "      <td>458.077</td>\n",
       "      <td>173.729</td>\n",
       "      <td>311.139</td>\n",
       "      <td>304.855</td>\n",
       "      <td>600.368</td>\n",
       "    </tr>\n",
       "    <tr>\n",
       "      <th>std</th>\n",
       "      <td>14.489</td>\n",
       "      <td>666.718</td>\n",
       "      <td>1611.489</td>\n",
       "      <td>604.696</td>\n",
       "      <td>1136.706</td>\n",
       "      <td>1145.717</td>\n",
       "      <td>511.867</td>\n",
       "    </tr>\n",
       "    <tr>\n",
       "      <th>min</th>\n",
       "      <td>0.000</td>\n",
       "      <td>0.000</td>\n",
       "      <td>0.000</td>\n",
       "      <td>0.000</td>\n",
       "      <td>0.000</td>\n",
       "      <td>0.000</td>\n",
       "      <td>0.000</td>\n",
       "    </tr>\n",
       "    <tr>\n",
       "      <th>25%</th>\n",
       "      <td>19.000</td>\n",
       "      <td>0.000</td>\n",
       "      <td>0.000</td>\n",
       "      <td>0.000</td>\n",
       "      <td>0.000</td>\n",
       "      <td>0.000</td>\n",
       "      <td>167.250</td>\n",
       "    </tr>\n",
       "    <tr>\n",
       "      <th>50%</th>\n",
       "      <td>27.000</td>\n",
       "      <td>0.000</td>\n",
       "      <td>0.000</td>\n",
       "      <td>0.000</td>\n",
       "      <td>0.000</td>\n",
       "      <td>0.000</td>\n",
       "      <td>427.000</td>\n",
       "    </tr>\n",
       "    <tr>\n",
       "      <th>75%</th>\n",
       "      <td>38.000</td>\n",
       "      <td>47.000</td>\n",
       "      <td>76.000</td>\n",
       "      <td>27.000</td>\n",
       "      <td>59.000</td>\n",
       "      <td>46.000</td>\n",
       "      <td>999.000</td>\n",
       "    </tr>\n",
       "    <tr>\n",
       "      <th>max</th>\n",
       "      <td>79.000</td>\n",
       "      <td>14327.000</td>\n",
       "      <td>29813.000</td>\n",
       "      <td>23492.000</td>\n",
       "      <td>22408.000</td>\n",
       "      <td>24133.000</td>\n",
       "      <td>1894.000</td>\n",
       "    </tr>\n",
       "  </tbody>\n",
       "</table>\n",
       "</div>"
      ],
      "text/plain": [
       "           Age  RoomService  FoodCourt  ShoppingMall       Spa    VRDeck   Number\n",
       "count 8514.000     8512.000   8510.000      8485.000  8510.000  8505.000 8494.000\n",
       "mean    28.828      224.688    458.077       173.729   311.139   304.855  600.368\n",
       "std     14.489      666.718   1611.489       604.696  1136.706  1145.717  511.867\n",
       "min      0.000        0.000      0.000         0.000     0.000     0.000    0.000\n",
       "25%     19.000        0.000      0.000         0.000     0.000     0.000  167.250\n",
       "50%     27.000        0.000      0.000         0.000     0.000     0.000  427.000\n",
       "75%     38.000       47.000     76.000        27.000    59.000    46.000  999.000\n",
       "max     79.000    14327.000  29813.000     23492.000 22408.000 24133.000 1894.000"
      ]
     },
     "execution_count": 22,
     "metadata": {},
     "output_type": "execute_result"
    }
   ],
   "source": [
    "train.describe()"
   ]
  },
  {
   "cell_type": "code",
   "execution_count": 23,
   "id": "dda74b0f",
   "metadata": {
    "execution": {
     "iopub.execute_input": "2022-11-08T20:41:43.293561Z",
     "iopub.status.busy": "2022-11-08T20:41:43.293257Z",
     "iopub.status.idle": "2022-11-08T20:41:43.307545Z",
     "shell.execute_reply": "2022-11-08T20:41:43.306003Z"
    },
    "papermill": {
     "duration": 0.04235,
     "end_time": "2022-11-08T20:41:43.309348",
     "exception": false,
     "start_time": "2022-11-08T20:41:43.266998",
     "status": "completed"
    },
    "tags": []
   },
   "outputs": [
    {
     "name": "stdout",
     "output_type": "stream",
     "text": [
      "<class 'pandas.core.frame.DataFrame'>\n",
      "RangeIndex: 8693 entries, 0 to 8692\n",
      "Data columns (total 16 columns):\n",
      " #   Column        Non-Null Count  Dtype  \n",
      "---  ------        --------------  -----  \n",
      " 0   PassengerId   8693 non-null   object \n",
      " 1   HomePlanet    8492 non-null   object \n",
      " 2   CryoSleep     8476 non-null   object \n",
      " 3   Destination   8511 non-null   object \n",
      " 4   Age           8514 non-null   float64\n",
      " 5   VIP           8490 non-null   object \n",
      " 6   RoomService   8512 non-null   float64\n",
      " 7   FoodCourt     8510 non-null   float64\n",
      " 8   ShoppingMall  8485 non-null   float64\n",
      " 9   Spa           8510 non-null   float64\n",
      " 10  VRDeck        8505 non-null   float64\n",
      " 11  Name          8493 non-null   object \n",
      " 12  Transported   8693 non-null   bool   \n",
      " 13  Deck          8494 non-null   object \n",
      " 14  Number        8494 non-null   float64\n",
      " 15  Side          8494 non-null   object \n",
      "dtypes: bool(1), float64(7), object(8)\n",
      "memory usage: 1.0+ MB\n"
     ]
    }
   ],
   "source": [
    "train.info()"
   ]
  },
  {
   "cell_type": "code",
   "execution_count": 24,
   "id": "7c1118b3",
   "metadata": {
    "execution": {
     "iopub.execute_input": "2022-11-08T20:41:43.360685Z",
     "iopub.status.busy": "2022-11-08T20:41:43.360355Z",
     "iopub.status.idle": "2022-11-08T20:41:43.878388Z",
     "shell.execute_reply": "2022-11-08T20:41:43.877186Z"
    },
    "papermill": {
     "duration": 0.54622,
     "end_time": "2022-11-08T20:41:43.880364",
     "exception": false,
     "start_time": "2022-11-08T20:41:43.334144",
     "status": "completed"
    },
    "tags": []
   },
   "outputs": [
    {
     "data": {
      "image/png": "[encoded data removed]",
      "text/plain": [
       "<Figure size 1800x720 with 2 Axes>"
      ]
     },
     "metadata": {
      "needs_background": "light"
     },
     "output_type": "display_data"
    }
   ],
   "source": [
    "msno.matrix(train, color=(0.3, 0, 0.2))\n",
    "plt.title('Distribution Missing Values',fontsize=30);"
   ]
  },
  {
   "cell_type": "code",
   "execution_count": 25,
   "id": "f73fd33b",
   "metadata": {
    "execution": {
     "iopub.execute_input": "2022-11-08T20:41:43.934836Z",
     "iopub.status.busy": "2022-11-08T20:41:43.934493Z",
     "iopub.status.idle": "2022-11-08T20:41:43.945140Z",
     "shell.execute_reply": "2022-11-08T20:41:43.944270Z"
    },
    "papermill": {
     "duration": 0.040215,
     "end_time": "2022-11-08T20:41:43.946827",
     "exception": false,
     "start_time": "2022-11-08T20:41:43.906612",
     "status": "completed"
    },
    "tags": []
   },
   "outputs": [
    {
     "data": {
      "text/plain": [
       "PassengerId       0\n",
       "HomePlanet      201\n",
       "CryoSleep       217\n",
       "Destination     182\n",
       "Age             179\n",
       "VIP             203\n",
       "RoomService     181\n",
       "FoodCourt       183\n",
       "ShoppingMall    208\n",
       "Spa             183\n",
       "VRDeck          188\n",
       "Name            200\n",
       "Transported       0\n",
       "Deck            199\n",
       "Number          199\n",
       "Side            199\n",
       "dtype: int64"
      ]
     },
     "execution_count": 25,
     "metadata": {},
     "output_type": "execute_result"
    }
   ],
   "source": [
    "train.isna().sum()"
   ]
  },
  {
   "cell_type": "code",
   "execution_count": 26,
   "id": "c6c4aa3c",
   "metadata": {
    "execution": {
     "iopub.execute_input": "2022-11-08T20:41:44.002143Z",
     "iopub.status.busy": "2022-11-08T20:41:44.000910Z",
     "iopub.status.idle": "2022-11-08T20:41:44.023147Z",
     "shell.execute_reply": "2022-11-08T20:41:44.021615Z"
    },
    "papermill": {
     "duration": 0.053027,
     "end_time": "2022-11-08T20:41:44.026091",
     "exception": false,
     "start_time": "2022-11-08T20:41:43.973064",
     "status": "completed"
    },
    "tags": []
   },
   "outputs": [
    {
     "data": {
      "text/plain": [
       "PassengerId     8693\n",
       "HomePlanet         3\n",
       "CryoSleep          2\n",
       "Destination        3\n",
       "Age               80\n",
       "VIP                2\n",
       "RoomService     1273\n",
       "FoodCourt       1507\n",
       "ShoppingMall    1115\n",
       "Spa             1327\n",
       "VRDeck          1306\n",
       "Name            8473\n",
       "Transported        2\n",
       "Deck               8\n",
       "Number          1817\n",
       "Side               2\n",
       "dtype: int64"
      ]
     },
     "execution_count": 26,
     "metadata": {},
     "output_type": "execute_result"
    }
   ],
   "source": [
    "train.nunique()"
   ]
  },
  {
   "cell_type": "code",
   "execution_count": 27,
   "id": "aab01821",
   "metadata": {
    "execution": {
     "iopub.execute_input": "2022-11-08T20:41:44.080082Z",
     "iopub.status.busy": "2022-11-08T20:41:44.079756Z",
     "iopub.status.idle": "2022-11-08T20:41:44.095550Z",
     "shell.execute_reply": "2022-11-08T20:41:44.094338Z"
    },
    "papermill": {
     "duration": 0.045946,
     "end_time": "2022-11-08T20:41:44.097930",
     "exception": false,
     "start_time": "2022-11-08T20:41:44.051984",
     "status": "completed"
    },
    "tags": []
   },
   "outputs": [
    {
     "data": {
      "text/html": [
       "<div>\n",
       "<style scoped>\n",
       "    .dataframe tbody tr th:only-of-type {\n",
       "        vertical-align: middle;\n",
       "    }\n",
       "\n",
       "    .dataframe tbody tr th {\n",
       "        vertical-align: top;\n",
       "    }\n",
       "\n",
       "    .dataframe thead th {\n",
       "        text-align: right;\n",
       "    }\n",
       "</style>\n",
       "<table border=\"1\" class=\"dataframe\">\n",
       "  <thead>\n",
       "    <tr style=\"text-align: right;\">\n",
       "      <th></th>\n",
       "      <th>PassengerId</th>\n",
       "      <th>HomePlanet</th>\n",
       "      <th>CryoSleep</th>\n",
       "      <th>Destination</th>\n",
       "      <th>Age</th>\n",
       "      <th>VIP</th>\n",
       "      <th>RoomService</th>\n",
       "      <th>FoodCourt</th>\n",
       "      <th>ShoppingMall</th>\n",
       "      <th>Spa</th>\n",
       "      <th>VRDeck</th>\n",
       "      <th>Name</th>\n",
       "      <th>Transported</th>\n",
       "      <th>Deck</th>\n",
       "      <th>Number</th>\n",
       "      <th>Side</th>\n",
       "    </tr>\n",
       "  </thead>\n",
       "  <tbody>\n",
       "    <tr>\n",
       "      <th>0</th>\n",
       "      <td>0001_01</td>\n",
       "      <td>Europa</td>\n",
       "      <td>False</td>\n",
       "      <td>TRAPPIST-1e</td>\n",
       "      <td>39.000</td>\n",
       "      <td>False</td>\n",
       "      <td>0.000</td>\n",
       "      <td>0.000</td>\n",
       "      <td>0.000</td>\n",
       "      <td>0.000</td>\n",
       "      <td>0.000</td>\n",
       "      <td>Maham Ofracculy</td>\n",
       "      <td>False</td>\n",
       "      <td>B</td>\n",
       "      <td>0.000</td>\n",
       "      <td>P</td>\n",
       "    </tr>\n",
       "    <tr>\n",
       "      <th>1</th>\n",
       "      <td>0002_01</td>\n",
       "      <td>Earth</td>\n",
       "      <td>False</td>\n",
       "      <td>TRAPPIST-1e</td>\n",
       "      <td>24.000</td>\n",
       "      <td>False</td>\n",
       "      <td>109.000</td>\n",
       "      <td>9.000</td>\n",
       "      <td>25.000</td>\n",
       "      <td>549.000</td>\n",
       "      <td>44.000</td>\n",
       "      <td>Juanna Vines</td>\n",
       "      <td>True</td>\n",
       "      <td>F</td>\n",
       "      <td>0.000</td>\n",
       "      <td>S</td>\n",
       "    </tr>\n",
       "    <tr>\n",
       "      <th>2</th>\n",
       "      <td>0003_01</td>\n",
       "      <td>Europa</td>\n",
       "      <td>False</td>\n",
       "      <td>TRAPPIST-1e</td>\n",
       "      <td>58.000</td>\n",
       "      <td>True</td>\n",
       "      <td>43.000</td>\n",
       "      <td>3576.000</td>\n",
       "      <td>0.000</td>\n",
       "      <td>6715.000</td>\n",
       "      <td>49.000</td>\n",
       "      <td>Altark Susent</td>\n",
       "      <td>False</td>\n",
       "      <td>A</td>\n",
       "      <td>0.000</td>\n",
       "      <td>S</td>\n",
       "    </tr>\n",
       "    <tr>\n",
       "      <th>3</th>\n",
       "      <td>0003_02</td>\n",
       "      <td>Europa</td>\n",
       "      <td>False</td>\n",
       "      <td>TRAPPIST-1e</td>\n",
       "      <td>33.000</td>\n",
       "      <td>False</td>\n",
       "      <td>0.000</td>\n",
       "      <td>1283.000</td>\n",
       "      <td>371.000</td>\n",
       "      <td>3329.000</td>\n",
       "      <td>193.000</td>\n",
       "      <td>Solam Susent</td>\n",
       "      <td>False</td>\n",
       "      <td>A</td>\n",
       "      <td>0.000</td>\n",
       "      <td>S</td>\n",
       "    </tr>\n",
       "    <tr>\n",
       "      <th>4</th>\n",
       "      <td>0004_01</td>\n",
       "      <td>Earth</td>\n",
       "      <td>False</td>\n",
       "      <td>TRAPPIST-1e</td>\n",
       "      <td>16.000</td>\n",
       "      <td>False</td>\n",
       "      <td>303.000</td>\n",
       "      <td>70.000</td>\n",
       "      <td>151.000</td>\n",
       "      <td>565.000</td>\n",
       "      <td>2.000</td>\n",
       "      <td>Willy Santantines</td>\n",
       "      <td>True</td>\n",
       "      <td>F</td>\n",
       "      <td>1.000</td>\n",
       "      <td>S</td>\n",
       "    </tr>\n",
       "  </tbody>\n",
       "</table>\n",
       "</div>"
      ],
      "text/plain": [
       "  PassengerId HomePlanet CryoSleep  Destination    Age    VIP  RoomService  FoodCourt  ShoppingMall      Spa  VRDeck               Name  Transported Deck  Number Side\n",
       "0     0001_01     Europa     False  TRAPPIST-1e 39.000  False        0.000      0.000         0.000    0.000   0.000    Maham Ofracculy        False    B   0.000    P\n",
       "1     0002_01      Earth     False  TRAPPIST-1e 24.000  False      109.000      9.000        25.000  549.000  44.000       Juanna Vines         True    F   0.000    S\n",
       "2     0003_01     Europa     False  TRAPPIST-1e 58.000   True       43.000   3576.000         0.000 6715.000  49.000      Altark Susent        False    A   0.000    S\n",
       "3     0003_02     Europa     False  TRAPPIST-1e 33.000  False        0.000   1283.000       371.000 3329.000 193.000       Solam Susent        False    A   0.000    S\n",
       "4     0004_01      Earth     False  TRAPPIST-1e 16.000  False      303.000     70.000       151.000  565.000   2.000  Willy Santantines         True    F   1.000    S"
      ]
     },
     "execution_count": 27,
     "metadata": {},
     "output_type": "execute_result"
    }
   ],
   "source": [
    "train.head()"
   ]
  },
  {
   "cell_type": "code",
   "execution_count": 28,
   "id": "3f963b16",
   "metadata": {
    "execution": {
     "iopub.execute_input": "2022-11-08T20:41:44.152792Z",
     "iopub.status.busy": "2022-11-08T20:41:44.152486Z",
     "iopub.status.idle": "2022-11-08T20:41:44.157726Z",
     "shell.execute_reply": "2022-11-08T20:41:44.156563Z"
    },
    "papermill": {
     "duration": 0.035173,
     "end_time": "2022-11-08T20:41:44.159579",
     "exception": false,
     "start_time": "2022-11-08T20:41:44.124406",
     "status": "completed"
    },
    "tags": []
   },
   "outputs": [],
   "source": [
    "cat_cols = [\"HomePlanet\",\"CryoSleep\",\"Destination\",\"VIP\",\"Deck\",\"Side\"] "
   ]
  },
  {
   "cell_type": "code",
   "execution_count": 29,
   "id": "e71d33b2",
   "metadata": {
    "execution": {
     "iopub.execute_input": "2022-11-08T20:41:44.213680Z",
     "iopub.status.busy": "2022-11-08T20:41:44.213378Z",
     "iopub.status.idle": "2022-11-08T20:41:44.218729Z",
     "shell.execute_reply": "2022-11-08T20:41:44.217283Z"
    },
    "papermill": {
     "duration": 0.035044,
     "end_time": "2022-11-08T20:41:44.220986",
     "exception": false,
     "start_time": "2022-11-08T20:41:44.185942",
     "status": "completed"
    },
    "tags": []
   },
   "outputs": [],
   "source": [
    "num_cols = [\"Age\", \"RoomService\", \"FoodCourt\", \"ShoppingMall\", \"Spa\", \"VRDeck\"]"
   ]
  },
  {
   "cell_type": "code",
   "execution_count": 30,
   "id": "4bae0f8b",
   "metadata": {
    "execution": {
     "iopub.execute_input": "2022-11-08T20:41:44.277022Z",
     "iopub.status.busy": "2022-11-08T20:41:44.276705Z",
     "iopub.status.idle": "2022-11-08T20:41:44.284898Z",
     "shell.execute_reply": "2022-11-08T20:41:44.283976Z"
    },
    "papermill": {
     "duration": 0.038421,
     "end_time": "2022-11-08T20:41:44.286446",
     "exception": false,
     "start_time": "2022-11-08T20:41:44.248025",
     "status": "completed"
    },
    "tags": []
   },
   "outputs": [],
   "source": [
    "# We change our target variable from True/False to 1/0 so that we can use it later when examining distributions.\n",
    "# 1 = True\n",
    "# 0 = False\n",
    "train[\"Transported\"] = train[\"Transported\"].apply(lambda x : 1 if x == True else 0)"
   ]
  },
  {
   "cell_type": "code",
   "execution_count": 31,
   "id": "659e409d",
   "metadata": {
    "execution": {
     "iopub.execute_input": "2022-11-08T20:41:44.341754Z",
     "iopub.status.busy": "2022-11-08T20:41:44.341164Z",
     "iopub.status.idle": "2022-11-08T20:41:44.350669Z",
     "shell.execute_reply": "2022-11-08T20:41:44.349408Z"
    },
    "papermill": {
     "duration": 0.040346,
     "end_time": "2022-11-08T20:41:44.353216",
     "exception": false,
     "start_time": "2022-11-08T20:41:44.312870",
     "status": "completed"
    },
    "tags": []
   },
   "outputs": [
    {
     "data": {
      "text/plain": [
       "0       0\n",
       "1       1\n",
       "2       0\n",
       "3       0\n",
       "4       1\n",
       "       ..\n",
       "8688    0\n",
       "8689    0\n",
       "8690    1\n",
       "8691    0\n",
       "8692    1\n",
       "Name: Transported, Length: 8693, dtype: int64"
      ]
     },
     "execution_count": 31,
     "metadata": {},
     "output_type": "execute_result"
    }
   ],
   "source": [
    "train[\"Transported\"]"
   ]
  },
  {
   "cell_type": "markdown",
   "id": "0b781939",
   "metadata": {
    "papermill": {
     "duration": 0.027134,
     "end_time": "2022-11-08T20:41:44.407452",
     "exception": false,
     "start_time": "2022-11-08T20:41:44.380318",
     "status": "completed"
    },
    "tags": []
   },
   "source": [
    "[back to contents &#10548;](#0.)\n",
    "<a class=\"anchor\" id=\"4.1.1.\"> \n",
    "<center> <h1 style=\"background-color:indigo; color:white\" >Analysis of Categorical Variables &#128202;</h1>\n",
    "    <center>\n",
    " <a/>"
   ]
  },
  {
   "cell_type": "code",
   "execution_count": 32,
   "id": "525fe4fe",
   "metadata": {
    "execution": {
     "iopub.execute_input": "2022-11-08T20:41:44.464632Z",
     "iopub.status.busy": "2022-11-08T20:41:44.464305Z",
     "iopub.status.idle": "2022-11-08T20:41:45.484701Z",
     "shell.execute_reply": "2022-11-08T20:41:45.483065Z"
    },
    "papermill": {
     "duration": 1.052623,
     "end_time": "2022-11-08T20:41:45.487475",
     "exception": false,
     "start_time": "2022-11-08T20:41:44.434852",
     "status": "completed"
    },
    "tags": []
   },
   "outputs": [
    {
     "name": "stdout",
     "output_type": "stream",
     "text": [
      "        Count  Ratio  TARGET_MEAN\n",
      "Earth    4602 52.939        0.424\n",
      "Europa   2131 24.514        0.659\n",
      "Mars     1759 20.235        0.523\n"
     ]
    },
    {
     "data": {
      "image/png": "[encoded data removed]",
      "text/plain": [
       "<Figure size 432x288 with 1 Axes>"
      ]
     },
     "metadata": {
      "needs_background": "light"
     },
     "output_type": "display_data"
    },
    {
     "name": "stdout",
     "output_type": "stream",
     "text": [
      "       Count  Ratio  TARGET_MEAN\n",
      "False   5439 62.568        0.329\n",
      "True    3037 34.936        0.818\n"
     ]
    },
    {
     "data": {
      "image/png": "[encoded data removed]",
      "text/plain": [
       "<Figure size 432x288 with 1 Axes>"
      ]
     },
     "metadata": {
      "needs_background": "light"
     },
     "output_type": "display_data"
    },
    {
     "name": "stdout",
     "output_type": "stream",
     "text": [
      "               Count  Ratio  TARGET_MEAN\n",
      "55 Cancri e     1800 20.706        0.610\n",
      "PSO J318.5-22    796  9.157        0.504\n",
      "TRAPPIST-1e     5915 68.043        0.471\n"
     ]
    },
    {
     "data": {
      "image/png": "[encoded data removed]",
      "text/plain": [
       "<Figure size 432x288 with 1 Axes>"
      ]
     },
     "metadata": {
      "needs_background": "light"
     },
     "output_type": "display_data"
    },
    {
     "name": "stdout",
     "output_type": "stream",
     "text": [
      "       Count  Ratio  TARGET_MEAN\n",
      "False   8291 95.376        0.506\n",
      "True     199  2.289        0.382\n"
     ]
    },
    {
     "data": {
      "image/png": "[encoded data removed]",
      "text/plain": [
       "<Figure size 432x288 with 1 Axes>"
      ]
     },
     "metadata": {
      "needs_background": "light"
     },
     "output_type": "display_data"
    },
    {
     "name": "stdout",
     "output_type": "stream",
     "text": [
      "   Count  Ratio  TARGET_MEAN\n",
      "A    256  2.945        0.496\n",
      "B    779  8.961        0.734\n",
      "C    747  8.593        0.680\n",
      "D    478  5.499        0.433\n",
      "E    876 10.077        0.357\n",
      "F   2794 32.141        0.440\n",
      "G   2559 29.437        0.516\n",
      "T      5  0.058        0.200\n"
     ]
    },
    {
     "data": {
      "image/png": "[encoded data removed]",
      "text/plain": [
       "<Figure size 432x288 with 1 Axes>"
      ]
     },
     "metadata": {
      "needs_background": "light"
     },
     "output_type": "display_data"
    },
    {
     "name": "stdout",
     "output_type": "stream",
     "text": [
      "   Count  Ratio  TARGET_MEAN\n",
      "P   4206 48.384        0.451\n",
      "S   4288 49.327        0.555\n"
     ]
    },
    {
     "data": {
      "image/png": "[encoded data removed]",
      "text/plain": [
       "<Figure size 432x288 with 1 Axes>"
      ]
     },
     "metadata": {
      "needs_background": "light"
     },
     "output_type": "display_data"
    }
   ],
   "source": [
    "for col in cat_cols:\n",
    "    cat_summary(train, col, 'Transported', plot=True)"
   ]
  },
  {
   "cell_type": "markdown",
   "id": "1b1e2693",
   "metadata": {
    "papermill": {
     "duration": 0.029255,
     "end_time": "2022-11-08T20:41:45.551696",
     "exception": false,
     "start_time": "2022-11-08T20:41:45.522441",
     "status": "completed"
    },
    "tags": []
   },
   "source": [
    "[back to contents &#10548;](#0.)\n",
    "<a class=\"anchor\" id=\"4.1.1.1.\"> \n",
    "<center> <h1 style=\"background-color:indigo; color:white\" >Handling Missing Values</h1>\n",
    "    <center>\n",
    " <a/>"
   ]
  },
  {
   "cell_type": "code",
   "execution_count": 33,
   "id": "87f25fc6",
   "metadata": {
    "execution": {
     "iopub.execute_input": "2022-11-08T20:41:45.610504Z",
     "iopub.status.busy": "2022-11-08T20:41:45.610018Z",
     "iopub.status.idle": "2022-11-08T20:41:45.618928Z",
     "shell.execute_reply": "2022-11-08T20:41:45.617601Z"
    },
    "papermill": {
     "duration": 0.041358,
     "end_time": "2022-11-08T20:41:45.621740",
     "exception": false,
     "start_time": "2022-11-08T20:41:45.580382",
     "status": "completed"
    },
    "tags": []
   },
   "outputs": [],
   "source": [
    "#Filling in Missing Values With the Most Repeative Data\n",
    "train[\"HomePlanet\"] = train[\"HomePlanet\"].fillna(\"Earth\")\n",
    "train[\"Destination\"] = train[\"Destination\"].fillna(\"TRAPPIST-1e\")\n",
    "train[\"Deck\"] = train[\"Deck\"].fillna(\"F\")\n",
    "train[\"Side\"] = train[\"Side\"].fillna(\"S\")"
   ]
  },
  {
   "cell_type": "code",
   "execution_count": 34,
   "id": "68de77a4",
   "metadata": {
    "execution": {
     "iopub.execute_input": "2022-11-08T20:41:45.682148Z",
     "iopub.status.busy": "2022-11-08T20:41:45.681799Z",
     "iopub.status.idle": "2022-11-08T20:41:45.688033Z",
     "shell.execute_reply": "2022-11-08T20:41:45.687072Z"
    },
    "papermill": {
     "duration": 0.039336,
     "end_time": "2022-11-08T20:41:45.690179",
     "exception": false,
     "start_time": "2022-11-08T20:41:45.650843",
     "status": "completed"
    },
    "tags": []
   },
   "outputs": [],
   "source": [
    "# Filling in Missing Values With the Mode CryoSleep\n",
    "train[\"CryoSleep\"] = train[\"CryoSleep\"].fillna(False)"
   ]
  },
  {
   "cell_type": "code",
   "execution_count": 35,
   "id": "2654f005",
   "metadata": {
    "execution": {
     "iopub.execute_input": "2022-11-08T20:41:45.748119Z",
     "iopub.status.busy": "2022-11-08T20:41:45.747584Z",
     "iopub.status.idle": "2022-11-08T20:41:45.752891Z",
     "shell.execute_reply": "2022-11-08T20:41:45.752325Z"
    },
    "papermill": {
     "duration": 0.036402,
     "end_time": "2022-11-08T20:41:45.754790",
     "exception": false,
     "start_time": "2022-11-08T20:41:45.718388",
     "status": "completed"
    },
    "tags": []
   },
   "outputs": [],
   "source": [
    "# Filling in Missing Values With the Mode VIP\n",
    "train[\"VIP\"] = train[\"VIP\"].fillna(False)"
   ]
  },
  {
   "cell_type": "markdown",
   "id": "4d52c99c",
   "metadata": {
    "papermill": {
     "duration": 0.028167,
     "end_time": "2022-11-08T20:41:45.811099",
     "exception": false,
     "start_time": "2022-11-08T20:41:45.782932",
     "status": "completed"
    },
    "tags": []
   },
   "source": [
    "[back to contents &#10548;](#0.)\n",
    "<a class=\"anchor\" id=\"4.1.2.\"> \n",
    "<center> <h1 style=\"background-color:indigo; color:white\" >Analysis of Numerical Variables &#128202;</h1>\n",
    "    <center>\n",
    " <a/>"
   ]
  },
  {
   "cell_type": "code",
   "execution_count": 36,
   "id": "da6e71eb",
   "metadata": {
    "execution": {
     "iopub.execute_input": "2022-11-08T20:41:45.868929Z",
     "iopub.status.busy": "2022-11-08T20:41:45.868569Z",
     "iopub.status.idle": "2022-11-08T20:41:45.880936Z",
     "shell.execute_reply": "2022-11-08T20:41:45.879686Z"
    },
    "papermill": {
     "duration": 0.043993,
     "end_time": "2022-11-08T20:41:45.883374",
     "exception": false,
     "start_time": "2022-11-08T20:41:45.839381",
     "status": "completed"
    },
    "tags": []
   },
   "outputs": [],
   "source": [
    "#Özelliklerin kalite puanları ile ilişkisini göstermek için kullanılacak\n",
    "#çizim türleri\n",
    "def multi_plot(dataset, rows, cols, plot_type):\n",
    "    \"\"\"\n",
    "    dataset: Veri seti\n",
    "    rows: Satır sayısı\n",
    "    cols: sütün sayısı\n",
    "    plot_type: Çizdirilecek grafik türü\n",
    "    \"\"\"\n",
    "    \n",
    "    #Veri setindeki sütünların isimleri alınıyor\n",
    "    column_names=dataset.columns.values\n",
    "    #Kaç tane sütün olduğu bulunuyor\n",
    "    number_of_column=len(column_names)\n",
    "    \n",
    "    #Satır*sütün boyutlarında alt grafik içeren\n",
    "    #matris oluşturuluyor. Matrisin genişliği:22 yüksekliği:16\n",
    "    fig, axarr=plt.subplots(rows,cols, figsize=(22,16))\n",
    "\n",
    "    counter=0# Çizimi yapılacak özelliğin column_names listesindeki indeks değerini tutuyor\n",
    "    for i in range(rows):\n",
    "        for j in range(cols):\n",
    "            \"\"\"\n",
    "            i: satır numarasını tutuyor\n",
    "            j: sütün numarasını tutuyor\n",
    "            axarr[i][j]: Çizilen grafigin grafik matrisindeki yerini belirliyor\n",
    "            \"\"\"\n",
    "            if 'violin' in plot_type:\n",
    "                sns.violinplot(x='transported', y=column_names[counter],data=dataset, ax=axarr[i][j],color=\"darkred\")\n",
    "            elif 'box'in plot_type :\n",
    "                sns.boxplot(x='transported', y=column_names[counter],data=dataset, ax=axarr[i][j],color=\"darkred\")\n",
    "            elif 'point' in plot_type:\n",
    "                sns.pointplot(x='transported',y=column_names[counter],data=dataset, ax=axarr[i][j],color=\"darkred\")\n",
    "            elif 'bar' in plot_type:\n",
    "                sns.barplot(x='transported',y=column_names[counter],data=dataset, ax=axarr[i][j],color=\"darkred\")\n",
    "            elif 'line' in plot_type:\n",
    "                sns.lineplot(x='transported',y=column_names[counter],data=dataset, ax=axarr[i][j],color=\"darkred\")\n",
    "                \n",
    "            counter+=1\n",
    "            if counter==(number_of_column-1,):\n",
    "                break"
   ]
  },
  {
   "cell_type": "code",
   "execution_count": 37,
   "id": "a87d29c8",
   "metadata": {
    "execution": {
     "iopub.execute_input": "2022-11-08T20:41:45.941977Z",
     "iopub.status.busy": "2022-11-08T20:41:45.941203Z",
     "iopub.status.idle": "2022-11-08T20:41:45.945391Z",
     "shell.execute_reply": "2022-11-08T20:41:45.944679Z"
    },
    "papermill": {
     "duration": 0.035721,
     "end_time": "2022-11-08T20:41:45.947153",
     "exception": false,
     "start_time": "2022-11-08T20:41:45.911432",
     "status": "completed"
    },
    "tags": []
   },
   "outputs": [],
   "source": [
    "num_cols_ = [\"RoomService\", \"FoodCourt\", \"ShoppingMall\", \"Spa\", \"VRDeck\"]"
   ]
  },
  {
   "cell_type": "code",
   "execution_count": 38,
   "id": "a204ea07",
   "metadata": {
    "execution": {
     "iopub.execute_input": "2022-11-08T20:41:46.006502Z",
     "iopub.status.busy": "2022-11-08T20:41:46.005606Z",
     "iopub.status.idle": "2022-11-08T20:41:46.012638Z",
     "shell.execute_reply": "2022-11-08T20:41:46.011896Z"
    },
    "papermill": {
     "duration": 0.039336,
     "end_time": "2022-11-08T20:41:46.014828",
     "exception": false,
     "start_time": "2022-11-08T20:41:45.975492",
     "status": "completed"
    },
    "tags": []
   },
   "outputs": [],
   "source": [
    "def num_summary(dataframe, numerical_col, plot=False):\n",
    "    quantiles = [0.05, 0.20, 0.40, 0.60, 0.80, 0.90, 0.95, 0.99]\n",
    "    print(dataframe[numerical_col].describe(quantiles).T)\n",
    "\n",
    "    if plot:\n",
    "        \n",
    "        plt.figure(figsize=(12,4))  \n",
    "        dataframe[numerical_col].hist(bins=30, stacked=True, histtype='barstacked',color='purple')\n",
    "        plt.xlabel(numerical_col)\n",
    "        plt.title(\"Orjinal\")\n",
    "        \n",
    "        \n",
    "        plt.figure(figsize=(12,4)) \n",
    "        dataframe[numerical_col].hist(bins=30, stacked=True, histtype='barstacked',color='orchid')\n",
    "        plt.ylim([0,100])\n",
    "        plt.xlabel(numerical_col)\n",
    "        plt.title(\"Resize\")\n",
    "        \n",
    "        plt.show()"
   ]
  },
  {
   "cell_type": "code",
   "execution_count": 39,
   "id": "a97ddb68",
   "metadata": {
    "execution": {
     "iopub.execute_input": "2022-11-08T20:41:46.074174Z",
     "iopub.status.busy": "2022-11-08T20:41:46.073819Z",
     "iopub.status.idle": "2022-11-08T20:41:47.864191Z",
     "shell.execute_reply": "2022-11-08T20:41:47.863081Z"
    },
    "papermill": {
     "duration": 1.822627,
     "end_time": "2022-11-08T20:41:47.866237",
     "exception": false,
     "start_time": "2022-11-08T20:41:46.043610",
     "status": "completed"
    },
    "tags": []
   },
   "outputs": [
    {
     "name": "stdout",
     "output_type": "stream",
     "text": [
      "count    8512.000\n",
      "mean      224.688\n",
      "std       666.718\n",
      "min         0.000\n",
      "5%          0.000\n",
      "20%         0.000\n",
      "40%         0.000\n",
      "50%         0.000\n",
      "60%         0.000\n",
      "80%       175.600\n",
      "90%       753.000\n",
      "95%      1274.250\n",
      "99%      3096.230\n",
      "max     14327.000\n",
      "Name: RoomService, dtype: float64\n"
     ]
    },
    {
     "data": {
      "image/png": "[encoded data removed]",
      "text/plain": [
       "<Figure size 864x288 with 1 Axes>"
      ]
     },
     "metadata": {
      "needs_background": "light"
     },
     "output_type": "display_data"
    },
    {
     "data": {
      "image/png": "[encoded data removed]",
      "text/plain": [
       "<Figure size 864x288 with 1 Axes>"
      ]
     },
     "metadata": {
      "needs_background": "light"
     },
     "output_type": "display_data"
    },
    {
     "name": "stdout",
     "output_type": "stream",
     "text": [
      "count    8510.000\n",
      "mean      458.077\n",
      "std      1611.489\n",
      "min         0.000\n",
      "5%          0.000\n",
      "20%         0.000\n",
      "40%         0.000\n",
      "50%         0.000\n",
      "60%         0.000\n",
      "80%       258.000\n",
      "90%      1026.000\n",
      "95%      2748.500\n",
      "99%      8033.310\n",
      "max     29813.000\n",
      "Name: FoodCourt, dtype: float64\n"
     ]
    },
    {
     "data": {
      "image/png": "[encoded data removed]",
      "text/plain": [
       "<Figure size 864x288 with 1 Axes>"
      ]
     },
     "metadata": {
      "needs_background": "light"
     },
     "output_type": "display_data"
    },
    {
     "data": {
      "image/png": "[encoded data removed]",
      "text/plain": [
       "<Figure size 864x288 with 1 Axes>"
      ]
     },
     "metadata": {
      "needs_background": "light"
     },
     "output_type": "display_data"
    },
    {
     "name": "stdout",
     "output_type": "stream",
     "text": [
      "count    8485.000\n",
      "mean      173.729\n",
      "std       604.696\n",
      "min         0.000\n",
      "5%          0.000\n",
      "20%         0.000\n",
      "40%         0.000\n",
      "50%         0.000\n",
      "60%         0.000\n",
      "80%        97.000\n",
      "90%       619.600\n",
      "95%       927.800\n",
      "99%      2333.440\n",
      "max     23492.000\n",
      "Name: ShoppingMall, dtype: float64\n"
     ]
    },
    {
     "data": {
      "image/png": "[encoded data removed]",
      "text/plain": [
       "<Figure size 864x288 with 1 Axes>"
      ]
     },
     "metadata": {
      "needs_background": "light"
     },
     "output_type": "display_data"
    },
    {
     "data": {
      "image/png": "[encoded data removed]",
      "text/plain": [
       "<Figure size 864x288 with 1 Axes>"
      ]
     },
     "metadata": {
      "needs_background": "light"
     },
     "output_type": "display_data"
    },
    {
     "name": "stdout",
     "output_type": "stream",
     "text": [
      "count    8510.000\n",
      "mean      311.139\n",
      "std      1136.706\n",
      "min         0.000\n",
      "5%          0.000\n",
      "20%         0.000\n",
      "40%         0.000\n",
      "50%         0.000\n",
      "60%         0.000\n",
      "80%       179.200\n",
      "90%       732.000\n",
      "95%      1607.100\n",
      "99%      5390.100\n",
      "max     22408.000\n",
      "Name: Spa, dtype: float64\n"
     ]
    },
    {
     "data": {
      "image/png": "[encoded data removed]",
      "text/plain": [
       "<Figure size 864x288 with 1 Axes>"
      ]
     },
     "metadata": {
      "needs_background": "light"
     },
     "output_type": "display_data"
    },
    {
     "data": {
      "image/png": "[encoded data removed]",
      "text/plain": [
       "<Figure size 864x288 with 1 Axes>"
      ]
     },
     "metadata": {
      "needs_background": "light"
     },
     "output_type": "display_data"
    },
    {
     "name": "stdout",
     "output_type": "stream",
     "text": [
      "count    8505.000\n",
      "mean      304.855\n",
      "std      1145.717\n",
      "min         0.000\n",
      "5%          0.000\n",
      "20%         0.000\n",
      "40%         0.000\n",
      "50%         0.000\n",
      "60%         0.000\n",
      "80%       156.200\n",
      "90%       732.600\n",
      "95%      1534.200\n",
      "99%      5646.680\n",
      "max     24133.000\n",
      "Name: VRDeck, dtype: float64\n"
     ]
    },
    {
     "data": {
      "image/png": "[encoded data removed]",
      "text/plain": [
       "<Figure size 864x288 with 1 Axes>"
      ]
     },
     "metadata": {
      "needs_background": "light"
     },
     "output_type": "display_data"
    },
    {
     "data": {
      "image/png": "[encoded data removed]",
      "text/plain": [
       "<Figure size 864x288 with 1 Axes>"
      ]
     },
     "metadata": {
      "needs_background": "light"
     },
     "output_type": "display_data"
    }
   ],
   "source": [
    "num_cols_ = [\"RoomService\", \"FoodCourt\", \"ShoppingMall\", \"Spa\", \"VRDeck\"]\n",
    "for col in num_cols_:\n",
    "    num_summary(train,col, plot=True)"
   ]
  },
  {
   "cell_type": "markdown",
   "id": "49cf7708",
   "metadata": {
    "papermill": {
     "duration": 0.030456,
     "end_time": "2022-11-08T20:41:47.927909",
     "exception": false,
     "start_time": "2022-11-08T20:41:47.897453",
     "status": "completed"
    },
    "tags": []
   },
   "source": [
    "[back to contents &#10548;](#0.)\n",
    "<a class=\"anchor\" id=\"4.1.2.1.\"> \n",
    "<center> <h1 style=\"background-color:indigo; color:white\" >Handling Missing Values</h1>\n",
    "    <center>\n",
    " <a/>"
   ]
  },
  {
   "cell_type": "code",
   "execution_count": 40,
   "id": "05eb5579",
   "metadata": {
    "execution": {
     "iopub.execute_input": "2022-11-08T20:41:47.991962Z",
     "iopub.status.busy": "2022-11-08T20:41:47.991463Z",
     "iopub.status.idle": "2022-11-08T20:41:47.998349Z",
     "shell.execute_reply": "2022-11-08T20:41:47.997462Z"
    },
    "papermill": {
     "duration": 0.041569,
     "end_time": "2022-11-08T20:41:48.000538",
     "exception": false,
     "start_time": "2022-11-08T20:41:47.958969",
     "status": "completed"
    },
    "tags": []
   },
   "outputs": [],
   "source": [
    "#Filling in Missing Values With the Most Repeative Data\n",
    "train[\"VRDeck\"] = train[\"VRDeck\"].fillna(0)\n",
    "train[\"Spa\"] = train[\"Spa\"].fillna(0)\n",
    "train[\"ShoppingMall\"] = train[\"ShoppingMall\"].fillna(0)\n",
    "train[\"FoodCourt\"] = train[\"FoodCourt\"].fillna(0)\n",
    "train[\"RoomService\"] = train[\"RoomService\"].fillna(0)"
   ]
  },
  {
   "cell_type": "code",
   "execution_count": 41,
   "id": "8c8f707b",
   "metadata": {
    "execution": {
     "iopub.execute_input": "2022-11-08T20:41:48.065820Z",
     "iopub.status.busy": "2022-11-08T20:41:48.064825Z",
     "iopub.status.idle": "2022-11-08T20:41:48.074895Z",
     "shell.execute_reply": "2022-11-08T20:41:48.073433Z"
    },
    "papermill": {
     "duration": 0.045051,
     "end_time": "2022-11-08T20:41:48.077168",
     "exception": false,
     "start_time": "2022-11-08T20:41:48.032117",
     "status": "completed"
    },
    "tags": []
   },
   "outputs": [
    {
     "data": {
      "text/plain": [
       "0   24.000\n",
       "dtype: float64"
      ]
     },
     "execution_count": 41,
     "metadata": {},
     "output_type": "execute_result"
    }
   ],
   "source": [
    "train['Age'].mode()"
   ]
  },
  {
   "cell_type": "code",
   "execution_count": 42,
   "id": "6abc9134",
   "metadata": {
    "execution": {
     "iopub.execute_input": "2022-11-08T20:41:48.141970Z",
     "iopub.status.busy": "2022-11-08T20:41:48.141035Z",
     "iopub.status.idle": "2022-11-08T20:41:48.145320Z",
     "shell.execute_reply": "2022-11-08T20:41:48.144718Z"
    },
    "papermill": {
     "duration": 0.038945,
     "end_time": "2022-11-08T20:41:48.147405",
     "exception": false,
     "start_time": "2022-11-08T20:41:48.108460",
     "status": "completed"
    },
    "tags": []
   },
   "outputs": [],
   "source": [
    "# Filling in Missing Values With the Mode Age\n",
    "train[\"Age\"] = train[\"Age\"].fillna(24.000)"
   ]
  },
  {
   "cell_type": "markdown",
   "id": "c0525023",
   "metadata": {
    "papermill": {
     "duration": 0.031099,
     "end_time": "2022-11-08T20:41:48.210420",
     "exception": false,
     "start_time": "2022-11-08T20:41:48.179321",
     "status": "completed"
    },
    "tags": []
   },
   "source": [
    "[back to contents &#10548;](#0.)\n",
    "<a class=\"anchor\" id=\"4.1.2.2.\"> \n",
    "<center> <h1 style=\"background-color:indigo; color:white\" >Target variable analysis with numerical variables</h1>\n",
    "    <center>\n",
    " <a/>"
   ]
  },
  {
   "cell_type": "code",
   "execution_count": 43,
   "id": "b4b63510",
   "metadata": {
    "execution": {
     "iopub.execute_input": "2022-11-08T20:41:48.274901Z",
     "iopub.status.busy": "2022-11-08T20:41:48.274448Z",
     "iopub.status.idle": "2022-11-08T20:41:48.278578Z",
     "shell.execute_reply": "2022-11-08T20:41:48.277529Z"
    },
    "papermill": {
     "duration": 0.038636,
     "end_time": "2022-11-08T20:41:48.280570",
     "exception": false,
     "start_time": "2022-11-08T20:41:48.241934",
     "status": "completed"
    },
    "tags": []
   },
   "outputs": [],
   "source": [
    "def target_summary_with_num(dataframe, target, numerical_col):\n",
    "    print(dataframe.groupby(target).agg({numerical_col: \"mean\"}), end=\"\\n\\n\\n\")"
   ]
  },
  {
   "cell_type": "code",
   "execution_count": 44,
   "id": "68140826",
   "metadata": {
    "execution": {
     "iopub.execute_input": "2022-11-08T20:41:48.345543Z",
     "iopub.status.busy": "2022-11-08T20:41:48.345189Z",
     "iopub.status.idle": "2022-11-08T20:41:48.363775Z",
     "shell.execute_reply": "2022-11-08T20:41:48.362417Z"
    },
    "papermill": {
     "duration": 0.05419,
     "end_time": "2022-11-08T20:41:48.366743",
     "exception": false,
     "start_time": "2022-11-08T20:41:48.312553",
     "status": "completed"
    },
    "tags": []
   },
   "outputs": [
    {
     "name": "stdout",
     "output_type": "stream",
     "text": [
      "               Age\n",
      "Transported       \n",
      "0           29.801\n",
      "1           27.672\n",
      "\n",
      "\n",
      "             RoomService\n",
      "Transported             \n",
      "0                380.425\n",
      "1                 61.902\n",
      "\n",
      "\n",
      "             FoodCourt\n",
      "Transported           \n",
      "0              375.168\n",
      "1              520.646\n",
      "\n",
      "\n",
      "             ShoppingMall\n",
      "Transported              \n",
      "0                 163.916\n",
      "1                 175.147\n",
      "\n",
      "\n",
      "                Spa\n",
      "Transported        \n",
      "0           552.349\n",
      "1            60.394\n",
      "\n",
      "\n",
      "             VRDeck\n",
      "Transported        \n",
      "0           532.291\n",
      "1            67.600\n",
      "\n",
      "\n"
     ]
    }
   ],
   "source": [
    "for col in num_cols:\n",
    "    target_summary_with_num(train, \"Transported\", col)"
   ]
  },
  {
   "cell_type": "markdown",
   "id": "e68b7b69",
   "metadata": {
    "papermill": {
     "duration": 0.036881,
     "end_time": "2022-11-08T20:41:48.438350",
     "exception": false,
     "start_time": "2022-11-08T20:41:48.401469",
     "status": "completed"
    },
    "tags": []
   },
   "source": [
    "[back to contents &#10548;](#0.)\n",
    "<a class=\"anchor\" id=\"4.1.3.\"> \n",
    "<center> <h1 style=\"background-color:indigo; color:white\" >Checking for Missing Data</h1>\n",
    "    <center>\n",
    " <a/>"
   ]
  },
  {
   "cell_type": "code",
   "execution_count": 45,
   "id": "35c6134e",
   "metadata": {
    "execution": {
     "iopub.execute_input": "2022-11-08T20:41:48.506125Z",
     "iopub.status.busy": "2022-11-08T20:41:48.505596Z",
     "iopub.status.idle": "2022-11-08T20:41:48.519874Z",
     "shell.execute_reply": "2022-11-08T20:41:48.519081Z"
    },
    "papermill": {
     "duration": 0.051118,
     "end_time": "2022-11-08T20:41:48.521501",
     "exception": false,
     "start_time": "2022-11-08T20:41:48.470383",
     "status": "completed"
    },
    "tags": []
   },
   "outputs": [
    {
     "data": {
      "text/plain": [
       "Name            200\n",
       "Number          199\n",
       "PassengerId       0\n",
       "HomePlanet        0\n",
       "CryoSleep         0\n",
       "Destination       0\n",
       "Age               0\n",
       "VIP               0\n",
       "RoomService       0\n",
       "FoodCourt         0\n",
       "ShoppingMall      0\n",
       "Spa               0\n",
       "VRDeck            0\n",
       "Transported       0\n",
       "Deck              0\n",
       "Side              0\n",
       "dtype: int64"
      ]
     },
     "execution_count": 45,
     "metadata": {},
     "output_type": "execute_result"
    }
   ],
   "source": [
    "train.isnull().sum().sort_values(ascending=False)"
   ]
  },
  {
   "cell_type": "code",
   "execution_count": 46,
   "id": "6e3f6c16",
   "metadata": {
    "execution": {
     "iopub.execute_input": "2022-11-08T20:41:48.589551Z",
     "iopub.status.busy": "2022-11-08T20:41:48.588956Z",
     "iopub.status.idle": "2022-11-08T20:41:48.594030Z",
     "shell.execute_reply": "2022-11-08T20:41:48.593223Z"
    },
    "papermill": {
     "duration": 0.042824,
     "end_time": "2022-11-08T20:41:48.595709",
     "exception": false,
     "start_time": "2022-11-08T20:41:48.552885",
     "status": "completed"
    },
    "tags": []
   },
   "outputs": [],
   "source": [
    "train_df = train.copy()"
   ]
  },
  {
   "cell_type": "markdown",
   "id": "ed5cadd5",
   "metadata": {
    "papermill": {
     "duration": 0.030774,
     "end_time": "2022-11-08T20:41:48.657142",
     "exception": false,
     "start_time": "2022-11-08T20:41:48.626368",
     "status": "completed"
    },
    "tags": []
   },
   "source": [
    "[back to contents &#10548;](#0.)\n",
    "<a class=\"anchor\" id=\"4.1.4.\"> \n",
    "<center> <h1 style=\"background-color:indigo; color:white\" >One Hot Encoding</h1>\n",
    "    <center>\n",
    " <a/>"
   ]
  },
  {
   "cell_type": "code",
   "execution_count": 47,
   "id": "aa128fc3",
   "metadata": {
    "execution": {
     "iopub.execute_input": "2022-11-08T20:41:48.738021Z",
     "iopub.status.busy": "2022-11-08T20:41:48.737076Z",
     "iopub.status.idle": "2022-11-08T20:41:48.754051Z",
     "shell.execute_reply": "2022-11-08T20:41:48.752652Z"
    },
    "papermill": {
     "duration": 0.062807,
     "end_time": "2022-11-08T20:41:48.756531",
     "exception": false,
     "start_time": "2022-11-08T20:41:48.693724",
     "status": "completed"
    },
    "tags": []
   },
   "outputs": [],
   "source": [
    "def one_hot_encoder(dataframe, categorical_cols, drop_first=False):\n",
    "    dataframe = pd.get_dummies(dataframe, columns=categorical_cols, drop_first=drop_first)\n",
    "    return dataframe\n",
    "train_df = one_hot_encoder(train_df, cat_cols, drop_first=True)"
   ]
  },
  {
   "cell_type": "code",
   "execution_count": 48,
   "id": "1ca6c126",
   "metadata": {
    "execution": {
     "iopub.execute_input": "2022-11-08T20:41:48.827594Z",
     "iopub.status.busy": "2022-11-08T20:41:48.827250Z",
     "iopub.status.idle": "2022-11-08T20:41:48.845173Z",
     "shell.execute_reply": "2022-11-08T20:41:48.844154Z"
    },
    "papermill": {
     "duration": 0.052652,
     "end_time": "2022-11-08T20:41:48.847010",
     "exception": false,
     "start_time": "2022-11-08T20:41:48.794358",
     "status": "completed"
    },
    "tags": []
   },
   "outputs": [
    {
     "data": {
      "text/html": [
       "<div>\n",
       "<style scoped>\n",
       "    .dataframe tbody tr th:only-of-type {\n",
       "        vertical-align: middle;\n",
       "    }\n",
       "\n",
       "    .dataframe tbody tr th {\n",
       "        vertical-align: top;\n",
       "    }\n",
       "\n",
       "    .dataframe thead th {\n",
       "        text-align: right;\n",
       "    }\n",
       "</style>\n",
       "<table border=\"1\" class=\"dataframe\">\n",
       "  <thead>\n",
       "    <tr style=\"text-align: right;\">\n",
       "      <th></th>\n",
       "      <th>PassengerId</th>\n",
       "      <th>Age</th>\n",
       "      <th>RoomService</th>\n",
       "      <th>FoodCourt</th>\n",
       "      <th>ShoppingMall</th>\n",
       "      <th>Spa</th>\n",
       "      <th>VRDeck</th>\n",
       "      <th>Name</th>\n",
       "      <th>Transported</th>\n",
       "      <th>Number</th>\n",
       "      <th>HomePlanet_Europa</th>\n",
       "      <th>HomePlanet_Mars</th>\n",
       "      <th>CryoSleep_True</th>\n",
       "      <th>Destination_PSO J318.5-22</th>\n",
       "      <th>Destination_TRAPPIST-1e</th>\n",
       "      <th>VIP_True</th>\n",
       "      <th>Deck_B</th>\n",
       "      <th>Deck_C</th>\n",
       "      <th>Deck_D</th>\n",
       "      <th>Deck_E</th>\n",
       "      <th>Deck_F</th>\n",
       "      <th>Deck_G</th>\n",
       "      <th>Deck_T</th>\n",
       "      <th>Side_S</th>\n",
       "    </tr>\n",
       "  </thead>\n",
       "  <tbody>\n",
       "    <tr>\n",
       "      <th>0</th>\n",
       "      <td>0001_01</td>\n",
       "      <td>39.000</td>\n",
       "      <td>0.000</td>\n",
       "      <td>0.000</td>\n",
       "      <td>0.000</td>\n",
       "      <td>0.000</td>\n",
       "      <td>0.000</td>\n",
       "      <td>Maham Ofracculy</td>\n",
       "      <td>0</td>\n",
       "      <td>0.000</td>\n",
       "      <td>1</td>\n",
       "      <td>0</td>\n",
       "      <td>0</td>\n",
       "      <td>0</td>\n",
       "      <td>1</td>\n",
       "      <td>0</td>\n",
       "      <td>1</td>\n",
       "      <td>0</td>\n",
       "      <td>0</td>\n",
       "      <td>0</td>\n",
       "      <td>0</td>\n",
       "      <td>0</td>\n",
       "      <td>0</td>\n",
       "      <td>0</td>\n",
       "    </tr>\n",
       "    <tr>\n",
       "      <th>1</th>\n",
       "      <td>0002_01</td>\n",
       "      <td>24.000</td>\n",
       "      <td>109.000</td>\n",
       "      <td>9.000</td>\n",
       "      <td>25.000</td>\n",
       "      <td>549.000</td>\n",
       "      <td>44.000</td>\n",
       "      <td>Juanna Vines</td>\n",
       "      <td>1</td>\n",
       "      <td>0.000</td>\n",
       "      <td>0</td>\n",
       "      <td>0</td>\n",
       "      <td>0</td>\n",
       "      <td>0</td>\n",
       "      <td>1</td>\n",
       "      <td>0</td>\n",
       "      <td>0</td>\n",
       "      <td>0</td>\n",
       "      <td>0</td>\n",
       "      <td>0</td>\n",
       "      <td>1</td>\n",
       "      <td>0</td>\n",
       "      <td>0</td>\n",
       "      <td>1</td>\n",
       "    </tr>\n",
       "    <tr>\n",
       "      <th>2</th>\n",
       "      <td>0003_01</td>\n",
       "      <td>58.000</td>\n",
       "      <td>43.000</td>\n",
       "      <td>3576.000</td>\n",
       "      <td>0.000</td>\n",
       "      <td>6715.000</td>\n",
       "      <td>49.000</td>\n",
       "      <td>Altark Susent</td>\n",
       "      <td>0</td>\n",
       "      <td>0.000</td>\n",
       "      <td>1</td>\n",
       "      <td>0</td>\n",
       "      <td>0</td>\n",
       "      <td>0</td>\n",
       "      <td>1</td>\n",
       "      <td>1</td>\n",
       "      <td>0</td>\n",
       "      <td>0</td>\n",
       "      <td>0</td>\n",
       "      <td>0</td>\n",
       "      <td>0</td>\n",
       "      <td>0</td>\n",
       "      <td>0</td>\n",
       "      <td>1</td>\n",
       "    </tr>\n",
       "    <tr>\n",
       "      <th>3</th>\n",
       "      <td>0003_02</td>\n",
       "      <td>33.000</td>\n",
       "      <td>0.000</td>\n",
       "      <td>1283.000</td>\n",
       "      <td>371.000</td>\n",
       "      <td>3329.000</td>\n",
       "      <td>193.000</td>\n",
       "      <td>Solam Susent</td>\n",
       "      <td>0</td>\n",
       "      <td>0.000</td>\n",
       "      <td>1</td>\n",
       "      <td>0</td>\n",
       "      <td>0</td>\n",
       "      <td>0</td>\n",
       "      <td>1</td>\n",
       "      <td>0</td>\n",
       "      <td>0</td>\n",
       "      <td>0</td>\n",
       "      <td>0</td>\n",
       "      <td>0</td>\n",
       "      <td>0</td>\n",
       "      <td>0</td>\n",
       "      <td>0</td>\n",
       "      <td>1</td>\n",
       "    </tr>\n",
       "    <tr>\n",
       "      <th>4</th>\n",
       "      <td>0004_01</td>\n",
       "      <td>16.000</td>\n",
       "      <td>303.000</td>\n",
       "      <td>70.000</td>\n",
       "      <td>151.000</td>\n",
       "      <td>565.000</td>\n",
       "      <td>2.000</td>\n",
       "      <td>Willy Santantines</td>\n",
       "      <td>1</td>\n",
       "      <td>1.000</td>\n",
       "      <td>0</td>\n",
       "      <td>0</td>\n",
       "      <td>0</td>\n",
       "      <td>0</td>\n",
       "      <td>1</td>\n",
       "      <td>0</td>\n",
       "      <td>0</td>\n",
       "      <td>0</td>\n",
       "      <td>0</td>\n",
       "      <td>0</td>\n",
       "      <td>1</td>\n",
       "      <td>0</td>\n",
       "      <td>0</td>\n",
       "      <td>1</td>\n",
       "    </tr>\n",
       "  </tbody>\n",
       "</table>\n",
       "</div>"
      ],
      "text/plain": [
       "  PassengerId    Age  RoomService  FoodCourt  ShoppingMall      Spa  VRDeck               Name  Transported  Number  HomePlanet_Europa  HomePlanet_Mars  CryoSleep_True  \\\n",
       "0     0001_01 39.000        0.000      0.000         0.000    0.000   0.000    Maham Ofracculy            0   0.000                  1                0               0   \n",
       "1     0002_01 24.000      109.000      9.000        25.000  549.000  44.000       Juanna Vines            1   0.000                  0                0               0   \n",
       "2     0003_01 58.000       43.000   3576.000         0.000 6715.000  49.000      Altark Susent            0   0.000                  1                0               0   \n",
       "3     0003_02 33.000        0.000   1283.000       371.000 3329.000 193.000       Solam Susent            0   0.000                  1                0               0   \n",
       "4     0004_01 16.000      303.000     70.000       151.000  565.000   2.000  Willy Santantines            1   1.000                  0                0               0   \n",
       "\n",
       "   Destination_PSO J318.5-22  Destination_TRAPPIST-1e  VIP_True  Deck_B  Deck_C  Deck_D  Deck_E  Deck_F  Deck_G  Deck_T  Side_S  \n",
       "0                          0                        1         0       1       0       0       0       0       0       0       0  \n",
       "1                          0                        1         0       0       0       0       0       1       0       0       1  \n",
       "2                          0                        1         1       0       0       0       0       0       0       0       1  \n",
       "3                          0                        1         0       0       0       0       0       0       0       0       1  \n",
       "4                          0                        1         0       0       0       0       0       1       0       0       1  "
      ]
     },
     "execution_count": 48,
     "metadata": {},
     "output_type": "execute_result"
    }
   ],
   "source": [
    "train_df.head()"
   ]
  },
  {
   "cell_type": "code",
   "execution_count": 49,
   "id": "daa33fc9",
   "metadata": {
    "execution": {
     "iopub.execute_input": "2022-11-08T20:41:48.913387Z",
     "iopub.status.busy": "2022-11-08T20:41:48.913064Z",
     "iopub.status.idle": "2022-11-08T20:41:48.921624Z",
     "shell.execute_reply": "2022-11-08T20:41:48.920840Z"
    },
    "papermill": {
     "duration": 0.044126,
     "end_time": "2022-11-08T20:41:48.923780",
     "exception": false,
     "start_time": "2022-11-08T20:41:48.879654",
     "status": "completed"
    },
    "tags": []
   },
   "outputs": [],
   "source": [
    "train_df[\"Transported\"] = train_df[\"Transported\"].apply(lambda x : True if x == 1 else False)"
   ]
  },
  {
   "cell_type": "code",
   "execution_count": 50,
   "id": "164a17c3",
   "metadata": {
    "execution": {
     "iopub.execute_input": "2022-11-08T20:41:48.990293Z",
     "iopub.status.busy": "2022-11-08T20:41:48.988726Z",
     "iopub.status.idle": "2022-11-08T20:41:49.011629Z",
     "shell.execute_reply": "2022-11-08T20:41:49.010905Z"
    },
    "papermill": {
     "duration": 0.058571,
     "end_time": "2022-11-08T20:41:49.013767",
     "exception": false,
     "start_time": "2022-11-08T20:41:48.955196",
     "status": "completed"
    },
    "tags": []
   },
   "outputs": [
    {
     "data": {
      "text/html": [
       "<div>\n",
       "<style scoped>\n",
       "    .dataframe tbody tr th:only-of-type {\n",
       "        vertical-align: middle;\n",
       "    }\n",
       "\n",
       "    .dataframe tbody tr th {\n",
       "        vertical-align: top;\n",
       "    }\n",
       "\n",
       "    .dataframe thead th {\n",
       "        text-align: right;\n",
       "    }\n",
       "</style>\n",
       "<table border=\"1\" class=\"dataframe\">\n",
       "  <thead>\n",
       "    <tr style=\"text-align: right;\">\n",
       "      <th></th>\n",
       "      <th>Age</th>\n",
       "      <th>RoomService</th>\n",
       "      <th>FoodCourt</th>\n",
       "      <th>ShoppingMall</th>\n",
       "      <th>Spa</th>\n",
       "      <th>VRDeck</th>\n",
       "      <th>Transported</th>\n",
       "      <th>HomePlanet_Europa</th>\n",
       "      <th>HomePlanet_Mars</th>\n",
       "      <th>CryoSleep_True</th>\n",
       "      <th>Destination_PSO J318.5-22</th>\n",
       "      <th>Destination_TRAPPIST-1e</th>\n",
       "      <th>VIP_True</th>\n",
       "      <th>Deck_B</th>\n",
       "      <th>Deck_C</th>\n",
       "      <th>Deck_D</th>\n",
       "      <th>Deck_E</th>\n",
       "      <th>Deck_F</th>\n",
       "      <th>Deck_G</th>\n",
       "      <th>Deck_T</th>\n",
       "      <th>Side_S</th>\n",
       "    </tr>\n",
       "  </thead>\n",
       "  <tbody>\n",
       "    <tr>\n",
       "      <th>0</th>\n",
       "      <td>39.000</td>\n",
       "      <td>0.000</td>\n",
       "      <td>0.000</td>\n",
       "      <td>0.000</td>\n",
       "      <td>0.000</td>\n",
       "      <td>0.000</td>\n",
       "      <td>False</td>\n",
       "      <td>1</td>\n",
       "      <td>0</td>\n",
       "      <td>0</td>\n",
       "      <td>0</td>\n",
       "      <td>1</td>\n",
       "      <td>0</td>\n",
       "      <td>1</td>\n",
       "      <td>0</td>\n",
       "      <td>0</td>\n",
       "      <td>0</td>\n",
       "      <td>0</td>\n",
       "      <td>0</td>\n",
       "      <td>0</td>\n",
       "      <td>0</td>\n",
       "    </tr>\n",
       "    <tr>\n",
       "      <th>1</th>\n",
       "      <td>24.000</td>\n",
       "      <td>109.000</td>\n",
       "      <td>9.000</td>\n",
       "      <td>25.000</td>\n",
       "      <td>549.000</td>\n",
       "      <td>44.000</td>\n",
       "      <td>True</td>\n",
       "      <td>0</td>\n",
       "      <td>0</td>\n",
       "      <td>0</td>\n",
       "      <td>0</td>\n",
       "      <td>1</td>\n",
       "      <td>0</td>\n",
       "      <td>0</td>\n",
       "      <td>0</td>\n",
       "      <td>0</td>\n",
       "      <td>0</td>\n",
       "      <td>1</td>\n",
       "      <td>0</td>\n",
       "      <td>0</td>\n",
       "      <td>1</td>\n",
       "    </tr>\n",
       "    <tr>\n",
       "      <th>2</th>\n",
       "      <td>58.000</td>\n",
       "      <td>43.000</td>\n",
       "      <td>3576.000</td>\n",
       "      <td>0.000</td>\n",
       "      <td>6715.000</td>\n",
       "      <td>49.000</td>\n",
       "      <td>False</td>\n",
       "      <td>1</td>\n",
       "      <td>0</td>\n",
       "      <td>0</td>\n",
       "      <td>0</td>\n",
       "      <td>1</td>\n",
       "      <td>1</td>\n",
       "      <td>0</td>\n",
       "      <td>0</td>\n",
       "      <td>0</td>\n",
       "      <td>0</td>\n",
       "      <td>0</td>\n",
       "      <td>0</td>\n",
       "      <td>0</td>\n",
       "      <td>1</td>\n",
       "    </tr>\n",
       "    <tr>\n",
       "      <th>3</th>\n",
       "      <td>33.000</td>\n",
       "      <td>0.000</td>\n",
       "      <td>1283.000</td>\n",
       "      <td>371.000</td>\n",
       "      <td>3329.000</td>\n",
       "      <td>193.000</td>\n",
       "      <td>False</td>\n",
       "      <td>1</td>\n",
       "      <td>0</td>\n",
       "      <td>0</td>\n",
       "      <td>0</td>\n",
       "      <td>1</td>\n",
       "      <td>0</td>\n",
       "      <td>0</td>\n",
       "      <td>0</td>\n",
       "      <td>0</td>\n",
       "      <td>0</td>\n",
       "      <td>0</td>\n",
       "      <td>0</td>\n",
       "      <td>0</td>\n",
       "      <td>1</td>\n",
       "    </tr>\n",
       "    <tr>\n",
       "      <th>4</th>\n",
       "      <td>16.000</td>\n",
       "      <td>303.000</td>\n",
       "      <td>70.000</td>\n",
       "      <td>151.000</td>\n",
       "      <td>565.000</td>\n",
       "      <td>2.000</td>\n",
       "      <td>True</td>\n",
       "      <td>0</td>\n",
       "      <td>0</td>\n",
       "      <td>0</td>\n",
       "      <td>0</td>\n",
       "      <td>1</td>\n",
       "      <td>0</td>\n",
       "      <td>0</td>\n",
       "      <td>0</td>\n",
       "      <td>0</td>\n",
       "      <td>0</td>\n",
       "      <td>1</td>\n",
       "      <td>0</td>\n",
       "      <td>0</td>\n",
       "      <td>1</td>\n",
       "    </tr>\n",
       "    <tr>\n",
       "      <th>...</th>\n",
       "      <td>...</td>\n",
       "      <td>...</td>\n",
       "      <td>...</td>\n",
       "      <td>...</td>\n",
       "      <td>...</td>\n",
       "      <td>...</td>\n",
       "      <td>...</td>\n",
       "      <td>...</td>\n",
       "      <td>...</td>\n",
       "      <td>...</td>\n",
       "      <td>...</td>\n",
       "      <td>...</td>\n",
       "      <td>...</td>\n",
       "      <td>...</td>\n",
       "      <td>...</td>\n",
       "      <td>...</td>\n",
       "      <td>...</td>\n",
       "      <td>...</td>\n",
       "      <td>...</td>\n",
       "      <td>...</td>\n",
       "      <td>...</td>\n",
       "    </tr>\n",
       "    <tr>\n",
       "      <th>8688</th>\n",
       "      <td>41.000</td>\n",
       "      <td>0.000</td>\n",
       "      <td>6819.000</td>\n",
       "      <td>0.000</td>\n",
       "      <td>1643.000</td>\n",
       "      <td>74.000</td>\n",
       "      <td>False</td>\n",
       "      <td>1</td>\n",
       "      <td>0</td>\n",
       "      <td>0</td>\n",
       "      <td>0</td>\n",
       "      <td>0</td>\n",
       "      <td>1</td>\n",
       "      <td>0</td>\n",
       "      <td>0</td>\n",
       "      <td>0</td>\n",
       "      <td>0</td>\n",
       "      <td>0</td>\n",
       "      <td>0</td>\n",
       "      <td>0</td>\n",
       "      <td>0</td>\n",
       "    </tr>\n",
       "    <tr>\n",
       "      <th>8689</th>\n",
       "      <td>18.000</td>\n",
       "      <td>0.000</td>\n",
       "      <td>0.000</td>\n",
       "      <td>0.000</td>\n",
       "      <td>0.000</td>\n",
       "      <td>0.000</td>\n",
       "      <td>False</td>\n",
       "      <td>0</td>\n",
       "      <td>0</td>\n",
       "      <td>1</td>\n",
       "      <td>1</td>\n",
       "      <td>0</td>\n",
       "      <td>0</td>\n",
       "      <td>0</td>\n",
       "      <td>0</td>\n",
       "      <td>0</td>\n",
       "      <td>0</td>\n",
       "      <td>0</td>\n",
       "      <td>1</td>\n",
       "      <td>0</td>\n",
       "      <td>1</td>\n",
       "    </tr>\n",
       "    <tr>\n",
       "      <th>8690</th>\n",
       "      <td>26.000</td>\n",
       "      <td>0.000</td>\n",
       "      <td>0.000</td>\n",
       "      <td>1872.000</td>\n",
       "      <td>1.000</td>\n",
       "      <td>0.000</td>\n",
       "      <td>True</td>\n",
       "      <td>0</td>\n",
       "      <td>0</td>\n",
       "      <td>0</td>\n",
       "      <td>0</td>\n",
       "      <td>1</td>\n",
       "      <td>0</td>\n",
       "      <td>0</td>\n",
       "      <td>0</td>\n",
       "      <td>0</td>\n",
       "      <td>0</td>\n",
       "      <td>0</td>\n",
       "      <td>1</td>\n",
       "      <td>0</td>\n",
       "      <td>1</td>\n",
       "    </tr>\n",
       "    <tr>\n",
       "      <th>8691</th>\n",
       "      <td>32.000</td>\n",
       "      <td>0.000</td>\n",
       "      <td>1049.000</td>\n",
       "      <td>0.000</td>\n",
       "      <td>353.000</td>\n",
       "      <td>3235.000</td>\n",
       "      <td>False</td>\n",
       "      <td>1</td>\n",
       "      <td>0</td>\n",
       "      <td>0</td>\n",
       "      <td>0</td>\n",
       "      <td>0</td>\n",
       "      <td>0</td>\n",
       "      <td>0</td>\n",
       "      <td>0</td>\n",
       "      <td>0</td>\n",
       "      <td>1</td>\n",
       "      <td>0</td>\n",
       "      <td>0</td>\n",
       "      <td>0</td>\n",
       "      <td>1</td>\n",
       "    </tr>\n",
       "    <tr>\n",
       "      <th>8692</th>\n",
       "      <td>44.000</td>\n",
       "      <td>126.000</td>\n",
       "      <td>4688.000</td>\n",
       "      <td>0.000</td>\n",
       "      <td>0.000</td>\n",
       "      <td>12.000</td>\n",
       "      <td>True</td>\n",
       "      <td>1</td>\n",
       "      <td>0</td>\n",
       "      <td>0</td>\n",
       "      <td>0</td>\n",
       "      <td>1</td>\n",
       "      <td>0</td>\n",
       "      <td>0</td>\n",
       "      <td>0</td>\n",
       "      <td>0</td>\n",
       "      <td>1</td>\n",
       "      <td>0</td>\n",
       "      <td>0</td>\n",
       "      <td>0</td>\n",
       "      <td>1</td>\n",
       "    </tr>\n",
       "  </tbody>\n",
       "</table>\n",
       "<p>8693 rows × 21 columns</p>\n",
       "</div>"
      ],
      "text/plain": [
       "        Age  RoomService  FoodCourt  ShoppingMall      Spa   VRDeck  Transported  HomePlanet_Europa  HomePlanet_Mars  CryoSleep_True  Destination_PSO J318.5-22  \\\n",
       "0    39.000        0.000      0.000         0.000    0.000    0.000        False                  1                0               0                          0   \n",
       "1    24.000      109.000      9.000        25.000  549.000   44.000         True                  0                0               0                          0   \n",
       "2    58.000       43.000   3576.000         0.000 6715.000   49.000        False                  1                0               0                          0   \n",
       "3    33.000        0.000   1283.000       371.000 3329.000  193.000        False                  1                0               0                          0   \n",
       "4    16.000      303.000     70.000       151.000  565.000    2.000         True                  0                0               0                          0   \n",
       "...     ...          ...        ...           ...      ...      ...          ...                ...              ...             ...                        ...   \n",
       "8688 41.000        0.000   6819.000         0.000 1643.000   74.000        False                  1                0               0                          0   \n",
       "8689 18.000        0.000      0.000         0.000    0.000    0.000        False                  0                0               1                          1   \n",
       "8690 26.000        0.000      0.000      1872.000    1.000    0.000         True                  0                0               0                          0   \n",
       "8691 32.000        0.000   1049.000         0.000  353.000 3235.000        False                  1                0               0                          0   \n",
       "8692 44.000      126.000   4688.000         0.000    0.000   12.000         True                  1                0               0                          0   \n",
       "\n",
       "      Destination_TRAPPIST-1e  VIP_True  Deck_B  Deck_C  Deck_D  Deck_E  Deck_F  Deck_G  Deck_T  Side_S  \n",
       "0                           1         0       1       0       0       0       0       0       0       0  \n",
       "1                           1         0       0       0       0       0       1       0       0       1  \n",
       "2                           1         1       0       0       0       0       0       0       0       1  \n",
       "3                           1         0       0       0       0       0       0       0       0       1  \n",
       "4                           1         0       0       0       0       0       1       0       0       1  \n",
       "...                       ...       ...     ...     ...     ...     ...     ...     ...     ...     ...  \n",
       "8688                        0         1       0       0       0       0       0       0       0       0  \n",
       "8689                        0         0       0       0       0       0       0       1       0       1  \n",
       "8690                        1         0       0       0       0       0       0       1       0       1  \n",
       "8691                        0         0       0       0       0       1       0       0       0       1  \n",
       "8692                        1         0       0       0       0       1       0       0       0       1  \n",
       "\n",
       "[8693 rows x 21 columns]"
      ]
     },
     "execution_count": 50,
     "metadata": {},
     "output_type": "execute_result"
    }
   ],
   "source": [
    "#High correlation drop\n",
    "train_df = train_df.drop([\"Name\", \"PassengerId\", \"Number\"], axis=1)\n",
    "train_df"
   ]
  },
  {
   "cell_type": "markdown",
   "id": "71ca055e",
   "metadata": {
    "papermill": {
     "duration": 0.032133,
     "end_time": "2022-11-08T20:41:49.078041",
     "exception": false,
     "start_time": "2022-11-08T20:41:49.045908",
     "status": "completed"
    },
    "tags": []
   },
   "source": [
    "[back to contents &#10548;](#0.)\n",
    "<a class=\"anchor\" id=\"4.1.5.\"> \n",
    "<center> <h1 style=\"background-color:indigo; color:white\" >Editing Train Data</h1>\n",
    "    <center>\n",
    " <a/>"
   ]
  },
  {
   "cell_type": "code",
   "execution_count": 51,
   "id": "340e94e4",
   "metadata": {
    "execution": {
     "iopub.execute_input": "2022-11-08T20:41:49.146991Z",
     "iopub.status.busy": "2022-11-08T20:41:49.145782Z",
     "iopub.status.idle": "2022-11-08T20:41:49.152695Z",
     "shell.execute_reply": "2022-11-08T20:41:49.151565Z"
    },
    "papermill": {
     "duration": 0.042467,
     "end_time": "2022-11-08T20:41:49.155070",
     "exception": false,
     "start_time": "2022-11-08T20:41:49.112603",
     "status": "completed"
    },
    "tags": []
   },
   "outputs": [],
   "source": [
    "X_train = train_df.drop([\"Transported\"], axis=1)\n",
    "y_train = train_df[\"Transported\"]"
   ]
  },
  {
   "cell_type": "code",
   "execution_count": 52,
   "id": "1829fda4",
   "metadata": {
    "execution": {
     "iopub.execute_input": "2022-11-08T20:41:49.221510Z",
     "iopub.status.busy": "2022-11-08T20:41:49.220832Z",
     "iopub.status.idle": "2022-11-08T20:41:49.234144Z",
     "shell.execute_reply": "2022-11-08T20:41:49.233256Z"
    },
    "papermill": {
     "duration": 0.048482,
     "end_time": "2022-11-08T20:41:49.236003",
     "exception": false,
     "start_time": "2022-11-08T20:41:49.187521",
     "status": "completed"
    },
    "tags": []
   },
   "outputs": [
    {
     "data": {
      "text/html": [
       "<div>\n",
       "<style scoped>\n",
       "    .dataframe tbody tr th:only-of-type {\n",
       "        vertical-align: middle;\n",
       "    }\n",
       "\n",
       "    .dataframe tbody tr th {\n",
       "        vertical-align: top;\n",
       "    }\n",
       "\n",
       "    .dataframe thead th {\n",
       "        text-align: right;\n",
       "    }\n",
       "</style>\n",
       "<table border=\"1\" class=\"dataframe\">\n",
       "  <thead>\n",
       "    <tr style=\"text-align: right;\">\n",
       "      <th></th>\n",
       "      <th>Age</th>\n",
       "      <th>RoomService</th>\n",
       "      <th>FoodCourt</th>\n",
       "      <th>ShoppingMall</th>\n",
       "      <th>Spa</th>\n",
       "      <th>VRDeck</th>\n",
       "      <th>HomePlanet_Europa</th>\n",
       "      <th>HomePlanet_Mars</th>\n",
       "      <th>CryoSleep_True</th>\n",
       "      <th>Destination_PSO J318.5-22</th>\n",
       "      <th>Destination_TRAPPIST-1e</th>\n",
       "      <th>VIP_True</th>\n",
       "      <th>Deck_B</th>\n",
       "      <th>Deck_C</th>\n",
       "      <th>Deck_D</th>\n",
       "      <th>Deck_E</th>\n",
       "      <th>Deck_F</th>\n",
       "      <th>Deck_G</th>\n",
       "      <th>Deck_T</th>\n",
       "      <th>Side_S</th>\n",
       "    </tr>\n",
       "  </thead>\n",
       "  <tbody>\n",
       "    <tr>\n",
       "      <th>0</th>\n",
       "      <td>39.000</td>\n",
       "      <td>0.000</td>\n",
       "      <td>0.000</td>\n",
       "      <td>0.000</td>\n",
       "      <td>0.000</td>\n",
       "      <td>0.000</td>\n",
       "      <td>1</td>\n",
       "      <td>0</td>\n",
       "      <td>0</td>\n",
       "      <td>0</td>\n",
       "      <td>1</td>\n",
       "      <td>0</td>\n",
       "      <td>1</td>\n",
       "      <td>0</td>\n",
       "      <td>0</td>\n",
       "      <td>0</td>\n",
       "      <td>0</td>\n",
       "      <td>0</td>\n",
       "      <td>0</td>\n",
       "      <td>0</td>\n",
       "    </tr>\n",
       "    <tr>\n",
       "      <th>1</th>\n",
       "      <td>24.000</td>\n",
       "      <td>109.000</td>\n",
       "      <td>9.000</td>\n",
       "      <td>25.000</td>\n",
       "      <td>549.000</td>\n",
       "      <td>44.000</td>\n",
       "      <td>0</td>\n",
       "      <td>0</td>\n",
       "      <td>0</td>\n",
       "      <td>0</td>\n",
       "      <td>1</td>\n",
       "      <td>0</td>\n",
       "      <td>0</td>\n",
       "      <td>0</td>\n",
       "      <td>0</td>\n",
       "      <td>0</td>\n",
       "      <td>1</td>\n",
       "      <td>0</td>\n",
       "      <td>0</td>\n",
       "      <td>1</td>\n",
       "    </tr>\n",
       "    <tr>\n",
       "      <th>2</th>\n",
       "      <td>58.000</td>\n",
       "      <td>43.000</td>\n",
       "      <td>3576.000</td>\n",
       "      <td>0.000</td>\n",
       "      <td>6715.000</td>\n",
       "      <td>49.000</td>\n",
       "      <td>1</td>\n",
       "      <td>0</td>\n",
       "      <td>0</td>\n",
       "      <td>0</td>\n",
       "      <td>1</td>\n",
       "      <td>1</td>\n",
       "      <td>0</td>\n",
       "      <td>0</td>\n",
       "      <td>0</td>\n",
       "      <td>0</td>\n",
       "      <td>0</td>\n",
       "      <td>0</td>\n",
       "      <td>0</td>\n",
       "      <td>1</td>\n",
       "    </tr>\n",
       "    <tr>\n",
       "      <th>3</th>\n",
       "      <td>33.000</td>\n",
       "      <td>0.000</td>\n",
       "      <td>1283.000</td>\n",
       "      <td>371.000</td>\n",
       "      <td>3329.000</td>\n",
       "      <td>193.000</td>\n",
       "      <td>1</td>\n",
       "      <td>0</td>\n",
       "      <td>0</td>\n",
       "      <td>0</td>\n",
       "      <td>1</td>\n",
       "      <td>0</td>\n",
       "      <td>0</td>\n",
       "      <td>0</td>\n",
       "      <td>0</td>\n",
       "      <td>0</td>\n",
       "      <td>0</td>\n",
       "      <td>0</td>\n",
       "      <td>0</td>\n",
       "      <td>1</td>\n",
       "    </tr>\n",
       "    <tr>\n",
       "      <th>4</th>\n",
       "      <td>16.000</td>\n",
       "      <td>303.000</td>\n",
       "      <td>70.000</td>\n",
       "      <td>151.000</td>\n",
       "      <td>565.000</td>\n",
       "      <td>2.000</td>\n",
       "      <td>0</td>\n",
       "      <td>0</td>\n",
       "      <td>0</td>\n",
       "      <td>0</td>\n",
       "      <td>1</td>\n",
       "      <td>0</td>\n",
       "      <td>0</td>\n",
       "      <td>0</td>\n",
       "      <td>0</td>\n",
       "      <td>0</td>\n",
       "      <td>1</td>\n",
       "      <td>0</td>\n",
       "      <td>0</td>\n",
       "      <td>1</td>\n",
       "    </tr>\n",
       "  </tbody>\n",
       "</table>\n",
       "</div>"
      ],
      "text/plain": [
       "     Age  RoomService  FoodCourt  ShoppingMall      Spa  VRDeck  HomePlanet_Europa  HomePlanet_Mars  CryoSleep_True  Destination_PSO J318.5-22  Destination_TRAPPIST-1e  \\\n",
       "0 39.000        0.000      0.000         0.000    0.000   0.000                  1                0               0                          0                        1   \n",
       "1 24.000      109.000      9.000        25.000  549.000  44.000                  0                0               0                          0                        1   \n",
       "2 58.000       43.000   3576.000         0.000 6715.000  49.000                  1                0               0                          0                        1   \n",
       "3 33.000        0.000   1283.000       371.000 3329.000 193.000                  1                0               0                          0                        1   \n",
       "4 16.000      303.000     70.000       151.000  565.000   2.000                  0                0               0                          0                        1   \n",
       "\n",
       "   VIP_True  Deck_B  Deck_C  Deck_D  Deck_E  Deck_F  Deck_G  Deck_T  Side_S  \n",
       "0         0       1       0       0       0       0       0       0       0  \n",
       "1         0       0       0       0       0       1       0       0       1  \n",
       "2         1       0       0       0       0       0       0       0       1  \n",
       "3         0       0       0       0       0       0       0       0       1  \n",
       "4         0       0       0       0       0       1       0       0       1  "
      ]
     },
     "execution_count": 52,
     "metadata": {},
     "output_type": "execute_result"
    }
   ],
   "source": [
    "X_train.head()"
   ]
  },
  {
   "cell_type": "code",
   "execution_count": 53,
   "id": "cec8cc0c",
   "metadata": {
    "execution": {
     "iopub.execute_input": "2022-11-08T20:41:49.302874Z",
     "iopub.status.busy": "2022-11-08T20:41:49.302536Z",
     "iopub.status.idle": "2022-11-08T20:41:49.308734Z",
     "shell.execute_reply": "2022-11-08T20:41:49.307827Z"
    },
    "papermill": {
     "duration": 0.042734,
     "end_time": "2022-11-08T20:41:49.310938",
     "exception": false,
     "start_time": "2022-11-08T20:41:49.268204",
     "status": "completed"
    },
    "tags": []
   },
   "outputs": [
    {
     "data": {
      "text/plain": [
       "0    False\n",
       "1     True\n",
       "2    False\n",
       "3    False\n",
       "4     True\n",
       "Name: Transported, dtype: bool"
      ]
     },
     "execution_count": 53,
     "metadata": {},
     "output_type": "execute_result"
    }
   ],
   "source": [
    "y_train.head()"
   ]
  },
  {
   "cell_type": "markdown",
   "id": "c093df5d",
   "metadata": {
    "papermill": {
     "duration": 0.032459,
     "end_time": "2022-11-08T20:41:49.376500",
     "exception": false,
     "start_time": "2022-11-08T20:41:49.344041",
     "status": "completed"
    },
    "tags": []
   },
   "source": [
    "[back to contents &#10548;](#0.)\n",
    "<a class=\"anchor\" id=\"4.2.\"> \n",
    "<center> <h1 style=\"background-color:indigo; color:white\" >Test Values Analyze</h1>\n",
    "    <center>\n",
    " <a/>"
   ]
  },
  {
   "cell_type": "code",
   "execution_count": 54,
   "id": "6960a759",
   "metadata": {
    "execution": {
     "iopub.execute_input": "2022-11-08T20:41:49.443789Z",
     "iopub.status.busy": "2022-11-08T20:41:49.443312Z",
     "iopub.status.idle": "2022-11-08T20:41:49.458696Z",
     "shell.execute_reply": "2022-11-08T20:41:49.457839Z"
    },
    "papermill": {
     "duration": 0.052354,
     "end_time": "2022-11-08T20:41:49.460967",
     "exception": false,
     "start_time": "2022-11-08T20:41:49.408613",
     "status": "completed"
    },
    "tags": []
   },
   "outputs": [
    {
     "data": {
      "text/html": [
       "<div>\n",
       "<style scoped>\n",
       "    .dataframe tbody tr th:only-of-type {\n",
       "        vertical-align: middle;\n",
       "    }\n",
       "\n",
       "    .dataframe tbody tr th {\n",
       "        vertical-align: top;\n",
       "    }\n",
       "\n",
       "    .dataframe thead th {\n",
       "        text-align: right;\n",
       "    }\n",
       "</style>\n",
       "<table border=\"1\" class=\"dataframe\">\n",
       "  <thead>\n",
       "    <tr style=\"text-align: right;\">\n",
       "      <th></th>\n",
       "      <th>PassengerId</th>\n",
       "      <th>HomePlanet</th>\n",
       "      <th>CryoSleep</th>\n",
       "      <th>Destination</th>\n",
       "      <th>Age</th>\n",
       "      <th>VIP</th>\n",
       "      <th>RoomService</th>\n",
       "      <th>FoodCourt</th>\n",
       "      <th>ShoppingMall</th>\n",
       "      <th>Spa</th>\n",
       "      <th>VRDeck</th>\n",
       "      <th>Name</th>\n",
       "      <th>Deck</th>\n",
       "      <th>Number</th>\n",
       "      <th>Side</th>\n",
       "    </tr>\n",
       "  </thead>\n",
       "  <tbody>\n",
       "    <tr>\n",
       "      <th>0</th>\n",
       "      <td>0013_01</td>\n",
       "      <td>Earth</td>\n",
       "      <td>True</td>\n",
       "      <td>TRAPPIST-1e</td>\n",
       "      <td>27.000</td>\n",
       "      <td>False</td>\n",
       "      <td>0.000</td>\n",
       "      <td>0.000</td>\n",
       "      <td>0.000</td>\n",
       "      <td>0.000</td>\n",
       "      <td>0.000</td>\n",
       "      <td>Nelly Carsoning</td>\n",
       "      <td>G</td>\n",
       "      <td>3.000</td>\n",
       "      <td>S</td>\n",
       "    </tr>\n",
       "    <tr>\n",
       "      <th>1</th>\n",
       "      <td>0018_01</td>\n",
       "      <td>Earth</td>\n",
       "      <td>False</td>\n",
       "      <td>TRAPPIST-1e</td>\n",
       "      <td>19.000</td>\n",
       "      <td>False</td>\n",
       "      <td>0.000</td>\n",
       "      <td>9.000</td>\n",
       "      <td>0.000</td>\n",
       "      <td>2823.000</td>\n",
       "      <td>0.000</td>\n",
       "      <td>Lerome Peckers</td>\n",
       "      <td>F</td>\n",
       "      <td>4.000</td>\n",
       "      <td>S</td>\n",
       "    </tr>\n",
       "    <tr>\n",
       "      <th>2</th>\n",
       "      <td>0019_01</td>\n",
       "      <td>Europa</td>\n",
       "      <td>True</td>\n",
       "      <td>55 Cancri e</td>\n",
       "      <td>31.000</td>\n",
       "      <td>False</td>\n",
       "      <td>0.000</td>\n",
       "      <td>0.000</td>\n",
       "      <td>0.000</td>\n",
       "      <td>0.000</td>\n",
       "      <td>0.000</td>\n",
       "      <td>Sabih Unhearfus</td>\n",
       "      <td>C</td>\n",
       "      <td>0.000</td>\n",
       "      <td>S</td>\n",
       "    </tr>\n",
       "    <tr>\n",
       "      <th>3</th>\n",
       "      <td>0021_01</td>\n",
       "      <td>Europa</td>\n",
       "      <td>False</td>\n",
       "      <td>TRAPPIST-1e</td>\n",
       "      <td>38.000</td>\n",
       "      <td>False</td>\n",
       "      <td>0.000</td>\n",
       "      <td>6652.000</td>\n",
       "      <td>0.000</td>\n",
       "      <td>181.000</td>\n",
       "      <td>585.000</td>\n",
       "      <td>Meratz Caltilter</td>\n",
       "      <td>C</td>\n",
       "      <td>1.000</td>\n",
       "      <td>S</td>\n",
       "    </tr>\n",
       "    <tr>\n",
       "      <th>4</th>\n",
       "      <td>0023_01</td>\n",
       "      <td>Earth</td>\n",
       "      <td>False</td>\n",
       "      <td>TRAPPIST-1e</td>\n",
       "      <td>20.000</td>\n",
       "      <td>False</td>\n",
       "      <td>10.000</td>\n",
       "      <td>0.000</td>\n",
       "      <td>635.000</td>\n",
       "      <td>0.000</td>\n",
       "      <td>0.000</td>\n",
       "      <td>Brence Harperez</td>\n",
       "      <td>F</td>\n",
       "      <td>5.000</td>\n",
       "      <td>S</td>\n",
       "    </tr>\n",
       "  </tbody>\n",
       "</table>\n",
       "</div>"
      ],
      "text/plain": [
       "  PassengerId HomePlanet CryoSleep  Destination    Age    VIP  RoomService  FoodCourt  ShoppingMall      Spa  VRDeck              Name Deck  Number Side\n",
       "0     0013_01      Earth      True  TRAPPIST-1e 27.000  False        0.000      0.000         0.000    0.000   0.000   Nelly Carsoning    G   3.000    S\n",
       "1     0018_01      Earth     False  TRAPPIST-1e 19.000  False        0.000      9.000         0.000 2823.000   0.000    Lerome Peckers    F   4.000    S\n",
       "2     0019_01     Europa      True  55 Cancri e 31.000  False        0.000      0.000         0.000    0.000   0.000   Sabih Unhearfus    C   0.000    S\n",
       "3     0021_01     Europa     False  TRAPPIST-1e 38.000  False        0.000   6652.000         0.000  181.000 585.000  Meratz Caltilter    C   1.000    S\n",
       "4     0023_01      Earth     False  TRAPPIST-1e 20.000  False       10.000      0.000       635.000    0.000   0.000   Brence Harperez    F   5.000    S"
      ]
     },
     "execution_count": 54,
     "metadata": {},
     "output_type": "execute_result"
    }
   ],
   "source": [
    "test.head()"
   ]
  },
  {
   "cell_type": "code",
   "execution_count": 55,
   "id": "7ff31623",
   "metadata": {
    "execution": {
     "iopub.execute_input": "2022-11-08T20:41:49.527119Z",
     "iopub.status.busy": "2022-11-08T20:41:49.525833Z",
     "iopub.status.idle": "2022-11-08T20:41:49.539532Z",
     "shell.execute_reply": "2022-11-08T20:41:49.537780Z"
    },
    "papermill": {
     "duration": 0.048459,
     "end_time": "2022-11-08T20:41:49.541524",
     "exception": false,
     "start_time": "2022-11-08T20:41:49.493065",
     "status": "completed"
    },
    "tags": []
   },
   "outputs": [
    {
     "name": "stdout",
     "output_type": "stream",
     "text": [
      "<class 'pandas.core.frame.DataFrame'>\n",
      "RangeIndex: 4277 entries, 0 to 4276\n",
      "Data columns (total 15 columns):\n",
      " #   Column        Non-Null Count  Dtype  \n",
      "---  ------        --------------  -----  \n",
      " 0   PassengerId   4277 non-null   object \n",
      " 1   HomePlanet    4190 non-null   object \n",
      " 2   CryoSleep     4184 non-null   object \n",
      " 3   Destination   4185 non-null   object \n",
      " 4   Age           4186 non-null   float64\n",
      " 5   VIP           4184 non-null   object \n",
      " 6   RoomService   4195 non-null   float64\n",
      " 7   FoodCourt     4171 non-null   float64\n",
      " 8   ShoppingMall  4179 non-null   float64\n",
      " 9   Spa           4176 non-null   float64\n",
      " 10  VRDeck        4197 non-null   float64\n",
      " 11  Name          4183 non-null   object \n",
      " 12  Deck          4177 non-null   object \n",
      " 13  Number        4177 non-null   float64\n",
      " 14  Side          4177 non-null   object \n",
      "dtypes: float64(7), object(8)\n",
      "memory usage: 501.3+ KB\n"
     ]
    }
   ],
   "source": [
    "test.info()"
   ]
  },
  {
   "cell_type": "code",
   "execution_count": 56,
   "id": "89a663d6",
   "metadata": {
    "execution": {
     "iopub.execute_input": "2022-11-08T20:41:49.608204Z",
     "iopub.status.busy": "2022-11-08T20:41:49.607847Z",
     "iopub.status.idle": "2022-11-08T20:41:50.099076Z",
     "shell.execute_reply": "2022-11-08T20:41:50.098468Z"
    },
    "papermill": {
     "duration": 0.527111,
     "end_time": "2022-11-08T20:41:50.100916",
     "exception": false,
     "start_time": "2022-11-08T20:41:49.573805",
     "status": "completed"
    },
    "tags": []
   },
   "outputs": [
    {
     "data": {
      "image/png": "[encoded data removed]",
      "text/plain": [
       "<Figure size 1800x720 with 2 Axes>"
      ]
     },
     "metadata": {
      "needs_background": "light"
     },
     "output_type": "display_data"
    }
   ],
   "source": [
    "msno.matrix(test, color=(0.3, 0, 0.2))\n",
    "plt.title('Distribution Missing Values',fontsize=30);"
   ]
  },
  {
   "cell_type": "code",
   "execution_count": 57,
   "id": "9a578538",
   "metadata": {
    "execution": {
     "iopub.execute_input": "2022-11-08T20:41:50.171685Z",
     "iopub.status.busy": "2022-11-08T20:41:50.171373Z",
     "iopub.status.idle": "2022-11-08T20:41:50.182690Z",
     "shell.execute_reply": "2022-11-08T20:41:50.181574Z"
    },
    "papermill": {
     "duration": 0.048729,
     "end_time": "2022-11-08T20:41:50.185108",
     "exception": false,
     "start_time": "2022-11-08T20:41:50.136379",
     "status": "completed"
    },
    "tags": []
   },
   "outputs": [
    {
     "data": {
      "text/plain": [
       "PassengerId       0\n",
       "HomePlanet       87\n",
       "CryoSleep        93\n",
       "Destination      92\n",
       "Age              91\n",
       "VIP              93\n",
       "RoomService      82\n",
       "FoodCourt       106\n",
       "ShoppingMall     98\n",
       "Spa             101\n",
       "VRDeck           80\n",
       "Name             94\n",
       "Deck            100\n",
       "Number          100\n",
       "Side            100\n",
       "dtype: int64"
      ]
     },
     "execution_count": 57,
     "metadata": {},
     "output_type": "execute_result"
    }
   ],
   "source": [
    "test.isna().sum()"
   ]
  },
  {
   "cell_type": "code",
   "execution_count": 58,
   "id": "331bbeb0",
   "metadata": {
    "execution": {
     "iopub.execute_input": "2022-11-08T20:41:50.253133Z",
     "iopub.status.busy": "2022-11-08T20:41:50.251823Z",
     "iopub.status.idle": "2022-11-08T20:41:50.256855Z",
     "shell.execute_reply": "2022-11-08T20:41:50.255950Z"
    },
    "papermill": {
     "duration": 0.041075,
     "end_time": "2022-11-08T20:41:50.259020",
     "exception": false,
     "start_time": "2022-11-08T20:41:50.217945",
     "status": "completed"
    },
    "tags": []
   },
   "outputs": [],
   "source": [
    "cat_cols = [\"HomePlanet\",\"CryoSleep\",\"Destination\",\"VIP\",\"Deck\",\"Side\"] "
   ]
  },
  {
   "cell_type": "code",
   "execution_count": 59,
   "id": "94fa4037",
   "metadata": {
    "execution": {
     "iopub.execute_input": "2022-11-08T20:41:50.328058Z",
     "iopub.status.busy": "2022-11-08T20:41:50.326819Z",
     "iopub.status.idle": "2022-11-08T20:41:50.333130Z",
     "shell.execute_reply": "2022-11-08T20:41:50.331425Z"
    },
    "papermill": {
     "duration": 0.042857,
     "end_time": "2022-11-08T20:41:50.335427",
     "exception": false,
     "start_time": "2022-11-08T20:41:50.292570",
     "status": "completed"
    },
    "tags": []
   },
   "outputs": [],
   "source": [
    "num_cols = [\"Age\", \"RoomService\", \"FoodCourt\", \"ShoppingMall\", \"Spa\", \"VRDeck\"]"
   ]
  },
  {
   "cell_type": "markdown",
   "id": "155cebd5",
   "metadata": {
    "papermill": {
     "duration": 0.033271,
     "end_time": "2022-11-08T20:41:50.402710",
     "exception": false,
     "start_time": "2022-11-08T20:41:50.369439",
     "status": "completed"
    },
    "tags": []
   },
   "source": [
    "[back to contents &#10548;](#0.)\n",
    "<a class=\"anchor\" id=\"4.2.1.\"> \n",
    "<center> <h1 style=\"background-color:indigo; color:white\" >Analysis of Categorical Variables (test) &#128202;</h1>\n",
    "    <center>\n",
    " <a/>"
   ]
  },
  {
   "cell_type": "code",
   "execution_count": 60,
   "id": "a16a45fc",
   "metadata": {
    "execution": {
     "iopub.execute_input": "2022-11-08T20:41:50.472501Z",
     "iopub.status.busy": "2022-11-08T20:41:50.471766Z",
     "iopub.status.idle": "2022-11-08T20:41:51.332375Z",
     "shell.execute_reply": "2022-11-08T20:41:51.331637Z"
    },
    "papermill": {
     "duration": 0.897873,
     "end_time": "2022-11-08T20:41:51.334185",
     "exception": false,
     "start_time": "2022-11-08T20:41:50.436312",
     "status": "completed"
    },
    "tags": []
   },
   "outputs": [
    {
     "name": "stdout",
     "output_type": "stream",
     "text": [
      "        Count  Ratio\n",
      "Earth    2263 52.911\n",
      "Europa   1002 23.428\n",
      "Mars      925 21.627\n"
     ]
    },
    {
     "data": {
      "image/png": "[encoded data removed]",
      "text/plain": [
       "<Figure size 432x288 with 1 Axes>"
      ]
     },
     "metadata": {
      "needs_background": "light"
     },
     "output_type": "display_data"
    },
    {
     "name": "stdout",
     "output_type": "stream",
     "text": [
      "       Count  Ratio\n",
      "False   2640 61.726\n",
      "True    1544 36.100\n"
     ]
    },
    {
     "data": {
      "image/png": "[encoded data removed]",
      "text/plain": [
       "<Figure size 432x288 with 1 Axes>"
      ]
     },
     "metadata": {
      "needs_background": "light"
     },
     "output_type": "display_data"
    },
    {
     "name": "stdout",
     "output_type": "stream",
     "text": [
      "               Count  Ratio\n",
      "TRAPPIST-1e     2956 69.114\n",
      "55 Cancri e      841 19.663\n",
      "PSO J318.5-22    388  9.072\n"
     ]
    },
    {
     "data": {
      "image/png": "[encoded data removed]",
      "text/plain": [
       "<Figure size 432x288 with 1 Axes>"
      ]
     },
     "metadata": {
      "needs_background": "light"
     },
     "output_type": "display_data"
    },
    {
     "name": "stdout",
     "output_type": "stream",
     "text": [
      "       Count  Ratio\n",
      "False   4110 96.095\n",
      "True      74  1.730\n"
     ]
    },
    {
     "data": {
      "image/png": "[encoded data removed]",
      "text/plain": [
       "<Figure size 432x288 with 1 Axes>"
      ]
     },
     "metadata": {
      "needs_background": "light"
     },
     "output_type": "display_data"
    },
    {
     "name": "stdout",
     "output_type": "stream",
     "text": [
      "   Count  Ratio\n",
      "F   1445 33.785\n",
      "G   1222 28.571\n",
      "E    447 10.451\n",
      "B    362  8.464\n",
      "C    355  8.300\n",
      "D    242  5.658\n",
      "A     98  2.291\n",
      "T      6  0.140\n"
     ]
    },
    {
     "data": {
      "image/png": "[encoded data removed]",
      "text/plain": [
       "<Figure size 432x288 with 1 Axes>"
      ]
     },
     "metadata": {
      "needs_background": "light"
     },
     "output_type": "display_data"
    },
    {
     "name": "stdout",
     "output_type": "stream",
     "text": [
      "   Count  Ratio\n",
      "S   2093 48.936\n",
      "P   2084 48.726\n"
     ]
    },
    {
     "data": {
      "image/png": "[encoded data removed]",
      "text/plain": [
       "<Figure size 432x288 with 1 Axes>"
      ]
     },
     "metadata": {
      "needs_background": "light"
     },
     "output_type": "display_data"
    }
   ],
   "source": [
    "for col in cat_cols:\n",
    "    cat_summary_test(test, col, plot=True)"
   ]
  },
  {
   "cell_type": "markdown",
   "id": "acbd2301",
   "metadata": {
    "papermill": {
     "duration": 0.035104,
     "end_time": "2022-11-08T20:41:51.412432",
     "exception": false,
     "start_time": "2022-11-08T20:41:51.377328",
     "status": "completed"
    },
    "tags": []
   },
   "source": [
    "[back to contents &#10548;](#0.)\n",
    "<a class=\"anchor\" id=\"4.2.1.1.\"> \n",
    "<center> <h1 style=\"background-color:indigo; color:white\" >Handling Missing Values (test)</h1>\n",
    "    <center>\n",
    " <a/>"
   ]
  },
  {
   "cell_type": "code",
   "execution_count": 61,
   "id": "567c0e68",
   "metadata": {
    "execution": {
     "iopub.execute_input": "2022-11-08T20:41:51.485562Z",
     "iopub.status.busy": "2022-11-08T20:41:51.483902Z",
     "iopub.status.idle": "2022-11-08T20:41:51.491983Z",
     "shell.execute_reply": "2022-11-08T20:41:51.491345Z"
    },
    "papermill": {
     "duration": 0.045837,
     "end_time": "2022-11-08T20:41:51.493857",
     "exception": false,
     "start_time": "2022-11-08T20:41:51.448020",
     "status": "completed"
    },
    "tags": []
   },
   "outputs": [],
   "source": [
    "#Filling in Missing Values With the Most Repeative Data\n",
    "test[\"HomePlanet\"] = test[\"HomePlanet\"].fillna(\"Earth\")\n",
    "test[\"Destination\"] = test[\"Destination\"].fillna(\"TRAPPIST-1e\")\n",
    "test[\"Deck\"] = test[\"Deck\"].fillna(\"F\")\n",
    "test[\"Side\"] = test[\"Side\"].fillna(\"S\")"
   ]
  },
  {
   "cell_type": "code",
   "execution_count": 62,
   "id": "c489d9f8",
   "metadata": {
    "execution": {
     "iopub.execute_input": "2022-11-08T20:41:51.563905Z",
     "iopub.status.busy": "2022-11-08T20:41:51.563546Z",
     "iopub.status.idle": "2022-11-08T20:41:51.569939Z",
     "shell.execute_reply": "2022-11-08T20:41:51.569052Z"
    },
    "papermill": {
     "duration": 0.043898,
     "end_time": "2022-11-08T20:41:51.572151",
     "exception": false,
     "start_time": "2022-11-08T20:41:51.528253",
     "status": "completed"
    },
    "tags": []
   },
   "outputs": [],
   "source": [
    "# Filling in Missing Values With the Mode CryoSleep\n",
    "test[\"CryoSleep\"] = test[\"CryoSleep\"].fillna(False)"
   ]
  },
  {
   "cell_type": "code",
   "execution_count": 63,
   "id": "fe17ce81",
   "metadata": {
    "execution": {
     "iopub.execute_input": "2022-11-08T20:41:51.702622Z",
     "iopub.status.busy": "2022-11-08T20:41:51.701401Z",
     "iopub.status.idle": "2022-11-08T20:41:51.707503Z",
     "shell.execute_reply": "2022-11-08T20:41:51.706835Z"
    },
    "papermill": {
     "duration": 0.101919,
     "end_time": "2022-11-08T20:41:51.709301",
     "exception": false,
     "start_time": "2022-11-08T20:41:51.607382",
     "status": "completed"
    },
    "tags": []
   },
   "outputs": [],
   "source": [
    "# Filling in Missing Values With the Mode VIP\n",
    "test[\"VIP\"] = test[\"VIP\"].fillna(False)"
   ]
  },
  {
   "cell_type": "markdown",
   "id": "63278162",
   "metadata": {
    "papermill": {
     "duration": 0.03555,
     "end_time": "2022-11-08T20:41:51.778736",
     "exception": false,
     "start_time": "2022-11-08T20:41:51.743186",
     "status": "completed"
    },
    "tags": []
   },
   "source": [
    "[back to contents &#10548;](#0.)\n",
    "<a class=\"anchor\" id=\"4.2.2.\"> \n",
    "<center> <h1 style=\"background-color:indigo; color:white\" >Analysis of Numerical Variables (test) &#128202;</h1>\n",
    "    <center>\n",
    " <a/>"
   ]
  },
  {
   "cell_type": "code",
   "execution_count": 64,
   "id": "cfe8dca0",
   "metadata": {
    "execution": {
     "iopub.execute_input": "2022-11-08T20:41:51.852808Z",
     "iopub.status.busy": "2022-11-08T20:41:51.852330Z",
     "iopub.status.idle": "2022-11-08T20:41:53.558757Z",
     "shell.execute_reply": "2022-11-08T20:41:53.557497Z"
    },
    "papermill": {
     "duration": 1.746456,
     "end_time": "2022-11-08T20:41:53.561514",
     "exception": false,
     "start_time": "2022-11-08T20:41:51.815058",
     "status": "completed"
    },
    "tags": []
   },
   "outputs": [
    {
     "name": "stdout",
     "output_type": "stream",
     "text": [
      "count    4195.000\n",
      "mean      219.266\n",
      "std       607.011\n",
      "min         0.000\n",
      "5%          0.000\n",
      "20%         0.000\n",
      "40%         0.000\n",
      "50%         0.000\n",
      "60%         0.000\n",
      "80%       182.200\n",
      "90%       792.200\n",
      "95%      1274.500\n",
      "99%      2731.260\n",
      "max     11567.000\n",
      "Name: RoomService, dtype: float64\n"
     ]
    },
    {
     "data": {
      "image/png": "[encoded data removed]",
      "text/plain": [
       "<Figure size 864x288 with 1 Axes>"
      ]
     },
     "metadata": {
      "needs_background": "light"
     },
     "output_type": "display_data"
    },
    {
     "data": {
      "image/png": "[encoded data removed]",
      "text/plain": [
       "<Figure size 864x288 with 1 Axes>"
      ]
     },
     "metadata": {
      "needs_background": "light"
     },
     "output_type": "display_data"
    },
    {
     "name": "stdout",
     "output_type": "stream",
     "text": [
      "count    4171.000\n",
      "mean      439.484\n",
      "std      1527.663\n",
      "min         0.000\n",
      "5%          0.000\n",
      "20%         0.000\n",
      "40%         0.000\n",
      "50%         0.000\n",
      "60%         0.000\n",
      "80%       275.000\n",
      "90%       991.000\n",
      "95%      2518.500\n",
      "99%      7534.100\n",
      "max     25273.000\n",
      "Name: FoodCourt, dtype: float64\n"
     ]
    },
    {
     "data": {
      "image/png": "[encoded data removed]",
      "text/plain": [
       "<Figure size 864x288 with 1 Axes>"
      ]
     },
     "metadata": {
      "needs_background": "light"
     },
     "output_type": "display_data"
    },
    {
     "data": {
      "image/png": "[encoded data removed]",
      "text/plain": [
       "<Figure size 864x288 with 1 Axes>"
      ]
     },
     "metadata": {
      "needs_background": "light"
     },
     "output_type": "display_data"
    },
    {
     "name": "stdout",
     "output_type": "stream",
     "text": [
      "count   4179.000\n",
      "mean     177.296\n",
      "std      560.821\n",
      "min        0.000\n",
      "5%         0.000\n",
      "20%        0.000\n",
      "40%        0.000\n",
      "50%        0.000\n",
      "60%        0.000\n",
      "80%      104.400\n",
      "90%      631.200\n",
      "95%      994.100\n",
      "99%     2495.260\n",
      "max     8292.000\n",
      "Name: ShoppingMall, dtype: float64\n"
     ]
    },
    {
     "data": {
      "image/png": "[encoded data removed]",
      "text/plain": [
       "<Figure size 864x288 with 1 Axes>"
      ]
     },
     "metadata": {
      "needs_background": "light"
     },
     "output_type": "display_data"
    },
    {
     "data": {
      "image/png": "[encoded data removed]",
      "text/plain": [
       "<Figure size 864x288 with 1 Axes>"
      ]
     },
     "metadata": {
      "needs_background": "light"
     },
     "output_type": "display_data"
    },
    {
     "name": "stdout",
     "output_type": "stream",
     "text": [
      "count    4176.000\n",
      "mean      303.052\n",
      "std      1117.186\n",
      "min         0.000\n",
      "5%          0.000\n",
      "20%         0.000\n",
      "40%         0.000\n",
      "50%         0.000\n",
      "60%         0.000\n",
      "80%       170.000\n",
      "90%       742.500\n",
      "95%      1525.000\n",
      "99%      5495.000\n",
      "max     19844.000\n",
      "Name: Spa, dtype: float64\n"
     ]
    },
    {
     "data": {
      "image/png": "[encoded data removed]",
      "text/plain": [
       "<Figure size 864x288 with 1 Axes>"
      ]
     },
     "metadata": {
      "needs_background": "light"
     },
     "output_type": "display_data"
    },
    {
     "data": {
      "image/png": "[encoded data removed]",
      "text/plain": [
       "<Figure size 864x288 with 1 Axes>"
      ]
     },
     "metadata": {
      "needs_background": "light"
     },
     "output_type": "display_data"
    },
    {
     "name": "stdout",
     "output_type": "stream",
     "text": [
      "count    4197.000\n",
      "mean      310.710\n",
      "std      1246.995\n",
      "min         0.000\n",
      "5%          0.000\n",
      "20%         0.000\n",
      "40%         0.000\n",
      "50%         0.000\n",
      "60%         0.000\n",
      "80%       124.000\n",
      "90%       703.800\n",
      "95%      1536.800\n",
      "99%      5918.480\n",
      "max     22272.000\n",
      "Name: VRDeck, dtype: float64\n"
     ]
    },
    {
     "data": {
      "image/png": "[encoded data removed]",
      "text/plain": [
       "<Figure size 864x288 with 1 Axes>"
      ]
     },
     "metadata": {
      "needs_background": "light"
     },
     "output_type": "display_data"
    },
    {
     "data": {
      "image/png": "[encoded data removed]",
      "text/plain": [
       "<Figure size 864x288 with 1 Axes>"
      ]
     },
     "metadata": {
      "needs_background": "light"
     },
     "output_type": "display_data"
    }
   ],
   "source": [
    "num_cols_ = [\"RoomService\", \"FoodCourt\", \"ShoppingMall\", \"Spa\", \"VRDeck\"]\n",
    "for col in num_cols_:\n",
    "    num_summary(test,col, plot=True)"
   ]
  },
  {
   "cell_type": "markdown",
   "id": "a098228a",
   "metadata": {
    "papermill": {
     "duration": 0.040472,
     "end_time": "2022-11-08T20:41:53.641219",
     "exception": false,
     "start_time": "2022-11-08T20:41:53.600747",
     "status": "completed"
    },
    "tags": []
   },
   "source": [
    "[back to contents &#10548;](#0.)\n",
    "<a class=\"anchor\" id=\"4.2.2.1.\"> \n",
    "<center> <h1 style=\"background-color:indigo; color:white\" >Handling Missing Values (test)</h1>\n",
    "    <center>\n",
    " <a/>"
   ]
  },
  {
   "cell_type": "code",
   "execution_count": 65,
   "id": "22cfa19f",
   "metadata": {
    "execution": {
     "iopub.execute_input": "2022-11-08T20:41:53.717667Z",
     "iopub.status.busy": "2022-11-08T20:41:53.717350Z",
     "iopub.status.idle": "2022-11-08T20:41:53.725956Z",
     "shell.execute_reply": "2022-11-08T20:41:53.724959Z"
    },
    "papermill": {
     "duration": 0.050068,
     "end_time": "2022-11-08T20:41:53.728432",
     "exception": false,
     "start_time": "2022-11-08T20:41:53.678364",
     "status": "completed"
    },
    "tags": []
   },
   "outputs": [],
   "source": [
    "#Filling in Missing Values With the Most Repeative Data\n",
    "test[\"VRDeck\"] = test[\"VRDeck\"].fillna(0)\n",
    "test[\"Spa\"] = test[\"Spa\"].fillna(0)\n",
    "test[\"ShoppingMall\"] = test[\"ShoppingMall\"].fillna(0)\n",
    "test[\"FoodCourt\"] = test[\"FoodCourt\"].fillna(0)\n",
    "test[\"RoomService\"] = test[\"RoomService\"].fillna(0)"
   ]
  },
  {
   "cell_type": "code",
   "execution_count": 66,
   "id": "00d5bddb",
   "metadata": {
    "execution": {
     "iopub.execute_input": "2022-11-08T20:41:53.803031Z",
     "iopub.status.busy": "2022-11-08T20:41:53.802682Z",
     "iopub.status.idle": "2022-11-08T20:41:53.810681Z",
     "shell.execute_reply": "2022-11-08T20:41:53.808871Z"
    },
    "papermill": {
     "duration": 0.047104,
     "end_time": "2022-11-08T20:41:53.812508",
     "exception": false,
     "start_time": "2022-11-08T20:41:53.765404",
     "status": "completed"
    },
    "tags": []
   },
   "outputs": [
    {
     "data": {
      "text/plain": [
       "0   18.000\n",
       "dtype: float64"
      ]
     },
     "execution_count": 66,
     "metadata": {},
     "output_type": "execute_result"
    }
   ],
   "source": [
    "test[\"Age\"].mode()"
   ]
  },
  {
   "cell_type": "code",
   "execution_count": 67,
   "id": "41c93741",
   "metadata": {
    "execution": {
     "iopub.execute_input": "2022-11-08T20:41:53.890150Z",
     "iopub.status.busy": "2022-11-08T20:41:53.889676Z",
     "iopub.status.idle": "2022-11-08T20:41:53.893955Z",
     "shell.execute_reply": "2022-11-08T20:41:53.893340Z"
    },
    "papermill": {
     "duration": 0.045018,
     "end_time": "2022-11-08T20:41:53.895625",
     "exception": false,
     "start_time": "2022-11-08T20:41:53.850607",
     "status": "completed"
    },
    "tags": []
   },
   "outputs": [],
   "source": [
    "# Filling in Missing Values With the Mode Age\n",
    "test[\"Age\"] = test[\"Age\"].fillna(18.000)"
   ]
  },
  {
   "cell_type": "markdown",
   "id": "e4dbff72",
   "metadata": {
    "papermill": {
     "duration": 0.038378,
     "end_time": "2022-11-08T20:41:53.972247",
     "exception": false,
     "start_time": "2022-11-08T20:41:53.933869",
     "status": "completed"
    },
    "tags": []
   },
   "source": [
    "[back to contents &#10548;](#0.)\n",
    "<a class=\"anchor\" id=\"4.2.3.\"> \n",
    "<center> <h1 style=\"background-color:indigo; color:white\" >Checking for Missing Data (test)</h1>\n",
    "    <center>\n",
    " <a/>"
   ]
  },
  {
   "cell_type": "code",
   "execution_count": 68,
   "id": "12e364d3",
   "metadata": {
    "execution": {
     "iopub.execute_input": "2022-11-08T20:41:54.051556Z",
     "iopub.status.busy": "2022-11-08T20:41:54.050970Z",
     "iopub.status.idle": "2022-11-08T20:41:54.062646Z",
     "shell.execute_reply": "2022-11-08T20:41:54.061236Z"
    },
    "papermill": {
     "duration": 0.053374,
     "end_time": "2022-11-08T20:41:54.064716",
     "exception": false,
     "start_time": "2022-11-08T20:41:54.011342",
     "status": "completed"
    },
    "tags": []
   },
   "outputs": [
    {
     "data": {
      "text/plain": [
       "Number          100\n",
       "Name             94\n",
       "PassengerId       0\n",
       "HomePlanet        0\n",
       "CryoSleep         0\n",
       "Destination       0\n",
       "Age               0\n",
       "VIP               0\n",
       "RoomService       0\n",
       "FoodCourt         0\n",
       "ShoppingMall      0\n",
       "Spa               0\n",
       "VRDeck            0\n",
       "Deck              0\n",
       "Side              0\n",
       "dtype: int64"
      ]
     },
     "execution_count": 68,
     "metadata": {},
     "output_type": "execute_result"
    }
   ],
   "source": [
    "test.isnull().sum().sort_values(ascending=False)"
   ]
  },
  {
   "cell_type": "code",
   "execution_count": 69,
   "id": "88eb7647",
   "metadata": {
    "execution": {
     "iopub.execute_input": "2022-11-08T20:41:54.144077Z",
     "iopub.status.busy": "2022-11-08T20:41:54.143753Z",
     "iopub.status.idle": "2022-11-08T20:41:54.149893Z",
     "shell.execute_reply": "2022-11-08T20:41:54.148780Z"
    },
    "papermill": {
     "duration": 0.048637,
     "end_time": "2022-11-08T20:41:54.152443",
     "exception": false,
     "start_time": "2022-11-08T20:41:54.103806",
     "status": "completed"
    },
    "tags": []
   },
   "outputs": [],
   "source": [
    "test_df= test.copy()"
   ]
  },
  {
   "cell_type": "markdown",
   "id": "fffb3546",
   "metadata": {
    "papermill": {
     "duration": 0.037715,
     "end_time": "2022-11-08T20:41:54.228666",
     "exception": false,
     "start_time": "2022-11-08T20:41:54.190951",
     "status": "completed"
    },
    "tags": []
   },
   "source": [
    "[back to contents &#10548;](#0.)\n",
    "<a class=\"anchor\" id=\"4.2.4.\"> \n",
    "<center> <h1 style=\"background-color:indigo; color:white\" >One Hot Encoding (test)</h1>\n",
    "    <center>\n",
    " <a/>\n"
   ]
  },
  {
   "cell_type": "code",
   "execution_count": 70,
   "id": "4a68bd76",
   "metadata": {
    "execution": {
     "iopub.execute_input": "2022-11-08T20:41:54.307855Z",
     "iopub.status.busy": "2022-11-08T20:41:54.307331Z",
     "iopub.status.idle": "2022-11-08T20:41:54.323124Z",
     "shell.execute_reply": "2022-11-08T20:41:54.321182Z"
    },
    "papermill": {
     "duration": 0.058534,
     "end_time": "2022-11-08T20:41:54.325791",
     "exception": false,
     "start_time": "2022-11-08T20:41:54.267257",
     "status": "completed"
    },
    "tags": []
   },
   "outputs": [],
   "source": [
    "def one_hot_encoder(dataframe, categorical_cols, drop_first=False):\n",
    "    dataframe = pd.get_dummies(dataframe, columns=categorical_cols, drop_first=drop_first)\n",
    "    return dataframe\n",
    "test_df = one_hot_encoder(test_df, cat_cols, drop_first=True)"
   ]
  },
  {
   "cell_type": "code",
   "execution_count": 71,
   "id": "80764fbd",
   "metadata": {
    "execution": {
     "iopub.execute_input": "2022-11-08T20:41:54.406178Z",
     "iopub.status.busy": "2022-11-08T20:41:54.405836Z",
     "iopub.status.idle": "2022-11-08T20:41:54.422598Z",
     "shell.execute_reply": "2022-11-08T20:41:54.421675Z"
    },
    "papermill": {
     "duration": 0.059259,
     "end_time": "2022-11-08T20:41:54.424483",
     "exception": false,
     "start_time": "2022-11-08T20:41:54.365224",
     "status": "completed"
    },
    "tags": []
   },
   "outputs": [
    {
     "data": {
      "text/html": [
       "<div>\n",
       "<style scoped>\n",
       "    .dataframe tbody tr th:only-of-type {\n",
       "        vertical-align: middle;\n",
       "    }\n",
       "\n",
       "    .dataframe tbody tr th {\n",
       "        vertical-align: top;\n",
       "    }\n",
       "\n",
       "    .dataframe thead th {\n",
       "        text-align: right;\n",
       "    }\n",
       "</style>\n",
       "<table border=\"1\" class=\"dataframe\">\n",
       "  <thead>\n",
       "    <tr style=\"text-align: right;\">\n",
       "      <th></th>\n",
       "      <th>PassengerId</th>\n",
       "      <th>Age</th>\n",
       "      <th>RoomService</th>\n",
       "      <th>FoodCourt</th>\n",
       "      <th>ShoppingMall</th>\n",
       "      <th>Spa</th>\n",
       "      <th>VRDeck</th>\n",
       "      <th>Name</th>\n",
       "      <th>Number</th>\n",
       "      <th>HomePlanet_Europa</th>\n",
       "      <th>HomePlanet_Mars</th>\n",
       "      <th>CryoSleep_True</th>\n",
       "      <th>Destination_PSO J318.5-22</th>\n",
       "      <th>Destination_TRAPPIST-1e</th>\n",
       "      <th>VIP_True</th>\n",
       "      <th>Deck_B</th>\n",
       "      <th>Deck_C</th>\n",
       "      <th>Deck_D</th>\n",
       "      <th>Deck_E</th>\n",
       "      <th>Deck_F</th>\n",
       "      <th>Deck_G</th>\n",
       "      <th>Deck_T</th>\n",
       "      <th>Side_S</th>\n",
       "    </tr>\n",
       "  </thead>\n",
       "  <tbody>\n",
       "    <tr>\n",
       "      <th>0</th>\n",
       "      <td>0013_01</td>\n",
       "      <td>27.000</td>\n",
       "      <td>0.000</td>\n",
       "      <td>0.000</td>\n",
       "      <td>0.000</td>\n",
       "      <td>0.000</td>\n",
       "      <td>0.000</td>\n",
       "      <td>Nelly Carsoning</td>\n",
       "      <td>3.000</td>\n",
       "      <td>0</td>\n",
       "      <td>0</td>\n",
       "      <td>1</td>\n",
       "      <td>0</td>\n",
       "      <td>1</td>\n",
       "      <td>0</td>\n",
       "      <td>0</td>\n",
       "      <td>0</td>\n",
       "      <td>0</td>\n",
       "      <td>0</td>\n",
       "      <td>0</td>\n",
       "      <td>1</td>\n",
       "      <td>0</td>\n",
       "      <td>1</td>\n",
       "    </tr>\n",
       "    <tr>\n",
       "      <th>1</th>\n",
       "      <td>0018_01</td>\n",
       "      <td>19.000</td>\n",
       "      <td>0.000</td>\n",
       "      <td>9.000</td>\n",
       "      <td>0.000</td>\n",
       "      <td>2823.000</td>\n",
       "      <td>0.000</td>\n",
       "      <td>Lerome Peckers</td>\n",
       "      <td>4.000</td>\n",
       "      <td>0</td>\n",
       "      <td>0</td>\n",
       "      <td>0</td>\n",
       "      <td>0</td>\n",
       "      <td>1</td>\n",
       "      <td>0</td>\n",
       "      <td>0</td>\n",
       "      <td>0</td>\n",
       "      <td>0</td>\n",
       "      <td>0</td>\n",
       "      <td>1</td>\n",
       "      <td>0</td>\n",
       "      <td>0</td>\n",
       "      <td>1</td>\n",
       "    </tr>\n",
       "    <tr>\n",
       "      <th>2</th>\n",
       "      <td>0019_01</td>\n",
       "      <td>31.000</td>\n",
       "      <td>0.000</td>\n",
       "      <td>0.000</td>\n",
       "      <td>0.000</td>\n",
       "      <td>0.000</td>\n",
       "      <td>0.000</td>\n",
       "      <td>Sabih Unhearfus</td>\n",
       "      <td>0.000</td>\n",
       "      <td>1</td>\n",
       "      <td>0</td>\n",
       "      <td>1</td>\n",
       "      <td>0</td>\n",
       "      <td>0</td>\n",
       "      <td>0</td>\n",
       "      <td>0</td>\n",
       "      <td>1</td>\n",
       "      <td>0</td>\n",
       "      <td>0</td>\n",
       "      <td>0</td>\n",
       "      <td>0</td>\n",
       "      <td>0</td>\n",
       "      <td>1</td>\n",
       "    </tr>\n",
       "    <tr>\n",
       "      <th>3</th>\n",
       "      <td>0021_01</td>\n",
       "      <td>38.000</td>\n",
       "      <td>0.000</td>\n",
       "      <td>6652.000</td>\n",
       "      <td>0.000</td>\n",
       "      <td>181.000</td>\n",
       "      <td>585.000</td>\n",
       "      <td>Meratz Caltilter</td>\n",
       "      <td>1.000</td>\n",
       "      <td>1</td>\n",
       "      <td>0</td>\n",
       "      <td>0</td>\n",
       "      <td>0</td>\n",
       "      <td>1</td>\n",
       "      <td>0</td>\n",
       "      <td>0</td>\n",
       "      <td>1</td>\n",
       "      <td>0</td>\n",
       "      <td>0</td>\n",
       "      <td>0</td>\n",
       "      <td>0</td>\n",
       "      <td>0</td>\n",
       "      <td>1</td>\n",
       "    </tr>\n",
       "    <tr>\n",
       "      <th>4</th>\n",
       "      <td>0023_01</td>\n",
       "      <td>20.000</td>\n",
       "      <td>10.000</td>\n",
       "      <td>0.000</td>\n",
       "      <td>635.000</td>\n",
       "      <td>0.000</td>\n",
       "      <td>0.000</td>\n",
       "      <td>Brence Harperez</td>\n",
       "      <td>5.000</td>\n",
       "      <td>0</td>\n",
       "      <td>0</td>\n",
       "      <td>0</td>\n",
       "      <td>0</td>\n",
       "      <td>1</td>\n",
       "      <td>0</td>\n",
       "      <td>0</td>\n",
       "      <td>0</td>\n",
       "      <td>0</td>\n",
       "      <td>0</td>\n",
       "      <td>1</td>\n",
       "      <td>0</td>\n",
       "      <td>0</td>\n",
       "      <td>1</td>\n",
       "    </tr>\n",
       "  </tbody>\n",
       "</table>\n",
       "</div>"
      ],
      "text/plain": [
       "  PassengerId    Age  RoomService  FoodCourt  ShoppingMall      Spa  VRDeck              Name  Number  HomePlanet_Europa  HomePlanet_Mars  CryoSleep_True  \\\n",
       "0     0013_01 27.000        0.000      0.000         0.000    0.000   0.000   Nelly Carsoning   3.000                  0                0               1   \n",
       "1     0018_01 19.000        0.000      9.000         0.000 2823.000   0.000    Lerome Peckers   4.000                  0                0               0   \n",
       "2     0019_01 31.000        0.000      0.000         0.000    0.000   0.000   Sabih Unhearfus   0.000                  1                0               1   \n",
       "3     0021_01 38.000        0.000   6652.000         0.000  181.000 585.000  Meratz Caltilter   1.000                  1                0               0   \n",
       "4     0023_01 20.000       10.000      0.000       635.000    0.000   0.000   Brence Harperez   5.000                  0                0               0   \n",
       "\n",
       "   Destination_PSO J318.5-22  Destination_TRAPPIST-1e  VIP_True  Deck_B  Deck_C  Deck_D  Deck_E  Deck_F  Deck_G  Deck_T  Side_S  \n",
       "0                          0                        1         0       0       0       0       0       0       1       0       1  \n",
       "1                          0                        1         0       0       0       0       0       1       0       0       1  \n",
       "2                          0                        0         0       0       1       0       0       0       0       0       1  \n",
       "3                          0                        1         0       0       1       0       0       0       0       0       1  \n",
       "4                          0                        1         0       0       0       0       0       1       0       0       1  "
      ]
     },
     "execution_count": 71,
     "metadata": {},
     "output_type": "execute_result"
    }
   ],
   "source": [
    "test_df.head()"
   ]
  },
  {
   "cell_type": "markdown",
   "id": "8d16372f",
   "metadata": {
    "papermill": {
     "duration": 0.038352,
     "end_time": "2022-11-08T20:41:54.501297",
     "exception": false,
     "start_time": "2022-11-08T20:41:54.462945",
     "status": "completed"
    },
    "tags": []
   },
   "source": [
    "[back to contents &#10548;](#0.)\n",
    "<a class=\"anchor\" id=\"4.2.5.\"> \n",
    "<center> <h1 style=\"background-color:indigo; color:white\" >Editing Test Data</h1>\n",
    "    <center>\n",
    " <a/>"
   ]
  },
  {
   "cell_type": "code",
   "execution_count": 72,
   "id": "91daec2d",
   "metadata": {
    "execution": {
     "iopub.execute_input": "2022-11-08T20:41:54.579583Z",
     "iopub.status.busy": "2022-11-08T20:41:54.579281Z",
     "iopub.status.idle": "2022-11-08T20:41:54.586112Z",
     "shell.execute_reply": "2022-11-08T20:41:54.584703Z"
    },
    "papermill": {
     "duration": 0.048625,
     "end_time": "2022-11-08T20:41:54.588589",
     "exception": false,
     "start_time": "2022-11-08T20:41:54.539964",
     "status": "completed"
    },
    "tags": []
   },
   "outputs": [],
   "source": [
    "X_test = test_df.drop([\"Name\", \"Number\",\"PassengerId\"],axis=1)"
   ]
  },
  {
   "cell_type": "code",
   "execution_count": 73,
   "id": "6bb2c203",
   "metadata": {
    "execution": {
     "iopub.execute_input": "2022-11-08T20:41:54.667034Z",
     "iopub.status.busy": "2022-11-08T20:41:54.666643Z",
     "iopub.status.idle": "2022-11-08T20:41:54.681720Z",
     "shell.execute_reply": "2022-11-08T20:41:54.680376Z"
    },
    "papermill": {
     "duration": 0.05702,
     "end_time": "2022-11-08T20:41:54.683996",
     "exception": false,
     "start_time": "2022-11-08T20:41:54.626976",
     "status": "completed"
    },
    "tags": []
   },
   "outputs": [
    {
     "data": {
      "text/html": [
       "<div>\n",
       "<style scoped>\n",
       "    .dataframe tbody tr th:only-of-type {\n",
       "        vertical-align: middle;\n",
       "    }\n",
       "\n",
       "    .dataframe tbody tr th {\n",
       "        vertical-align: top;\n",
       "    }\n",
       "\n",
       "    .dataframe thead th {\n",
       "        text-align: right;\n",
       "    }\n",
       "</style>\n",
       "<table border=\"1\" class=\"dataframe\">\n",
       "  <thead>\n",
       "    <tr style=\"text-align: right;\">\n",
       "      <th></th>\n",
       "      <th>Age</th>\n",
       "      <th>RoomService</th>\n",
       "      <th>FoodCourt</th>\n",
       "      <th>ShoppingMall</th>\n",
       "      <th>Spa</th>\n",
       "      <th>VRDeck</th>\n",
       "      <th>HomePlanet_Europa</th>\n",
       "      <th>HomePlanet_Mars</th>\n",
       "      <th>CryoSleep_True</th>\n",
       "      <th>Destination_PSO J318.5-22</th>\n",
       "      <th>Destination_TRAPPIST-1e</th>\n",
       "      <th>VIP_True</th>\n",
       "      <th>Deck_B</th>\n",
       "      <th>Deck_C</th>\n",
       "      <th>Deck_D</th>\n",
       "      <th>Deck_E</th>\n",
       "      <th>Deck_F</th>\n",
       "      <th>Deck_G</th>\n",
       "      <th>Deck_T</th>\n",
       "      <th>Side_S</th>\n",
       "    </tr>\n",
       "  </thead>\n",
       "  <tbody>\n",
       "    <tr>\n",
       "      <th>0</th>\n",
       "      <td>27.000</td>\n",
       "      <td>0.000</td>\n",
       "      <td>0.000</td>\n",
       "      <td>0.000</td>\n",
       "      <td>0.000</td>\n",
       "      <td>0.000</td>\n",
       "      <td>0</td>\n",
       "      <td>0</td>\n",
       "      <td>1</td>\n",
       "      <td>0</td>\n",
       "      <td>1</td>\n",
       "      <td>0</td>\n",
       "      <td>0</td>\n",
       "      <td>0</td>\n",
       "      <td>0</td>\n",
       "      <td>0</td>\n",
       "      <td>0</td>\n",
       "      <td>1</td>\n",
       "      <td>0</td>\n",
       "      <td>1</td>\n",
       "    </tr>\n",
       "    <tr>\n",
       "      <th>1</th>\n",
       "      <td>19.000</td>\n",
       "      <td>0.000</td>\n",
       "      <td>9.000</td>\n",
       "      <td>0.000</td>\n",
       "      <td>2823.000</td>\n",
       "      <td>0.000</td>\n",
       "      <td>0</td>\n",
       "      <td>0</td>\n",
       "      <td>0</td>\n",
       "      <td>0</td>\n",
       "      <td>1</td>\n",
       "      <td>0</td>\n",
       "      <td>0</td>\n",
       "      <td>0</td>\n",
       "      <td>0</td>\n",
       "      <td>0</td>\n",
       "      <td>1</td>\n",
       "      <td>0</td>\n",
       "      <td>0</td>\n",
       "      <td>1</td>\n",
       "    </tr>\n",
       "    <tr>\n",
       "      <th>2</th>\n",
       "      <td>31.000</td>\n",
       "      <td>0.000</td>\n",
       "      <td>0.000</td>\n",
       "      <td>0.000</td>\n",
       "      <td>0.000</td>\n",
       "      <td>0.000</td>\n",
       "      <td>1</td>\n",
       "      <td>0</td>\n",
       "      <td>1</td>\n",
       "      <td>0</td>\n",
       "      <td>0</td>\n",
       "      <td>0</td>\n",
       "      <td>0</td>\n",
       "      <td>1</td>\n",
       "      <td>0</td>\n",
       "      <td>0</td>\n",
       "      <td>0</td>\n",
       "      <td>0</td>\n",
       "      <td>0</td>\n",
       "      <td>1</td>\n",
       "    </tr>\n",
       "    <tr>\n",
       "      <th>3</th>\n",
       "      <td>38.000</td>\n",
       "      <td>0.000</td>\n",
       "      <td>6652.000</td>\n",
       "      <td>0.000</td>\n",
       "      <td>181.000</td>\n",
       "      <td>585.000</td>\n",
       "      <td>1</td>\n",
       "      <td>0</td>\n",
       "      <td>0</td>\n",
       "      <td>0</td>\n",
       "      <td>1</td>\n",
       "      <td>0</td>\n",
       "      <td>0</td>\n",
       "      <td>1</td>\n",
       "      <td>0</td>\n",
       "      <td>0</td>\n",
       "      <td>0</td>\n",
       "      <td>0</td>\n",
       "      <td>0</td>\n",
       "      <td>1</td>\n",
       "    </tr>\n",
       "    <tr>\n",
       "      <th>4</th>\n",
       "      <td>20.000</td>\n",
       "      <td>10.000</td>\n",
       "      <td>0.000</td>\n",
       "      <td>635.000</td>\n",
       "      <td>0.000</td>\n",
       "      <td>0.000</td>\n",
       "      <td>0</td>\n",
       "      <td>0</td>\n",
       "      <td>0</td>\n",
       "      <td>0</td>\n",
       "      <td>1</td>\n",
       "      <td>0</td>\n",
       "      <td>0</td>\n",
       "      <td>0</td>\n",
       "      <td>0</td>\n",
       "      <td>0</td>\n",
       "      <td>1</td>\n",
       "      <td>0</td>\n",
       "      <td>0</td>\n",
       "      <td>1</td>\n",
       "    </tr>\n",
       "  </tbody>\n",
       "</table>\n",
       "</div>"
      ],
      "text/plain": [
       "     Age  RoomService  FoodCourt  ShoppingMall      Spa  VRDeck  HomePlanet_Europa  HomePlanet_Mars  CryoSleep_True  Destination_PSO J318.5-22  Destination_TRAPPIST-1e  \\\n",
       "0 27.000        0.000      0.000         0.000    0.000   0.000                  0                0               1                          0                        1   \n",
       "1 19.000        0.000      9.000         0.000 2823.000   0.000                  0                0               0                          0                        1   \n",
       "2 31.000        0.000      0.000         0.000    0.000   0.000                  1                0               1                          0                        0   \n",
       "3 38.000        0.000   6652.000         0.000  181.000 585.000                  1                0               0                          0                        1   \n",
       "4 20.000       10.000      0.000       635.000    0.000   0.000                  0                0               0                          0                        1   \n",
       "\n",
       "   VIP_True  Deck_B  Deck_C  Deck_D  Deck_E  Deck_F  Deck_G  Deck_T  Side_S  \n",
       "0         0       0       0       0       0       0       1       0       1  \n",
       "1         0       0       0       0       0       1       0       0       1  \n",
       "2         0       0       1       0       0       0       0       0       1  \n",
       "3         0       0       1       0       0       0       0       0       1  \n",
       "4         0       0       0       0       0       1       0       0       1  "
      ]
     },
     "execution_count": 73,
     "metadata": {},
     "output_type": "execute_result"
    }
   ],
   "source": [
    "X_test.head()"
   ]
  },
  {
   "cell_type": "markdown",
   "id": "33661f79",
   "metadata": {
    "papermill": {
     "duration": 0.039058,
     "end_time": "2022-11-08T20:41:54.761730",
     "exception": false,
     "start_time": "2022-11-08T20:41:54.722672",
     "status": "completed"
    },
    "tags": []
   },
   "source": [
    "[back to contents &#10548;](#0.)\n",
    "<a class=\"anchor\" id=\"5.\"> \n",
    "<center> <h1 style=\"background-color:indigo; color:white\" >Random Forest &#127795;</h1>\n",
    "    <center>\n",
    " <a/>"
   ]
  },
  {
   "cell_type": "code",
   "execution_count": 74,
   "id": "c42133db",
   "metadata": {
    "execution": {
     "iopub.execute_input": "2022-11-08T20:41:54.840875Z",
     "iopub.status.busy": "2022-11-08T20:41:54.840325Z",
     "iopub.status.idle": "2022-11-08T20:41:54.843909Z",
     "shell.execute_reply": "2022-11-08T20:41:54.843339Z"
    },
    "papermill": {
     "duration": 0.04567,
     "end_time": "2022-11-08T20:41:54.846000",
     "exception": false,
     "start_time": "2022-11-08T20:41:54.800330",
     "status": "completed"
    },
    "tags": []
   },
   "outputs": [],
   "source": [
    "rf_model = RandomForestClassifier(random_state=17)"
   ]
  },
  {
   "cell_type": "code",
   "execution_count": 75,
   "id": "000afeae",
   "metadata": {
    "execution": {
     "iopub.execute_input": "2022-11-08T20:41:54.925365Z",
     "iopub.status.busy": "2022-11-08T20:41:54.924375Z",
     "iopub.status.idle": "2022-11-08T20:41:54.931957Z",
     "shell.execute_reply": "2022-11-08T20:41:54.930828Z"
    },
    "papermill": {
     "duration": 0.048931,
     "end_time": "2022-11-08T20:41:54.934479",
     "exception": false,
     "start_time": "2022-11-08T20:41:54.885548",
     "status": "completed"
    },
    "tags": []
   },
   "outputs": [
    {
     "data": {
      "text/plain": [
       "{'bootstrap': True,\n",
       " 'ccp_alpha': 0.0,\n",
       " 'class_weight': None,\n",
       " 'criterion': 'gini',\n",
       " 'max_depth': None,\n",
       " 'max_features': 'auto',\n",
       " 'max_leaf_nodes': None,\n",
       " 'max_samples': None,\n",
       " 'min_impurity_decrease': 0.0,\n",
       " 'min_samples_leaf': 1,\n",
       " 'min_samples_split': 2,\n",
       " 'min_weight_fraction_leaf': 0.0,\n",
       " 'n_estimators': 100,\n",
       " 'n_jobs': None,\n",
       " 'oob_score': False,\n",
       " 'random_state': 17,\n",
       " 'verbose': 0,\n",
       " 'warm_start': False}"
      ]
     },
     "execution_count": 75,
     "metadata": {},
     "output_type": "execute_result"
    }
   ],
   "source": [
    "# Default Parameters\n",
    "rf_model.get_params()"
   ]
  },
  {
   "cell_type": "code",
   "execution_count": 76,
   "id": "de532295",
   "metadata": {
    "execution": {
     "iopub.execute_input": "2022-11-08T20:41:55.015062Z",
     "iopub.status.busy": "2022-11-08T20:41:55.014698Z",
     "iopub.status.idle": "2022-11-08T20:41:55.020367Z",
     "shell.execute_reply": "2022-11-08T20:41:55.019246Z"
    },
    "papermill": {
     "duration": 0.048772,
     "end_time": "2022-11-08T20:41:55.022427",
     "exception": false,
     "start_time": "2022-11-08T20:41:54.973655",
     "status": "completed"
    },
    "tags": []
   },
   "outputs": [],
   "source": [
    "# Parameters Defined for the Test\n",
    "rf_params = {\"max_depth\": [7, 8, 9, 10],\n",
    "             \"max_features\": [4, 5, 6, 7],\n",
    "             \"min_samples_split\": [5, 6, 7, 8 ,9],\n",
    "             \"n_estimators\": [100, 200, 300]}"
   ]
  },
  {
   "cell_type": "code",
   "execution_count": 77,
   "id": "94bdf1de",
   "metadata": {
    "execution": {
     "iopub.execute_input": "2022-11-08T20:41:55.102117Z",
     "iopub.status.busy": "2022-11-08T20:41:55.100637Z",
     "iopub.status.idle": "2022-11-08T20:59:23.950965Z",
     "shell.execute_reply": "2022-11-08T20:59:23.949840Z"
    },
    "papermill": {
     "duration": 1048.891408,
     "end_time": "2022-11-08T20:59:23.953067",
     "exception": false,
     "start_time": "2022-11-08T20:41:55.061659",
     "status": "completed"
    },
    "tags": []
   },
   "outputs": [
    {
     "name": "stdout",
     "output_type": "stream",
     "text": [
      "Fitting 10 folds for each of 240 candidates, totalling 2400 fits\n"
     ]
    }
   ],
   "source": [
    "#Finding the Best Parameters\n",
    "rf_best_grid = GridSearchCV(rf_model, rf_params, cv=10, n_jobs=-1, verbose=True).fit(X_train, y_train)"
   ]
  },
  {
   "cell_type": "code",
   "execution_count": 78,
   "id": "004cd102",
   "metadata": {
    "execution": {
     "iopub.execute_input": "2022-11-08T20:59:24.032559Z",
     "iopub.status.busy": "2022-11-08T20:59:24.032059Z",
     "iopub.status.idle": "2022-11-08T20:59:24.038727Z",
     "shell.execute_reply": "2022-11-08T20:59:24.037451Z"
    },
    "papermill": {
     "duration": 0.048908,
     "end_time": "2022-11-08T20:59:24.041083",
     "exception": false,
     "start_time": "2022-11-08T20:59:23.992175",
     "status": "completed"
    },
    "tags": []
   },
   "outputs": [
    {
     "data": {
      "text/plain": [
       "{'max_depth': 9,\n",
       " 'max_features': 5,\n",
       " 'min_samples_split': 5,\n",
       " 'n_estimators': 200}"
      ]
     },
     "execution_count": 78,
     "metadata": {},
     "output_type": "execute_result"
    }
   ],
   "source": [
    "rf_best_grid.best_params_"
   ]
  },
  {
   "cell_type": "code",
   "execution_count": 79,
   "id": "f330b24f",
   "metadata": {
    "execution": {
     "iopub.execute_input": "2022-11-08T20:59:24.118359Z",
     "iopub.status.busy": "2022-11-08T20:59:24.117903Z",
     "iopub.status.idle": "2022-11-08T20:59:25.624930Z",
     "shell.execute_reply": "2022-11-08T20:59:25.623564Z"
    },
    "papermill": {
     "duration": 1.548729,
     "end_time": "2022-11-08T20:59:25.627409",
     "exception": false,
     "start_time": "2022-11-08T20:59:24.078680",
     "status": "completed"
    },
    "tags": []
   },
   "outputs": [],
   "source": [
    "#Training the Model\n",
    "rf_final = rf_model.set_params(**rf_best_grid.best_params_).fit(X_train, y_train)"
   ]
  },
  {
   "cell_type": "code",
   "execution_count": 80,
   "id": "24b10472",
   "metadata": {
    "execution": {
     "iopub.execute_input": "2022-11-08T20:59:25.704565Z",
     "iopub.status.busy": "2022-11-08T20:59:25.704233Z",
     "iopub.status.idle": "2022-11-08T20:59:25.814994Z",
     "shell.execute_reply": "2022-11-08T20:59:25.814063Z"
    },
    "papermill": {
     "duration": 0.151939,
     "end_time": "2022-11-08T20:59:25.816985",
     "exception": false,
     "start_time": "2022-11-08T20:59:25.665046",
     "status": "completed"
    },
    "tags": []
   },
   "outputs": [],
   "source": [
    "# Model Prepared with the Best Parameters\n",
    "y_pred_rf = rf_final.predict(X_test)"
   ]
  },
  {
   "cell_type": "code",
   "execution_count": 81,
   "id": "35e3a03e",
   "metadata": {
    "execution": {
     "iopub.execute_input": "2022-11-08T20:59:25.894252Z",
     "iopub.status.busy": "2022-11-08T20:59:25.893780Z",
     "iopub.status.idle": "2022-11-08T21:01:19.733394Z",
     "shell.execute_reply": "2022-11-08T21:01:19.732638Z"
    },
    "papermill": {
     "duration": 113.9177,
     "end_time": "2022-11-08T21:01:19.772468",
     "exception": false,
     "start_time": "2022-11-08T20:59:25.854768",
     "status": "completed"
    },
    "tags": []
   },
   "outputs": [
    {
     "data": {
      "image/png": "[encoded data removed]",
      "text/plain": [
       "<Figure size 432x288 with 1 Axes>"
      ]
     },
     "metadata": {
      "needs_background": "light"
     },
     "output_type": "display_data"
    }
   ],
   "source": [
    "# Accuracy and Maximum Depth Curve\n",
    "val_curve_params(rf_final, X_train, y_train, \"max_depth\", range(1, 11), scoring=\"accuracy\")  "
   ]
  },
  {
   "cell_type": "code",
   "execution_count": 82,
   "id": "9b191d74",
   "metadata": {
    "execution": {
     "iopub.execute_input": "2022-11-08T21:01:19.850463Z",
     "iopub.status.busy": "2022-11-08T21:01:19.850139Z",
     "iopub.status.idle": "2022-11-08T21:01:20.206140Z",
     "shell.execute_reply": "2022-11-08T21:01:20.205240Z"
    },
    "papermill": {
     "duration": 0.397855,
     "end_time": "2022-11-08T21:01:20.208102",
     "exception": false,
     "start_time": "2022-11-08T21:01:19.810247",
     "status": "completed"
    },
    "tags": []
   },
   "outputs": [
    {
     "data": {
      "image/png": "[encoded data removed]",
      "text/plain": [
       "<Figure size 720x720 with 1 Axes>"
      ]
     },
     "metadata": {
      "needs_background": "light"
     },
     "output_type": "display_data"
    }
   ],
   "source": [
    "def plot_importance(model, features, num=len(X_train), save=True):\n",
    "    feature_imp = pd.DataFrame({'Value': model.feature_importances_, 'Feature': features.columns})\n",
    "    plt.figure(figsize=(10, 10))\n",
    "    sns.set(font_scale=1)\n",
    "    sns.barplot(x=\"Value\", y=\"Feature\", data=feature_imp.sort_values(by=\"Value\",\n",
    "                                                                     ascending=False)[0:num])\n",
    "    plt.title('Features')\n",
    "    plt.tight_layout()\n",
    "    plt.show()\n",
    "# Importance Graphics\n",
    "plot_importance(rf_final, X_train) "
   ]
  },
  {
   "cell_type": "markdown",
   "id": "8bffc3b2",
   "metadata": {
    "papermill": {
     "duration": 0.039563,
     "end_time": "2022-11-08T21:01:20.287412",
     "exception": false,
     "start_time": "2022-11-08T21:01:20.247849",
     "status": "completed"
    },
    "tags": []
   },
   "source": [
    "[back to contents &#10548;](#0.)\n",
    "<a class=\"anchor\" id=\"6.\"> \n",
    "<center> <h1 style=\"background-color:indigo; color:white\" >Gradient Boosting Machine &#128297;</h1>\n",
    "    <center>\n",
    " <a/>"
   ]
  },
  {
   "cell_type": "code",
   "execution_count": 83,
   "id": "4087d71f",
   "metadata": {
    "execution": {
     "iopub.execute_input": "2022-11-08T21:01:20.368117Z",
     "iopub.status.busy": "2022-11-08T21:01:20.367806Z",
     "iopub.status.idle": "2022-11-08T21:01:20.372133Z",
     "shell.execute_reply": "2022-11-08T21:01:20.371250Z"
    },
    "papermill": {
     "duration": 0.047645,
     "end_time": "2022-11-08T21:01:20.374602",
     "exception": false,
     "start_time": "2022-11-08T21:01:20.326957",
     "status": "completed"
    },
    "tags": []
   },
   "outputs": [],
   "source": [
    "gbm_model = GradientBoostingClassifier(random_state=17)"
   ]
  },
  {
   "cell_type": "code",
   "execution_count": 84,
   "id": "d0617a63",
   "metadata": {
    "execution": {
     "iopub.execute_input": "2022-11-08T21:01:20.454721Z",
     "iopub.status.busy": "2022-11-08T21:01:20.453932Z",
     "iopub.status.idle": "2022-11-08T21:01:20.460341Z",
     "shell.execute_reply": "2022-11-08T21:01:20.459494Z"
    },
    "papermill": {
     "duration": 0.048327,
     "end_time": "2022-11-08T21:01:20.462058",
     "exception": false,
     "start_time": "2022-11-08T21:01:20.413731",
     "status": "completed"
    },
    "tags": []
   },
   "outputs": [
    {
     "data": {
      "text/plain": [
       "{'ccp_alpha': 0.0,\n",
       " 'criterion': 'friedman_mse',\n",
       " 'init': None,\n",
       " 'learning_rate': 0.1,\n",
       " 'loss': 'deviance',\n",
       " 'max_depth': 3,\n",
       " 'max_features': None,\n",
       " 'max_leaf_nodes': None,\n",
       " 'min_impurity_decrease': 0.0,\n",
       " 'min_samples_leaf': 1,\n",
       " 'min_samples_split': 2,\n",
       " 'min_weight_fraction_leaf': 0.0,\n",
       " 'n_estimators': 100,\n",
       " 'n_iter_no_change': None,\n",
       " 'random_state': 17,\n",
       " 'subsample': 1.0,\n",
       " 'tol': 0.0001,\n",
       " 'validation_fraction': 0.1,\n",
       " 'verbose': 0,\n",
       " 'warm_start': False}"
      ]
     },
     "execution_count": 84,
     "metadata": {},
     "output_type": "execute_result"
    }
   ],
   "source": [
    "# Default Parameters\n",
    "gbm_model.get_params()"
   ]
  },
  {
   "cell_type": "code",
   "execution_count": 85,
   "id": "35c130c0",
   "metadata": {
    "execution": {
     "iopub.execute_input": "2022-11-08T21:01:20.542306Z",
     "iopub.status.busy": "2022-11-08T21:01:20.541202Z",
     "iopub.status.idle": "2022-11-08T21:01:20.547193Z",
     "shell.execute_reply": "2022-11-08T21:01:20.546234Z"
    },
    "papermill": {
     "duration": 0.048744,
     "end_time": "2022-11-08T21:01:20.549466",
     "exception": false,
     "start_time": "2022-11-08T21:01:20.500722",
     "status": "completed"
    },
    "tags": []
   },
   "outputs": [],
   "source": [
    "# Parameters Defined for the Test\n",
    "gbm_params = {\"learning_rate\": [0.01, 0.02, 0.1],\n",
    "              \"max_depth\": [6, 7, 8, 9],\n",
    "              \"n_estimators\": [100, 200, 400, 600],\n",
    "              \"subsample\": [0.3, 0.4, 0.6, 0.8]}"
   ]
  },
  {
   "cell_type": "code",
   "execution_count": 86,
   "id": "fd2047de",
   "metadata": {
    "execution": {
     "iopub.execute_input": "2022-11-08T21:01:20.629754Z",
     "iopub.status.busy": "2022-11-08T21:01:20.629208Z",
     "iopub.status.idle": "2022-11-08T21:55:12.079172Z",
     "shell.execute_reply": "2022-11-08T21:55:12.077914Z"
    },
    "papermill": {
     "duration": 3231.493428,
     "end_time": "2022-11-08T21:55:12.082477",
     "exception": false,
     "start_time": "2022-11-08T21:01:20.589049",
     "status": "completed"
    },
    "tags": []
   },
   "outputs": [
    {
     "name": "stdout",
     "output_type": "stream",
     "text": [
      "Fitting 10 folds for each of 192 candidates, totalling 1920 fits\n"
     ]
    }
   ],
   "source": [
    "#Finding the Best Parameters\n",
    "gbm_best_grid = GridSearchCV(gbm_model, gbm_params, cv=10, n_jobs=-1, verbose=True).fit(X_train, y_train)"
   ]
  },
  {
   "cell_type": "code",
   "execution_count": 87,
   "id": "2f0976c4",
   "metadata": {
    "execution": {
     "iopub.execute_input": "2022-11-08T21:55:12.167830Z",
     "iopub.status.busy": "2022-11-08T21:55:12.167480Z",
     "iopub.status.idle": "2022-11-08T21:55:12.174771Z",
     "shell.execute_reply": "2022-11-08T21:55:12.173453Z"
    },
    "papermill": {
     "duration": 0.052474,
     "end_time": "2022-11-08T21:55:12.176986",
     "exception": false,
     "start_time": "2022-11-08T21:55:12.124512",
     "status": "completed"
    },
    "tags": []
   },
   "outputs": [
    {
     "data": {
      "text/plain": [
       "{'learning_rate': 0.02, 'max_depth': 6, 'n_estimators': 400, 'subsample': 0.4}"
      ]
     },
     "execution_count": 87,
     "metadata": {},
     "output_type": "execute_result"
    }
   ],
   "source": [
    "gbm_best_grid.best_params_"
   ]
  },
  {
   "cell_type": "code",
   "execution_count": 88,
   "id": "3ec23e81",
   "metadata": {
    "execution": {
     "iopub.execute_input": "2022-11-08T21:55:12.259100Z",
     "iopub.status.busy": "2022-11-08T21:55:12.258037Z",
     "iopub.status.idle": "2022-11-08T21:55:16.593558Z",
     "shell.execute_reply": "2022-11-08T21:55:16.592594Z"
    },
    "papermill": {
     "duration": 4.379165,
     "end_time": "2022-11-08T21:55:16.595923",
     "exception": false,
     "start_time": "2022-11-08T21:55:12.216758",
     "status": "completed"
    },
    "tags": []
   },
   "outputs": [],
   "source": [
    "#Training the Model\n",
    "gbm_final = gbm_model.set_params(**gbm_best_grid.best_params_, random_state=17, ).fit(X_train, y_train)"
   ]
  },
  {
   "cell_type": "code",
   "execution_count": 89,
   "id": "3ba24132",
   "metadata": {
    "execution": {
     "iopub.execute_input": "2022-11-08T21:55:16.676760Z",
     "iopub.status.busy": "2022-11-08T21:55:16.676282Z",
     "iopub.status.idle": "2022-11-08T21:55:16.733006Z",
     "shell.execute_reply": "2022-11-08T21:55:16.731565Z"
    },
    "papermill": {
     "duration": 0.099969,
     "end_time": "2022-11-08T21:55:16.735351",
     "exception": false,
     "start_time": "2022-11-08T21:55:16.635382",
     "status": "completed"
    },
    "tags": []
   },
   "outputs": [],
   "source": [
    "# Model Prepared with the Best Parameters\n",
    "y_pred_gbm = gbm_final.predict(X_test)"
   ]
  },
  {
   "cell_type": "code",
   "execution_count": 90,
   "id": "e8de3b72",
   "metadata": {
    "execution": {
     "iopub.execute_input": "2022-11-08T21:55:16.816622Z",
     "iopub.status.busy": "2022-11-08T21:55:16.816325Z",
     "iopub.status.idle": "2022-11-08T22:02:12.592344Z",
     "shell.execute_reply": "2022-11-08T22:02:12.591558Z"
    },
    "papermill": {
     "duration": 415.857682,
     "end_time": "2022-11-08T22:02:12.633256",
     "exception": false,
     "start_time": "2022-11-08T21:55:16.775574",
     "status": "completed"
    },
    "tags": []
   },
   "outputs": [
    {
     "data": {
      "image/png": "[encoded data removed]",
      "text/plain": [
       "<Figure size 432x288 with 1 Axes>"
      ]
     },
     "metadata": {},
     "output_type": "display_data"
    }
   ],
   "source": [
    "# Accuracy and Maximum Depth Curve\n",
    "val_curve_params(gbm_final, X_train, y_train, \"max_depth\", range(1, 11), scoring=\"accuracy\") "
   ]
  },
  {
   "cell_type": "code",
   "execution_count": 91,
   "id": "24fdcba6",
   "metadata": {
    "execution": {
     "iopub.execute_input": "2022-11-08T22:02:12.713248Z",
     "iopub.status.busy": "2022-11-08T22:02:12.712306Z",
     "iopub.status.idle": "2022-11-08T22:02:13.024348Z",
     "shell.execute_reply": "2022-11-08T22:02:13.023712Z"
    },
    "papermill": {
     "duration": 0.354056,
     "end_time": "2022-11-08T22:02:13.026444",
     "exception": false,
     "start_time": "2022-11-08T22:02:12.672388",
     "status": "completed"
    },
    "tags": []
   },
   "outputs": [
    {
     "data": {
      "image/png": "[encoded data removed]",
      "text/plain": [
       "<Figure size 720x720 with 1 Axes>"
      ]
     },
     "metadata": {},
     "output_type": "display_data"
    }
   ],
   "source": [
    "def plot_importance(model, features, num=len(X_train), save=True):\n",
    "    feature_imp = pd.DataFrame({'Value': model.feature_importances_, 'Feature': features.columns})\n",
    "    plt.figure(figsize=(10, 10))\n",
    "    sns.set(font_scale=1)\n",
    "    sns.barplot(x=\"Value\", y=\"Feature\", data=feature_imp.sort_values(by=\"Value\",\n",
    "                                                                     ascending=False)[0:num])\n",
    "    plt.title('Features')\n",
    "    plt.tight_layout()\n",
    "    plt.show()\n",
    "# Importance Graphics\n",
    "plot_importance(gbm_final, X_train)"
   ]
  },
  {
   "cell_type": "markdown",
   "id": "c158b35b",
   "metadata": {
    "papermill": {
     "duration": 0.040664,
     "end_time": "2022-11-08T22:02:13.108593",
     "exception": false,
     "start_time": "2022-11-08T22:02:13.067929",
     "status": "completed"
    },
    "tags": []
   },
   "source": [
    "[back to contents &#10548;](#0.)\n",
    "<a class=\"anchor\" id=\"7.\"> \n",
    "<center> <h1 style=\"background-color:indigo; color:white\" >eXtreme Gradient Boosting &#128295;</h1>\n",
    "    <center>\n",
    " <a/>"
   ]
  },
  {
   "cell_type": "code",
   "execution_count": 92,
   "id": "4916248d",
   "metadata": {
    "execution": {
     "iopub.execute_input": "2022-11-08T22:02:13.191975Z",
     "iopub.status.busy": "2022-11-08T22:02:13.191636Z",
     "iopub.status.idle": "2022-11-08T22:02:13.195740Z",
     "shell.execute_reply": "2022-11-08T22:02:13.195002Z"
    },
    "papermill": {
     "duration": 0.04795,
     "end_time": "2022-11-08T22:02:13.197389",
     "exception": false,
     "start_time": "2022-11-08T22:02:13.149439",
     "status": "completed"
    },
    "tags": []
   },
   "outputs": [],
   "source": [
    "# Default Model\n",
    "xgboost_model = XGBClassifier(random_state=17, use_label_encoder=False)"
   ]
  },
  {
   "cell_type": "code",
   "execution_count": 93,
   "id": "0be88ead",
   "metadata": {
    "execution": {
     "iopub.execute_input": "2022-11-08T22:02:13.281375Z",
     "iopub.status.busy": "2022-11-08T22:02:13.279826Z",
     "iopub.status.idle": "2022-11-08T22:02:13.285705Z",
     "shell.execute_reply": "2022-11-08T22:02:13.284661Z"
    },
    "papermill": {
     "duration": 0.049354,
     "end_time": "2022-11-08T22:02:13.287532",
     "exception": false,
     "start_time": "2022-11-08T22:02:13.238178",
     "status": "completed"
    },
    "tags": []
   },
   "outputs": [],
   "source": [
    "xgboost_params = {\"learning_rate\": [0.1, 0.01],\n",
    "                  \"max_depth\": [5, 6, 7],\n",
    "                  \"n_estimators\": [600, 700, 800],\n",
    "                  \"colsample_bytree\": [0.5, 0.7, 1]}"
   ]
  },
  {
   "cell_type": "code",
   "execution_count": 94,
   "id": "d5d4389f",
   "metadata": {
    "execution": {
     "iopub.execute_input": "2022-11-08T22:02:13.369324Z",
     "iopub.status.busy": "2022-11-08T22:02:13.368786Z",
     "iopub.status.idle": "2022-11-08T22:23:46.831733Z",
     "shell.execute_reply": "2022-11-08T22:23:46.830228Z"
    },
    "papermill": {
     "duration": 1293.506664,
     "end_time": "2022-11-08T22:23:46.834427",
     "exception": false,
     "start_time": "2022-11-08T22:02:13.327763",
     "status": "completed"
    },
    "tags": []
   },
   "outputs": [
    {
     "name": "stdout",
     "output_type": "stream",
     "text": [
      "Fitting 10 folds for each of 54 candidates, totalling 540 fits\n"
     ]
    }
   ],
   "source": [
    "xgboost_best_grid = GridSearchCV(xgboost_model, xgboost_params, cv=10, n_jobs=-1, verbose=True).fit(X_train, y_train)"
   ]
  },
  {
   "cell_type": "code",
   "execution_count": 95,
   "id": "24445f7e",
   "metadata": {
    "execution": {
     "iopub.execute_input": "2022-11-08T22:23:46.918140Z",
     "iopub.status.busy": "2022-11-08T22:23:46.917401Z",
     "iopub.status.idle": "2022-11-08T22:23:46.924354Z",
     "shell.execute_reply": "2022-11-08T22:23:46.923468Z"
    },
    "papermill": {
     "duration": 0.0502,
     "end_time": "2022-11-08T22:23:46.926117",
     "exception": false,
     "start_time": "2022-11-08T22:23:46.875917",
     "status": "completed"
    },
    "tags": []
   },
   "outputs": [
    {
     "data": {
      "text/plain": [
       "{'colsample_bytree': 1,\n",
       " 'learning_rate': 0.01,\n",
       " 'max_depth': 5,\n",
       " 'n_estimators': 700}"
      ]
     },
     "execution_count": 95,
     "metadata": {},
     "output_type": "execute_result"
    }
   ],
   "source": [
    "xgboost_best_grid.best_params_"
   ]
  },
  {
   "cell_type": "code",
   "execution_count": 96,
   "id": "2e73bd57",
   "metadata": {
    "execution": {
     "iopub.execute_input": "2022-11-08T22:23:47.011365Z",
     "iopub.status.busy": "2022-11-08T22:23:47.010973Z",
     "iopub.status.idle": "2022-11-08T22:23:51.210934Z",
     "shell.execute_reply": "2022-11-08T22:23:51.209981Z"
    },
    "papermill": {
     "duration": 4.245646,
     "end_time": "2022-11-08T22:23:51.213724",
     "exception": false,
     "start_time": "2022-11-08T22:23:46.968078",
     "status": "completed"
    },
    "tags": []
   },
   "outputs": [],
   "source": [
    "xgboost_final = xgboost_model.set_params(**xgboost_best_grid.best_params_, random_state=17).fit(X_train, y_train)"
   ]
  },
  {
   "cell_type": "code",
   "execution_count": 97,
   "id": "18943371",
   "metadata": {
    "execution": {
     "iopub.execute_input": "2022-11-08T22:23:51.295880Z",
     "iopub.status.busy": "2022-11-08T22:23:51.295354Z",
     "iopub.status.idle": "2022-11-08T22:23:51.332760Z",
     "shell.execute_reply": "2022-11-08T22:23:51.332062Z"
    },
    "papermill": {
     "duration": 0.081237,
     "end_time": "2022-11-08T22:23:51.334868",
     "exception": false,
     "start_time": "2022-11-08T22:23:51.253631",
     "status": "completed"
    },
    "tags": []
   },
   "outputs": [],
   "source": [
    "# Model Prepared with the Best Parameters\n",
    "y_pred_xgb = xgboost_final.predict(X_test)"
   ]
  },
  {
   "cell_type": "code",
   "execution_count": 98,
   "id": "1d806e5d",
   "metadata": {
    "execution": {
     "iopub.execute_input": "2022-11-08T22:23:51.416156Z",
     "iopub.status.busy": "2022-11-08T22:23:51.415850Z",
     "iopub.status.idle": "2022-11-08T22:31:23.689619Z",
     "shell.execute_reply": "2022-11-08T22:31:23.688335Z"
    },
    "papermill": {
     "duration": 452.356542,
     "end_time": "2022-11-08T22:31:23.731496",
     "exception": false,
     "start_time": "2022-11-08T22:23:51.374954",
     "status": "completed"
    },
    "tags": []
   },
   "outputs": [
    {
     "data": {
      "image/png": "[encoded data removed]",
      "text/plain": [
       "<Figure size 432x288 with 1 Axes>"
      ]
     },
     "metadata": {},
     "output_type": "display_data"
    }
   ],
   "source": [
    "# Accuracy and Maximum Depth Curve\n",
    "val_curve_params(xgboost_final, X_train, y_train, \"max_depth\", range(1, 11), scoring=\"accuracy\") "
   ]
  },
  {
   "cell_type": "code",
   "execution_count": 99,
   "id": "bf74a0e4",
   "metadata": {
    "execution": {
     "iopub.execute_input": "2022-11-08T22:31:23.815598Z",
     "iopub.status.busy": "2022-11-08T22:31:23.815251Z",
     "iopub.status.idle": "2022-11-08T22:31:24.139828Z",
     "shell.execute_reply": "2022-11-08T22:31:24.138842Z"
    },
    "papermill": {
     "duration": 0.369305,
     "end_time": "2022-11-08T22:31:24.141845",
     "exception": false,
     "start_time": "2022-11-08T22:31:23.772540",
     "status": "completed"
    },
    "tags": []
   },
   "outputs": [
    {
     "data": {
      "image/png": "[encoded data removed]",
      "text/plain": [
       "<Figure size 720x720 with 1 Axes>"
      ]
     },
     "metadata": {},
     "output_type": "display_data"
    }
   ],
   "source": [
    "def plot_importance(model, features, num=len(X_train), save=True):\n",
    "    feature_imp = pd.DataFrame({'Value': model.feature_importances_, 'Feature': features.columns})\n",
    "    plt.figure(figsize=(10, 10))\n",
    "    sns.set(font_scale=1)\n",
    "    sns.barplot(x=\"Value\", y=\"Feature\", data=feature_imp.sort_values(by=\"Value\",\n",
    "                                                                     ascending=False)[0:num])\n",
    "    plt.title('Features')\n",
    "    plt.tight_layout()\n",
    "    plt.show()\n",
    "# Importance Graphics\n",
    "plot_importance(xgboost_final, X_train)"
   ]
  },
  {
   "cell_type": "markdown",
   "id": "70c20ad2",
   "metadata": {
    "papermill": {
     "duration": 0.042845,
     "end_time": "2022-11-08T22:31:24.227458",
     "exception": false,
     "start_time": "2022-11-08T22:31:24.184613",
     "status": "completed"
    },
    "tags": []
   },
   "source": [
    "[back to contents &#10548;](#0.)\n",
    "<a class=\"anchor\" id=\"8.\"> \n",
    "<center> <h1 style=\"background-color:indigo; color:white\" >Light Gradient Boosting Machine &#128294;</h1>\n",
    "    <center>\n",
    " <a/>"
   ]
  },
  {
   "cell_type": "code",
   "execution_count": 100,
   "id": "14b94bb8",
   "metadata": {
    "execution": {
     "iopub.execute_input": "2022-11-08T22:31:24.314081Z",
     "iopub.status.busy": "2022-11-08T22:31:24.313718Z",
     "iopub.status.idle": "2022-11-08T22:31:24.317027Z",
     "shell.execute_reply": "2022-11-08T22:31:24.316509Z"
    },
    "papermill": {
     "duration": 0.048896,
     "end_time": "2022-11-08T22:31:24.318654",
     "exception": false,
     "start_time": "2022-11-08T22:31:24.269758",
     "status": "completed"
    },
    "tags": []
   },
   "outputs": [],
   "source": [
    "# Default Model\n",
    "lgbm_model = LGBMClassifier(random_state=17)"
   ]
  },
  {
   "cell_type": "code",
   "execution_count": 101,
   "id": "08dd3e0b",
   "metadata": {
    "execution": {
     "iopub.execute_input": "2022-11-08T22:31:24.406369Z",
     "iopub.status.busy": "2022-11-08T22:31:24.405842Z",
     "iopub.status.idle": "2022-11-08T22:31:24.409902Z",
     "shell.execute_reply": "2022-11-08T22:31:24.409045Z"
    },
    "papermill": {
     "duration": 0.050531,
     "end_time": "2022-11-08T22:31:24.412239",
     "exception": false,
     "start_time": "2022-11-08T22:31:24.361708",
     "status": "completed"
    },
    "tags": []
   },
   "outputs": [],
   "source": [
    "lgbm_params = {\"learning_rate\": [0.1, 0.01],\n",
    "                  \"max_depth\": [5, 6, 7],\n",
    "                  \"n_estimators\": [600, 700, 800],\n",
    "                  \"subsample\": [0.3, 0.4, 0.6]}"
   ]
  },
  {
   "cell_type": "code",
   "execution_count": 102,
   "id": "c5d2741f",
   "metadata": {
    "execution": {
     "iopub.execute_input": "2022-11-08T22:31:24.497448Z",
     "iopub.status.busy": "2022-11-08T22:31:24.497058Z",
     "iopub.status.idle": "2022-11-08T22:34:16.499542Z",
     "shell.execute_reply": "2022-11-08T22:34:16.498732Z"
    },
    "papermill": {
     "duration": 172.047887,
     "end_time": "2022-11-08T22:34:16.501723",
     "exception": false,
     "start_time": "2022-11-08T22:31:24.453836",
     "status": "completed"
    },
    "tags": []
   },
   "outputs": [
    {
     "name": "stdout",
     "output_type": "stream",
     "text": [
      "Fitting 10 folds for each of 54 candidates, totalling 540 fits\n"
     ]
    }
   ],
   "source": [
    "lgbm_best_grid = GridSearchCV(lgbm_model, lgbm_params, cv=10, n_jobs=-1, verbose=True).fit(X_train, y_train)"
   ]
  },
  {
   "cell_type": "code",
   "execution_count": 103,
   "id": "63b489db",
   "metadata": {
    "execution": {
     "iopub.execute_input": "2022-11-08T22:34:16.588532Z",
     "iopub.status.busy": "2022-11-08T22:34:16.587929Z",
     "iopub.status.idle": "2022-11-08T22:34:16.593921Z",
     "shell.execute_reply": "2022-11-08T22:34:16.592592Z"
    },
    "papermill": {
     "duration": 0.051364,
     "end_time": "2022-11-08T22:34:16.595736",
     "exception": false,
     "start_time": "2022-11-08T22:34:16.544372",
     "status": "completed"
    },
    "tags": []
   },
   "outputs": [
    {
     "data": {
      "text/plain": [
       "{'learning_rate': 0.01, 'max_depth': 5, 'n_estimators': 600, 'subsample': 0.3}"
      ]
     },
     "execution_count": 103,
     "metadata": {},
     "output_type": "execute_result"
    }
   ],
   "source": [
    "lgbm_best_grid.best_params_"
   ]
  },
  {
   "cell_type": "code",
   "execution_count": 104,
   "id": "b5e740f2",
   "metadata": {
    "execution": {
     "iopub.execute_input": "2022-11-08T22:34:16.682508Z",
     "iopub.status.busy": "2022-11-08T22:34:16.682164Z",
     "iopub.status.idle": "2022-11-08T22:34:17.332062Z",
     "shell.execute_reply": "2022-11-08T22:34:17.331331Z"
    },
    "papermill": {
     "duration": 0.696231,
     "end_time": "2022-11-08T22:34:17.334329",
     "exception": false,
     "start_time": "2022-11-08T22:34:16.638098",
     "status": "completed"
    },
    "tags": []
   },
   "outputs": [],
   "source": [
    "lgbm_final = lgbm_model.set_params(**lgbm_best_grid.best_params_, random_state=17).fit(X_train, y_train)"
   ]
  },
  {
   "cell_type": "code",
   "execution_count": 105,
   "id": "58086b08",
   "metadata": {
    "execution": {
     "iopub.execute_input": "2022-11-08T22:34:17.423044Z",
     "iopub.status.busy": "2022-11-08T22:34:17.422075Z",
     "iopub.status.idle": "2022-11-08T22:34:17.473340Z",
     "shell.execute_reply": "2022-11-08T22:34:17.472584Z"
    },
    "papermill": {
     "duration": 0.098147,
     "end_time": "2022-11-08T22:34:17.475699",
     "exception": false,
     "start_time": "2022-11-08T22:34:17.377552",
     "status": "completed"
    },
    "tags": []
   },
   "outputs": [],
   "source": [
    "# Model Prepared with the Best Parameters\n",
    "y_pred_lgbm = lgbm_final.predict(X_test)"
   ]
  },
  {
   "cell_type": "code",
   "execution_count": 106,
   "id": "6fc64c5c",
   "metadata": {
    "execution": {
     "iopub.execute_input": "2022-11-08T22:34:17.631934Z",
     "iopub.status.busy": "2022-11-08T22:34:17.631569Z",
     "iopub.status.idle": "2022-11-08T22:35:28.225567Z",
     "shell.execute_reply": "2022-11-08T22:35:28.224439Z"
    },
    "papermill": {
     "duration": 70.681007,
     "end_time": "2022-11-08T22:35:28.268048",
     "exception": false,
     "start_time": "2022-11-08T22:34:17.587041",
     "status": "completed"
    },
    "tags": []
   },
   "outputs": [
    {
     "data": {
      "image/png": "[encoded data removed]",
      "text/plain": [
       "<Figure size 432x288 with 1 Axes>"
      ]
     },
     "metadata": {},
     "output_type": "display_data"
    }
   ],
   "source": [
    "# Accuracy and Maximum Depth Curve\n",
    "val_curve_params(lgbm_final, X_train, y_train, \"max_depth\", range(1, 11), scoring=\"accuracy\") "
   ]
  },
  {
   "cell_type": "code",
   "execution_count": 107,
   "id": "7ffdde99",
   "metadata": {
    "execution": {
     "iopub.execute_input": "2022-11-08T22:35:28.353116Z",
     "iopub.status.busy": "2022-11-08T22:35:28.352802Z",
     "iopub.status.idle": "2022-11-08T22:35:28.665227Z",
     "shell.execute_reply": "2022-11-08T22:35:28.664288Z"
    },
    "papermill": {
     "duration": 0.357569,
     "end_time": "2022-11-08T22:35:28.667406",
     "exception": false,
     "start_time": "2022-11-08T22:35:28.309837",
     "status": "completed"
    },
    "tags": []
   },
   "outputs": [
    {
     "data": {
      "image/png": "[encoded data removed]",
      "text/plain": [
       "<Figure size 720x720 with 1 Axes>"
      ]
     },
     "metadata": {},
     "output_type": "display_data"
    }
   ],
   "source": [
    "def plot_importance(model, features, num=len(X_train), save=True):\n",
    "    feature_imp = pd.DataFrame({'Value': model.feature_importances_, 'Feature': features.columns})\n",
    "    plt.figure(figsize=(10, 10))\n",
    "    sns.set(font_scale=1)\n",
    "    sns.barplot(x=\"Value\", y=\"Feature\", data=feature_imp.sort_values(by=\"Value\",\n",
    "                                                                     ascending=False)[0:num])\n",
    "    plt.title('Features')\n",
    "    plt.tight_layout()\n",
    "    plt.show()\n",
    "# Importance Graphics\n",
    "plot_importance(lgbm_final, X_train)"
   ]
  },
  {
   "cell_type": "markdown",
   "id": "a5e0d81f",
   "metadata": {
    "papermill": {
     "duration": 0.042838,
     "end_time": "2022-11-08T22:35:28.753584",
     "exception": false,
     "start_time": "2022-11-08T22:35:28.710746",
     "status": "completed"
    },
    "tags": []
   },
   "source": [
    "[back to contents &#10548;](#0.)\n",
    "<a class=\"anchor\" id=\"9.\"> \n",
    "<center> <h1 style=\"background-color:indigo; color:white\" >Accuracy table of models &#128187;</h1>\n",
    "    <center>\n",
    " <a/>"
   ]
  },
  {
   "cell_type": "code",
   "execution_count": 108,
   "id": "8aa20b9c",
   "metadata": {
    "execution": {
     "iopub.execute_input": "2022-11-08T22:35:28.842839Z",
     "iopub.status.busy": "2022-11-08T22:35:28.842534Z",
     "iopub.status.idle": "2022-11-08T22:35:29.309137Z",
     "shell.execute_reply": "2022-11-08T22:35:29.307571Z"
    },
    "papermill": {
     "duration": 0.513168,
     "end_time": "2022-11-08T22:35:29.311471",
     "exception": false,
     "start_time": "2022-11-08T22:35:28.798303",
     "status": "completed"
    },
    "tags": []
   },
   "outputs": [
    {
     "data": {
      "text/html": [
       "<div>\n",
       "<style scoped>\n",
       "    .dataframe tbody tr th:only-of-type {\n",
       "        vertical-align: middle;\n",
       "    }\n",
       "\n",
       "    .dataframe tbody tr th {\n",
       "        vertical-align: top;\n",
       "    }\n",
       "\n",
       "    .dataframe thead th {\n",
       "        text-align: right;\n",
       "    }\n",
       "</style>\n",
       "<table border=\"1\" class=\"dataframe\">\n",
       "  <thead>\n",
       "    <tr style=\"text-align: right;\">\n",
       "      <th></th>\n",
       "      <th>Model</th>\n",
       "      <th>Train Accuracy</th>\n",
       "    </tr>\n",
       "  </thead>\n",
       "  <tbody>\n",
       "    <tr>\n",
       "      <th>0</th>\n",
       "      <td>Random Forest</td>\n",
       "      <td>0.837</td>\n",
       "    </tr>\n",
       "    <tr>\n",
       "      <th>1</th>\n",
       "      <td>Gradient Boosting Machine</td>\n",
       "      <td>0.856</td>\n",
       "    </tr>\n",
       "    <tr>\n",
       "      <th>2</th>\n",
       "      <td>XGBoost</td>\n",
       "      <td>0.827</td>\n",
       "    </tr>\n",
       "    <tr>\n",
       "      <th>3</th>\n",
       "      <td>LightGBM</td>\n",
       "      <td>0.825</td>\n",
       "    </tr>\n",
       "  </tbody>\n",
       "</table>\n",
       "</div>"
      ],
      "text/plain": [
       "                       Model  Train Accuracy\n",
       "0              Random Forest           0.837\n",
       "1  Gradient Boosting Machine           0.856\n",
       "2                    XGBoost           0.827\n",
       "3                   LightGBM           0.825"
      ]
     },
     "execution_count": 108,
     "metadata": {},
     "output_type": "execute_result"
    }
   ],
   "source": [
    "models = [\"Random Forest\",\n",
    "          \"Gradient Boosting Machine\",\n",
    "          \"XGBoost\",\n",
    "          \"LightGBM\",\n",
    "          ]\n",
    "\n",
    "train_acc = [\n",
    "    accuracy_score(y_train, rf_final.predict(X_train)),\n",
    "    accuracy_score(y_train, gbm_final.predict(X_train)),\n",
    "    accuracy_score(y_train, xgboost_final.predict(X_train)),\n",
    "    accuracy_score(y_train, lgbm_final.predict(X_train)),\n",
    "]\n",
    "pd.DataFrame({\n",
    "    \n",
    "    \"Model\":models,\n",
    "    \"Train Accuracy\": train_acc   \n",
    "})"
   ]
  },
  {
   "cell_type": "code",
   "execution_count": 109,
   "id": "8435311e",
   "metadata": {
    "execution": {
     "iopub.execute_input": "2022-11-08T22:35:29.398318Z",
     "iopub.status.busy": "2022-11-08T22:35:29.397392Z",
     "iopub.status.idle": "2022-11-08T22:35:31.017804Z",
     "shell.execute_reply": "2022-11-08T22:35:31.016748Z"
    },
    "papermill": {
     "duration": 1.666696,
     "end_time": "2022-11-08T22:35:31.020258",
     "exception": false,
     "start_time": "2022-11-08T22:35:29.353562",
     "status": "completed"
    },
    "tags": []
   },
   "outputs": [],
   "source": [
    "rf = rf_final\n",
    "model = rf.fit(X_train, train.Transported)\n",
    "y_predprob = model.predict_proba(X_test)[:,1]\n",
    "ypred = [True if i > 0.4 else False for i in y_predprob]\n",
    "\n",
    "test[\"Transported\"] = ypred\n",
    "submission = test[[\"PassengerId\", \"Transported\"]]\n",
    "submission.to_csv(\"submission_rf.csv\", columns = [\"PassengerId\", \"Transported\"], index = None)"
   ]
  },
  {
   "cell_type": "code",
   "execution_count": 110,
   "id": "247ce98d",
   "metadata": {
    "execution": {
     "iopub.execute_input": "2022-11-08T22:35:31.108980Z",
     "iopub.status.busy": "2022-11-08T22:35:31.108516Z",
     "iopub.status.idle": "2022-11-08T22:35:35.430111Z",
     "shell.execute_reply": "2022-11-08T22:35:35.428723Z"
    },
    "papermill": {
     "duration": 4.3694,
     "end_time": "2022-11-08T22:35:35.432553",
     "exception": false,
     "start_time": "2022-11-08T22:35:31.063153",
     "status": "completed"
    },
    "tags": []
   },
   "outputs": [],
   "source": [
    "gbm = gbm_final\n",
    "model = gbm.fit(X_train, train.Transported)\n",
    "y_predprob = model.predict_proba(X_test)[:,1]\n",
    "ypred = [True if i > 0.5 else False for i in y_predprob]\n",
    "\n",
    "test[\"Transported\"] = ypred\n",
    "submission = test[[\"PassengerId\", \"Transported\"]]\n",
    "submission.to_csv(\"submission_gbm.csv\", columns = [\"PassengerId\", \"Transported\"], index = None)"
   ]
  },
  {
   "cell_type": "code",
   "execution_count": 111,
   "id": "30ba3cd5",
   "metadata": {
    "execution": {
     "iopub.execute_input": "2022-11-08T22:35:35.523552Z",
     "iopub.status.busy": "2022-11-08T22:35:35.522196Z",
     "iopub.status.idle": "2022-11-08T22:35:39.710551Z",
     "shell.execute_reply": "2022-11-08T22:35:39.709652Z"
    },
    "papermill": {
     "duration": 4.235463,
     "end_time": "2022-11-08T22:35:39.712884",
     "exception": false,
     "start_time": "2022-11-08T22:35:35.477421",
     "status": "completed"
    },
    "tags": []
   },
   "outputs": [],
   "source": [
    "xgb = xgboost_final\n",
    "model = xgb.fit(X_train, train.Transported)\n",
    "y_predprob = model.predict_proba(X_test)[:,1]\n",
    "ypred = [True if i > 0.5 else False for i in y_predprob]\n",
    "\n",
    "test[\"Transported\"] = ypred\n",
    "submission = test[[\"PassengerId\", \"Transported\"]]\n",
    "submission.to_csv(\"submission_xgb.csv\", columns = [\"PassengerId\", \"Transported\"], index = None)"
   ]
  },
  {
   "cell_type": "code",
   "execution_count": 112,
   "id": "1f415f86",
   "metadata": {
    "execution": {
     "iopub.execute_input": "2022-11-08T22:35:39.803195Z",
     "iopub.status.busy": "2022-11-08T22:35:39.802840Z",
     "iopub.status.idle": "2022-11-08T22:35:40.544372Z",
     "shell.execute_reply": "2022-11-08T22:35:40.543051Z"
    },
    "papermill": {
     "duration": 0.790627,
     "end_time": "2022-11-08T22:35:40.546935",
     "exception": false,
     "start_time": "2022-11-08T22:35:39.756308",
     "status": "completed"
    },
    "tags": []
   },
   "outputs": [],
   "source": [
    "lgbm = lgbm_final\n",
    "model = lgbm.fit(X_train, train.Transported)\n",
    "y_predprob = model.predict_proba(X_test)[:,1]\n",
    "ypred = [True if i > 0.5 else False for i in y_predprob]\n",
    "\n",
    "test[\"Transported\"] = ypred\n",
    "submission = test[[\"PassengerId\", \"Transported\"]]\n",
    "submission.to_csv(\"submission.csv\", columns = [\"PassengerId\", \"Transported\"], index = None)"
   ]
  },
  {
   "cell_type": "markdown",
   "id": "c2cdb7c7",
   "metadata": {
    "papermill": {
     "duration": 0.042436,
     "end_time": "2022-11-08T22:35:40.633232",
     "exception": false,
     "start_time": "2022-11-08T22:35:40.590796",
     "status": "completed"
    },
    "tags": []
   },
   "source": [
    "[back to contents &#10548;](#0.)\n",
    "<a class=\"anchor\" id=\"10.\"> \n",
    "<center> <h1 style=\"background-color:indigo; color:white\" >THANK YOU &#127881;</h1>\n",
    "    <center>\n",
    " <a/>"
   ]
  }
 ],
 "metadata": {
  "kernelspec": {
   "display_name": "Python 3",
   "language": "python",
   "name": "python3"
  },
  "language_info": {
   "codemirror_mode": {
    "name": "ipython",
    "version": 3
   },
   "file_extension": ".py",
   "mimetype": "text/x-python",
   "name": "python",
   "nbconvert_exporter": "python",
   "pygments_lexer": "ipython3",
   "version": "3.7.12"
  },
  "papermill": {
   "default_parameters": {},
   "duration": 6852.519061,
   "end_time": "2022-11-08T22:35:43.306764",
   "environment_variables": {},
   "exception": null,
   "input_path": "__notebook__.ipynb",
   "output_path": "__notebook__.ipynb",
   "parameters": {},
   "start_time": "2022-11-08T20:41:30.787703",
   "version": "2.3.4"
  }
 },
 "nbformat": 4,
 "nbformat_minor": 5
}
