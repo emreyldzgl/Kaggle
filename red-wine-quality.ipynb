{
 "cells": [
  {
   "cell_type": "code",
   "execution_count": 1,
   "id": "d967dc33",
   "metadata": {
    "_cell_guid": "b1076dfc-b9ad-4769-8c92-a6c4dae69d19",
    "_uuid": "8f2839f25d086af736a60e9eeb907d3b93b6e0e5",
    "execution": {
     "iopub.execute_input": "2022-11-09T19:24:03.732074Z",
     "iopub.status.busy": "2022-11-09T19:24:03.731313Z",
     "iopub.status.idle": "2022-11-09T19:24:03.749738Z",
     "shell.execute_reply": "2022-11-09T19:24:03.748539Z"
    },
    "papermill": {
     "duration": 0.034488,
     "end_time": "2022-11-09T19:24:03.752628",
     "exception": false,
     "start_time": "2022-11-09T19:24:03.718140",
     "status": "completed"
    },
    "tags": []
   },
   "outputs": [
    {
     "name": "stdout",
     "output_type": "stream",
     "text": [
      "/kaggle/input/red-wine-quality-cortez-et-al-2009/winequality-red.csv\n"
     ]
    }
   ],
   "source": [
    "# This Python 3 environment comes with many helpful analytics libraries installed\n",
    "# It is defined by the kaggle/python Docker image: https://github.com/kaggle/docker-python\n",
    "# For example, here's several helpful packages to load\n",
    "\n",
    "import numpy as np # linear algebra\n",
    "import pandas as pd # data processing, CSV file I/O (e.g. pd.read_csv)\n",
    "\n",
    "# Input data files are available in the read-only \"../input/\" directory\n",
    "# For example, running this (by clicking run or pressing Shift+Enter) will list all files under the input directory\n",
    "\n",
    "import os\n",
    "for dirname, _, filenames in os.walk('/kaggle/input'):\n",
    "    for filename in filenames:\n",
    "        print(os.path.join(dirname, filename))\n",
    "\n",
    "# You can write up to 20GB to the current directory (/kaggle/working/) that gets preserved as output when you create a version using \"Save & Run All\" \n",
    "# You can also write temporary files to /kaggle/temp/, but they won't be saved outside of the current session"
   ]
  },
  {
   "cell_type": "markdown",
   "id": "921ede03",
   "metadata": {
    "papermill": {
     "duration": 0.009735,
     "end_time": "2022-11-09T19:24:03.772901",
     "exception": false,
     "start_time": "2022-11-09T19:24:03.763166",
     "status": "completed"
    },
    "tags": []
   },
   "source": [
    "# <center> <h1 style=\"background-color:darkred; color:white\" >Red-Wine Quality &#127863;</h1>\n",
    "<center><img\n",
    "src=\"https://eniyi-haber.com/wp-content/uploads/2021/04/en-iyi-kirmizi-sarap-1024x640.jpg\"\n",
    "style=\"width:90%;height:40%;\">\n",
    "</center>   "
   ]
  },
  {
   "cell_type": "markdown",
   "id": "c1623253",
   "metadata": {
    "papermill": {
     "duration": 0.011424,
     "end_time": "2022-11-09T19:24:03.794625",
     "exception": false,
     "start_time": "2022-11-09T19:24:03.783201",
     "status": "completed"
    },
    "tags": []
   },
   "source": [
    "<a class=\"anchor\" id=\"0.\"></a>\n",
    "# <center> <h1 style=\"background-color:darkred; color:white\" >Contents &#128214;</h1><center>"
   ]
  },
  {
   "cell_type": "markdown",
   "id": "e13086d8",
   "metadata": {
    "papermill": {
     "duration": 0.009725,
     "end_time": "2022-11-09T19:24:03.814387",
     "exception": false,
     "start_time": "2022-11-09T19:24:03.804662",
     "status": "completed"
    },
    "tags": []
   },
   "source": [
    "* [Import Libraries &#128218;](#1.)\n",
    "* [Load Data &#128229;](#2.)\n",
    "* [Feature Engineering](#3.)\n",
    "* [Pie Chart &#128202;](#5.)\n",
    "* [Multi Plot &#128200;](#6.)\n",
    "* [Heat Map](#7.)\n",
    "* [Test-Train Split](#8.)\n",
    "* [Scaling Data](#9.)\n",
    "* [Classifier Model](#10.)\n",
    "* * [GradientBoostingClassifier](#10.1.)\n",
    "* * [Random Forest &#127794;&#127794;](#10.2.)\n",
    "* * [Light Gradient Boosting Machine &#128294;](#10.3.)\n",
    "* * [KNeighbors Classifier](#10.4.)\n",
    "* * [Decision Tree Classifier &#127795;](#10.5.)\n",
    "* [Accuracy table of models](#11.)"
   ]
  },
  {
   "cell_type": "markdown",
   "id": "1915502a",
   "metadata": {
    "papermill": {
     "duration": 0.009711,
     "end_time": "2022-11-09T19:24:03.834113",
     "exception": false,
     "start_time": "2022-11-09T19:24:03.824402",
     "status": "completed"
    },
    "tags": []
   },
   "source": [
    "<a class=\"anchor\" id=\"1.\"> \n",
    "<center> <h1 style=\"background-color:darkred; color:white\" >Import Libraries &#128218;</h1>\n",
    "    <center>\n",
    " <a/>"
   ]
  },
  {
   "cell_type": "code",
   "execution_count": 2,
   "id": "ff2e9e28",
   "metadata": {
    "execution": {
     "iopub.execute_input": "2022-11-09T19:24:03.856478Z",
     "iopub.status.busy": "2022-11-09T19:24:03.855367Z",
     "iopub.status.idle": "2022-11-09T19:24:06.169757Z",
     "shell.execute_reply": "2022-11-09T19:24:06.168492Z"
    },
    "papermill": {
     "duration": 2.328815,
     "end_time": "2022-11-09T19:24:06.172971",
     "exception": false,
     "start_time": "2022-11-09T19:24:03.844156",
     "status": "completed"
    },
    "tags": []
   },
   "outputs": [
    {
     "data": {
      "text/html": [
       "<style type='text/css'>\n",
       ".datatable table.frame { margin-bottom: 0; }\n",
       ".datatable table.frame thead { border-bottom: none; }\n",
       ".datatable table.frame tr.coltypes td {  color: #FFFFFF;  line-height: 6px;  padding: 0 0.5em;}\n",
       ".datatable .bool    { background: #DDDD99; }\n",
       ".datatable .object  { background: #565656; }\n",
       ".datatable .int     { background: #5D9E5D; }\n",
       ".datatable .float   { background: #4040CC; }\n",
       ".datatable .str     { background: #CC4040; }\n",
       ".datatable .time    { background: #40CC40; }\n",
       ".datatable .row_index {  background: var(--jp-border-color3);  border-right: 1px solid var(--jp-border-color0);  color: var(--jp-ui-font-color3);  font-size: 9px;}\n",
       ".datatable .frame tbody td { text-align: left; }\n",
       ".datatable .frame tr.coltypes .row_index {  background: var(--jp-border-color0);}\n",
       ".datatable th:nth-child(2) { padding-left: 12px; }\n",
       ".datatable .hellipsis {  color: var(--jp-cell-editor-border-color);}\n",
       ".datatable .vellipsis {  background: var(--jp-layout-color0);  color: var(--jp-cell-editor-border-color);}\n",
       ".datatable .na {  color: var(--jp-cell-editor-border-color);  font-size: 80%;}\n",
       ".datatable .sp {  opacity: 0.25;}\n",
       ".datatable .footer { font-size: 9px; }\n",
       ".datatable .frame_dimensions {  background: var(--jp-border-color3);  border-top: 1px solid var(--jp-border-color0);  color: var(--jp-ui-font-color3);  display: inline-block;  opacity: 0.6;  padding: 1px 10px 1px 5px;}\n",
       "</style>\n"
      ],
      "text/plain": [
       "<IPython.core.display.HTML object>"
      ]
     },
     "metadata": {},
     "output_type": "display_data"
    }
   ],
   "source": [
    "import pandas as pd\n",
    "import numpy as np\n",
    "import matplotlib.pyplot as plt\n",
    "import seaborn as sns\n",
    "import missingno as msno\n",
    "from sklearn import preprocessing\n",
    "from sklearn.neighbors import KNeighborsClassifier\n",
    "from sklearn.ensemble import RandomForestClassifier, GradientBoostingClassifier\n",
    "from sklearn.tree import DecisionTreeClassifier\n",
    "from lightgbm import LGBMClassifier\n",
    "from xgboost import XGBClassifier\n",
    "\n",
    "from sklearn.model_selection import GridSearchCV, cross_validate, validation_curve, cross_val_score,train_test_split\n",
    "from sklearn.metrics import confusion_matrix, accuracy_score, classification_report"
   ]
  },
  {
   "cell_type": "markdown",
   "id": "ad75fa30",
   "metadata": {
    "papermill": {
     "duration": 0.010921,
     "end_time": "2022-11-09T19:24:06.194503",
     "exception": false,
     "start_time": "2022-11-09T19:24:06.183582",
     "status": "completed"
    },
    "tags": []
   },
   "source": [
    "<a class=\"anchor\" id=\"2.\"> \n",
    "<center> <h1 style=\"background-color:darkred; color:white\" >Load Data &#128229;</h1>\n",
    "    <center>\n",
    " <a/>"
   ]
  },
  {
   "cell_type": "code",
   "execution_count": 3,
   "id": "0f681229",
   "metadata": {
    "execution": {
     "iopub.execute_input": "2022-11-09T19:24:06.218649Z",
     "iopub.status.busy": "2022-11-09T19:24:06.217742Z",
     "iopub.status.idle": "2022-11-09T19:24:06.238676Z",
     "shell.execute_reply": "2022-11-09T19:24:06.237438Z"
    },
    "papermill": {
     "duration": 0.036212,
     "end_time": "2022-11-09T19:24:06.241475",
     "exception": false,
     "start_time": "2022-11-09T19:24:06.205263",
     "status": "completed"
    },
    "tags": []
   },
   "outputs": [],
   "source": [
    "data = pd.read_csv(\"../input/red-wine-quality-cortez-et-al-2009/winequality-red.csv\")"
   ]
  },
  {
   "cell_type": "markdown",
   "id": "ea09d46a",
   "metadata": {
    "papermill": {
     "duration": 0.01015,
     "end_time": "2022-11-09T19:24:06.262343",
     "exception": false,
     "start_time": "2022-11-09T19:24:06.252193",
     "status": "completed"
    },
    "tags": []
   },
   "source": [
    "[back to contents &#10548;](#0.)\n",
    "<a class=\"anchor\" id=\"3.\"> \n",
    "<center> <h1 style=\"background-color:darkred; color:white\" >Feature Engineering</h1>\n",
    "    <center>\n",
    " <a/>"
   ]
  },
  {
   "cell_type": "code",
   "execution_count": 4,
   "id": "f278bb33",
   "metadata": {
    "execution": {
     "iopub.execute_input": "2022-11-09T19:24:06.285717Z",
     "iopub.status.busy": "2022-11-09T19:24:06.285054Z",
     "iopub.status.idle": "2022-11-09T19:24:06.311880Z",
     "shell.execute_reply": "2022-11-09T19:24:06.310712Z"
    },
    "papermill": {
     "duration": 0.041545,
     "end_time": "2022-11-09T19:24:06.314196",
     "exception": false,
     "start_time": "2022-11-09T19:24:06.272651",
     "status": "completed"
    },
    "tags": []
   },
   "outputs": [
    {
     "data": {
      "text/html": [
       "<div>\n",
       "<style scoped>\n",
       "    .dataframe tbody tr th:only-of-type {\n",
       "        vertical-align: middle;\n",
       "    }\n",
       "\n",
       "    .dataframe tbody tr th {\n",
       "        vertical-align: top;\n",
       "    }\n",
       "\n",
       "    .dataframe thead th {\n",
       "        text-align: right;\n",
       "    }\n",
       "</style>\n",
       "<table border=\"1\" class=\"dataframe\">\n",
       "  <thead>\n",
       "    <tr style=\"text-align: right;\">\n",
       "      <th></th>\n",
       "      <th>fixed acidity</th>\n",
       "      <th>volatile acidity</th>\n",
       "      <th>citric acid</th>\n",
       "      <th>residual sugar</th>\n",
       "      <th>chlorides</th>\n",
       "      <th>free sulfur dioxide</th>\n",
       "      <th>total sulfur dioxide</th>\n",
       "      <th>density</th>\n",
       "      <th>pH</th>\n",
       "      <th>sulphates</th>\n",
       "      <th>alcohol</th>\n",
       "      <th>quality</th>\n",
       "    </tr>\n",
       "  </thead>\n",
       "  <tbody>\n",
       "    <tr>\n",
       "      <th>0</th>\n",
       "      <td>7.4</td>\n",
       "      <td>0.70</td>\n",
       "      <td>0.00</td>\n",
       "      <td>1.9</td>\n",
       "      <td>0.076</td>\n",
       "      <td>11.0</td>\n",
       "      <td>34.0</td>\n",
       "      <td>0.9978</td>\n",
       "      <td>3.51</td>\n",
       "      <td>0.56</td>\n",
       "      <td>9.4</td>\n",
       "      <td>5</td>\n",
       "    </tr>\n",
       "    <tr>\n",
       "      <th>1</th>\n",
       "      <td>7.8</td>\n",
       "      <td>0.88</td>\n",
       "      <td>0.00</td>\n",
       "      <td>2.6</td>\n",
       "      <td>0.098</td>\n",
       "      <td>25.0</td>\n",
       "      <td>67.0</td>\n",
       "      <td>0.9968</td>\n",
       "      <td>3.20</td>\n",
       "      <td>0.68</td>\n",
       "      <td>9.8</td>\n",
       "      <td>5</td>\n",
       "    </tr>\n",
       "    <tr>\n",
       "      <th>2</th>\n",
       "      <td>7.8</td>\n",
       "      <td>0.76</td>\n",
       "      <td>0.04</td>\n",
       "      <td>2.3</td>\n",
       "      <td>0.092</td>\n",
       "      <td>15.0</td>\n",
       "      <td>54.0</td>\n",
       "      <td>0.9970</td>\n",
       "      <td>3.26</td>\n",
       "      <td>0.65</td>\n",
       "      <td>9.8</td>\n",
       "      <td>5</td>\n",
       "    </tr>\n",
       "    <tr>\n",
       "      <th>3</th>\n",
       "      <td>11.2</td>\n",
       "      <td>0.28</td>\n",
       "      <td>0.56</td>\n",
       "      <td>1.9</td>\n",
       "      <td>0.075</td>\n",
       "      <td>17.0</td>\n",
       "      <td>60.0</td>\n",
       "      <td>0.9980</td>\n",
       "      <td>3.16</td>\n",
       "      <td>0.58</td>\n",
       "      <td>9.8</td>\n",
       "      <td>6</td>\n",
       "    </tr>\n",
       "    <tr>\n",
       "      <th>4</th>\n",
       "      <td>7.4</td>\n",
       "      <td>0.70</td>\n",
       "      <td>0.00</td>\n",
       "      <td>1.9</td>\n",
       "      <td>0.076</td>\n",
       "      <td>11.0</td>\n",
       "      <td>34.0</td>\n",
       "      <td>0.9978</td>\n",
       "      <td>3.51</td>\n",
       "      <td>0.56</td>\n",
       "      <td>9.4</td>\n",
       "      <td>5</td>\n",
       "    </tr>\n",
       "  </tbody>\n",
       "</table>\n",
       "</div>"
      ],
      "text/plain": [
       "   fixed acidity  volatile acidity  citric acid  residual sugar  chlorides  \\\n",
       "0            7.4              0.70         0.00             1.9      0.076   \n",
       "1            7.8              0.88         0.00             2.6      0.098   \n",
       "2            7.8              0.76         0.04             2.3      0.092   \n",
       "3           11.2              0.28         0.56             1.9      0.075   \n",
       "4            7.4              0.70         0.00             1.9      0.076   \n",
       "\n",
       "   free sulfur dioxide  total sulfur dioxide  density    pH  sulphates  \\\n",
       "0                 11.0                  34.0   0.9978  3.51       0.56   \n",
       "1                 25.0                  67.0   0.9968  3.20       0.68   \n",
       "2                 15.0                  54.0   0.9970  3.26       0.65   \n",
       "3                 17.0                  60.0   0.9980  3.16       0.58   \n",
       "4                 11.0                  34.0   0.9978  3.51       0.56   \n",
       "\n",
       "   alcohol  quality  \n",
       "0      9.4        5  \n",
       "1      9.8        5  \n",
       "2      9.8        5  \n",
       "3      9.8        6  \n",
       "4      9.4        5  "
      ]
     },
     "execution_count": 4,
     "metadata": {},
     "output_type": "execute_result"
    }
   ],
   "source": [
    "data.head()"
   ]
  },
  {
   "cell_type": "code",
   "execution_count": 5,
   "id": "5979d75e",
   "metadata": {
    "execution": {
     "iopub.execute_input": "2022-11-09T19:24:06.337955Z",
     "iopub.status.busy": "2022-11-09T19:24:06.337266Z",
     "iopub.status.idle": "2022-11-09T19:24:06.346770Z",
     "shell.execute_reply": "2022-11-09T19:24:06.345689Z"
    },
    "papermill": {
     "duration": 0.024118,
     "end_time": "2022-11-09T19:24:06.348994",
     "exception": false,
     "start_time": "2022-11-09T19:24:06.324876",
     "status": "completed"
    },
    "tags": []
   },
   "outputs": [
    {
     "data": {
      "text/plain": [
       "fixed acidity           0\n",
       "volatile acidity        0\n",
       "citric acid             0\n",
       "residual sugar          0\n",
       "chlorides               0\n",
       "free sulfur dioxide     0\n",
       "total sulfur dioxide    0\n",
       "density                 0\n",
       "pH                      0\n",
       "sulphates               0\n",
       "alcohol                 0\n",
       "quality                 0\n",
       "dtype: int64"
      ]
     },
     "execution_count": 5,
     "metadata": {},
     "output_type": "execute_result"
    }
   ],
   "source": [
    "data.isna().sum()"
   ]
  },
  {
   "cell_type": "code",
   "execution_count": 6,
   "id": "b930fe46",
   "metadata": {
    "execution": {
     "iopub.execute_input": "2022-11-09T19:24:06.372787Z",
     "iopub.status.busy": "2022-11-09T19:24:06.372106Z",
     "iopub.status.idle": "2022-11-09T19:24:06.388092Z",
     "shell.execute_reply": "2022-11-09T19:24:06.386891Z"
    },
    "papermill": {
     "duration": 0.030897,
     "end_time": "2022-11-09T19:24:06.390727",
     "exception": false,
     "start_time": "2022-11-09T19:24:06.359830",
     "status": "completed"
    },
    "tags": []
   },
   "outputs": [
    {
     "data": {
      "text/plain": [
       "fixed acidity            96\n",
       "volatile acidity        143\n",
       "citric acid              80\n",
       "residual sugar           91\n",
       "chlorides               153\n",
       "free sulfur dioxide      60\n",
       "total sulfur dioxide    144\n",
       "density                 436\n",
       "pH                       89\n",
       "sulphates                96\n",
       "alcohol                  65\n",
       "quality                   6\n",
       "dtype: int64"
      ]
     },
     "execution_count": 6,
     "metadata": {},
     "output_type": "execute_result"
    }
   ],
   "source": [
    "data.nunique()"
   ]
  },
  {
   "cell_type": "code",
   "execution_count": 7,
   "id": "948ca600",
   "metadata": {
    "execution": {
     "iopub.execute_input": "2022-11-09T19:24:06.415181Z",
     "iopub.status.busy": "2022-11-09T19:24:06.414378Z",
     "iopub.status.idle": "2022-11-09T19:24:06.420306Z",
     "shell.execute_reply": "2022-11-09T19:24:06.419377Z"
    },
    "papermill": {
     "duration": 0.020924,
     "end_time": "2022-11-09T19:24:06.422686",
     "exception": false,
     "start_time": "2022-11-09T19:24:06.401762",
     "status": "completed"
    },
    "tags": []
   },
   "outputs": [],
   "source": [
    "def target_summary_with_num(dataframe, target, num_columns):\n",
    "    print(dataframe.groupby(target).agg({num_columns: \"mean\"}), end=\"\\n\\n\\n\")"
   ]
  },
  {
   "cell_type": "code",
   "execution_count": 8,
   "id": "1973032e",
   "metadata": {
    "execution": {
     "iopub.execute_input": "2022-11-09T19:24:06.446975Z",
     "iopub.status.busy": "2022-11-09T19:24:06.446547Z",
     "iopub.status.idle": "2022-11-09T19:24:06.457901Z",
     "shell.execute_reply": "2022-11-09T19:24:06.456620Z"
    },
    "papermill": {
     "duration": 0.026486,
     "end_time": "2022-11-09T19:24:06.460071",
     "exception": false,
     "start_time": "2022-11-09T19:24:06.433585",
     "status": "completed"
    },
    "tags": []
   },
   "outputs": [],
   "source": [
    "columns = data.drop(\"quality\", axis=1)\n",
    "target = data[\"quality\"]"
   ]
  },
  {
   "cell_type": "code",
   "execution_count": 9,
   "id": "dba07046",
   "metadata": {
    "execution": {
     "iopub.execute_input": "2022-11-09T19:24:06.483666Z",
     "iopub.status.busy": "2022-11-09T19:24:06.483036Z",
     "iopub.status.idle": "2022-11-09T19:24:06.491981Z",
     "shell.execute_reply": "2022-11-09T19:24:06.491130Z"
    },
    "papermill": {
     "duration": 0.023461,
     "end_time": "2022-11-09T19:24:06.494221",
     "exception": false,
     "start_time": "2022-11-09T19:24:06.470760",
     "status": "completed"
    },
    "tags": []
   },
   "outputs": [],
   "source": [
    "quality = data[\"quality\"].value_counts().sort_index(ascending=True)"
   ]
  },
  {
   "cell_type": "markdown",
   "id": "37a324f4",
   "metadata": {
    "papermill": {
     "duration": 0.010327,
     "end_time": "2022-11-09T19:24:06.515064",
     "exception": false,
     "start_time": "2022-11-09T19:24:06.504737",
     "status": "completed"
    },
    "tags": []
   },
   "source": [
    "[back to contents &#10548;](#0.)\n",
    "<a class=\"anchor\" id=\"4.\"> \n",
    "<center> <h1 style=\"background-color:darkred; color:white\" >Pie Chart &#128202;</h1>\n",
    "    <center>\n",
    " <a/>"
   ]
  },
  {
   "cell_type": "code",
   "execution_count": 10,
   "id": "19b01176",
   "metadata": {
    "execution": {
     "iopub.execute_input": "2022-11-09T19:24:06.538115Z",
     "iopub.status.busy": "2022-11-09T19:24:06.537467Z",
     "iopub.status.idle": "2022-11-09T19:24:06.853522Z",
     "shell.execute_reply": "2022-11-09T19:24:06.852297Z"
    },
    "papermill": {
     "duration": 0.330609,
     "end_time": "2022-11-09T19:24:06.856146",
     "exception": false,
     "start_time": "2022-11-09T19:24:06.525537",
     "status": "completed"
    },
    "tags": []
   },
   "outputs": [
    {
     "data": {
      "image/png": "[encoded data removed]",
      "text/plain": [
       "<Figure size 720x720 with 1 Axes>"
      ]
     },
     "metadata": {},
     "output_type": "display_data"
    }
   ],
   "source": [
    "explode_list = [0.1, 0.1, 0.03, 0.03, 0.03, 0.3]\n",
    "ax = quality.plot(kind='pie',\n",
    "             figsize = (10,10),\n",
    "             autopct='%1.1f%%', \n",
    "             startangle=45,\n",
    "             labels=None,         \n",
    "             pctdistance=1.1,    \n",
    "             explode=explode_list,\n",
    "             textprops={'fontsize': 14})\n",
    "ax.patch.set_facecolor('white')\n",
    "plt.title('Wine Quality Distribution', size = 20)\n",
    "ax.set(ylabel=None)\n",
    "plt.axis('equal') \n",
    "plt.legend(labels=quality.index, loc=\"lower left\", fontsize=16);"
   ]
  },
  {
   "cell_type": "code",
   "execution_count": 11,
   "id": "1dc9c3c1",
   "metadata": {
    "execution": {
     "iopub.execute_input": "2022-11-09T19:24:06.882016Z",
     "iopub.status.busy": "2022-11-09T19:24:06.881586Z",
     "iopub.status.idle": "2022-11-09T19:24:06.922850Z",
     "shell.execute_reply": "2022-11-09T19:24:06.921800Z"
    },
    "papermill": {
     "duration": 0.056973,
     "end_time": "2022-11-09T19:24:06.925334",
     "exception": false,
     "start_time": "2022-11-09T19:24:06.868361",
     "status": "completed"
    },
    "tags": []
   },
   "outputs": [
    {
     "name": "stdout",
     "output_type": "stream",
     "text": [
      "         fixed acidity\n",
      "quality               \n",
      "3             8.360000\n",
      "4             7.779245\n",
      "5             8.167254\n",
      "6             8.347179\n",
      "7             8.872362\n",
      "8             8.566667\n",
      "\n",
      "\n",
      "         volatile acidity\n",
      "quality                  \n",
      "3                0.884500\n",
      "4                0.693962\n",
      "5                0.577041\n",
      "6                0.497484\n",
      "7                0.403920\n",
      "8                0.423333\n",
      "\n",
      "\n",
      "         citric acid\n",
      "quality             \n",
      "3           0.171000\n",
      "4           0.174151\n",
      "5           0.243686\n",
      "6           0.273824\n",
      "7           0.375176\n",
      "8           0.391111\n",
      "\n",
      "\n",
      "         residual sugar\n",
      "quality                \n",
      "3              2.635000\n",
      "4              2.694340\n",
      "5              2.528855\n",
      "6              2.477194\n",
      "7              2.720603\n",
      "8              2.577778\n",
      "\n",
      "\n",
      "         chlorides\n",
      "quality           \n",
      "3         0.122500\n",
      "4         0.090679\n",
      "5         0.092736\n",
      "6         0.084956\n",
      "7         0.076588\n",
      "8         0.068444\n",
      "\n",
      "\n",
      "         free sulfur dioxide\n",
      "quality                     \n",
      "3                  11.000000\n",
      "4                  12.264151\n",
      "5                  16.983847\n",
      "6                  15.711599\n",
      "7                  14.045226\n",
      "8                  13.277778\n",
      "\n",
      "\n",
      "         total sulfur dioxide\n",
      "quality                      \n",
      "3                   24.900000\n",
      "4                   36.245283\n",
      "5                   56.513950\n",
      "6                   40.869906\n",
      "7                   35.020101\n",
      "8                   33.444444\n",
      "\n",
      "\n",
      "          density\n",
      "quality          \n",
      "3        0.997464\n",
      "4        0.996542\n",
      "5        0.997104\n",
      "6        0.996615\n",
      "7        0.996104\n",
      "8        0.995212\n",
      "\n",
      "\n",
      "               pH\n",
      "quality          \n",
      "3        3.398000\n",
      "4        3.381509\n",
      "5        3.304949\n",
      "6        3.318072\n",
      "7        3.290754\n",
      "8        3.267222\n",
      "\n",
      "\n",
      "         sulphates\n",
      "quality           \n",
      "3         0.570000\n",
      "4         0.596415\n",
      "5         0.620969\n",
      "6         0.675329\n",
      "7         0.741256\n",
      "8         0.767778\n",
      "\n",
      "\n",
      "           alcohol\n",
      "quality           \n",
      "3         9.955000\n",
      "4        10.265094\n",
      "5         9.899706\n",
      "6        10.629519\n",
      "7        11.465913\n",
      "8        12.094444\n",
      "\n",
      "\n"
     ]
    }
   ],
   "source": [
    "for col in columns:\n",
    "    target_summary_with_num(data, target, col)"
   ]
  },
  {
   "cell_type": "markdown",
   "id": "afc6199b",
   "metadata": {
    "papermill": {
     "duration": 0.011285,
     "end_time": "2022-11-09T19:24:06.948635",
     "exception": false,
     "start_time": "2022-11-09T19:24:06.937350",
     "status": "completed"
    },
    "tags": []
   },
   "source": [
    "[back to contents &#10548;](#0.)\n",
    "<a class=\"anchor\" id=\"6.\"> \n",
    "<center> <h1 style=\"background-color:darkred; color:white\" >Multi Plot &#128200;</h1>\n",
    "    <center>\n",
    " <a/>"
   ]
  },
  {
   "cell_type": "code",
   "execution_count": 12,
   "id": "bc7b52d7",
   "metadata": {
    "execution": {
     "iopub.execute_input": "2022-11-09T19:24:06.974064Z",
     "iopub.status.busy": "2022-11-09T19:24:06.973657Z",
     "iopub.status.idle": "2022-11-09T19:24:06.985944Z",
     "shell.execute_reply": "2022-11-09T19:24:06.984795Z"
    },
    "papermill": {
     "duration": 0.028087,
     "end_time": "2022-11-09T19:24:06.988368",
     "exception": false,
     "start_time": "2022-11-09T19:24:06.960281",
     "status": "completed"
    },
    "tags": []
   },
   "outputs": [],
   "source": [
    "#The quality scores of the features will be used for those who will use the poster.\n",
    "\n",
    "def multi_plot(dataset, rows, cols, plot_type):\n",
    "    \"\"\"\n",
    "    dataset: Veri seti\n",
    "    rows: Satır sayısı\n",
    "    cols: sütün sayısı\n",
    "    plot_type: Çizdirilecek grafik türü\n",
    "    \"\"\"\n",
    "    \n",
    "    # Getting the names of the columns in the dataset\n",
    "    column_names=dataset.columns.values\n",
    "    \n",
    "    # How many columns are there\n",
    "    number_of_column=len(column_names)\n",
    "    \n",
    "    # Creating matrix with subgraph in row*columns.. \n",
    "    # Matrix width:22 height:16\n",
    "    fig, axarr=plt.subplots(rows,cols, figsize=(22,16))\n",
    "\n",
    "    counter=0# It holds the index value in the column_names list of the property to be drawn\n",
    "    for i in range(rows):\n",
    "        for j in range(cols):\n",
    "            \"\"\"\n",
    "            i: keeps the line number\n",
    "            j: holds the column number\n",
    "            axarr[i][j]: Determines the position of the drawn graph in the graph matrix\n",
    "            \"\"\"\n",
    "            if 'violin' in plot_type:\n",
    "                sns.violinplot(x='quality', y=column_names[counter],data=dataset, ax=axarr[i][j],color=\"darkred\")\n",
    "            elif 'box'in plot_type :\n",
    "                sns.boxplot(x='quality', y=column_names[counter],data=dataset, ax=axarr[i][j],color=\"darkred\")\n",
    "            elif 'point' in plot_type:\n",
    "                sns.pointplot(x='quality',y=column_names[counter],data=dataset, ax=axarr[i][j],color=\"darkred\")\n",
    "            elif 'bar' in plot_type:\n",
    "                sns.barplot(x='quality',y=column_names[counter],data=dataset, ax=axarr[i][j],color=\"darkred\")\n",
    "            elif 'line' in plot_type:\n",
    "                sns.lineplot(x='quality',y=column_names[counter],data=dataset, ax=axarr[i][j],color=\"darkred\")\n",
    "                \n",
    "            counter+=1\n",
    "            if counter==(number_of_column-1,):\n",
    "                break"
   ]
  },
  {
   "cell_type": "code",
   "execution_count": 13,
   "id": "0d08909b",
   "metadata": {
    "execution": {
     "iopub.execute_input": "2022-11-09T19:24:07.013497Z",
     "iopub.status.busy": "2022-11-09T19:24:07.012746Z",
     "iopub.status.idle": "2022-11-09T19:24:10.956228Z",
     "shell.execute_reply": "2022-11-09T19:24:10.954953Z"
    },
    "papermill": {
     "duration": 3.960698,
     "end_time": "2022-11-09T19:24:10.960742",
     "exception": false,
     "start_time": "2022-11-09T19:24:07.000044",
     "status": "completed"
    },
    "tags": []
   },
   "outputs": [
    {
     "data": {
      "image/png": "[encoded data removed]",
      "text/plain": [
       "<Figure size 1584x1152 with 12 Axes>"
      ]
     },
     "metadata": {
      "needs_background": "light"
     },
     "output_type": "display_data"
    }
   ],
   "source": [
    "multi_plot(data, 4, 3,\"line\") # or violin,box,point,bar"
   ]
  },
  {
   "cell_type": "markdown",
   "id": "7df8da0d",
   "metadata": {
    "papermill": {
     "duration": 0.014628,
     "end_time": "2022-11-09T19:24:10.991286",
     "exception": false,
     "start_time": "2022-11-09T19:24:10.976658",
     "status": "completed"
    },
    "tags": []
   },
   "source": [
    "[back to contents &#10548;](#0.)\n",
    "<a class=\"anchor\" id=\"7.\"> \n",
    "<center> <h1 style=\"background-color:darkred; color:white\" >Heat Map</h1>\n",
    "    <center>\n",
    " <a/>"
   ]
  },
  {
   "cell_type": "code",
   "execution_count": 14,
   "id": "9f08b86b",
   "metadata": {
    "execution": {
     "iopub.execute_input": "2022-11-09T19:24:11.024089Z",
     "iopub.status.busy": "2022-11-09T19:24:11.023678Z",
     "iopub.status.idle": "2022-11-09T19:24:11.428992Z",
     "shell.execute_reply": "2022-11-09T19:24:11.427649Z"
    },
    "papermill": {
     "duration": 0.424608,
     "end_time": "2022-11-09T19:24:11.431390",
     "exception": false,
     "start_time": "2022-11-09T19:24:11.006782",
     "status": "completed"
    },
    "tags": []
   },
   "outputs": [
    {
     "data": {
      "image/png": "[encoded data removed]",
      "text/plain": [
       "<Figure size 720x720 with 2 Axes>"
      ]
     },
     "metadata": {
      "needs_background": "light"
     },
     "output_type": "display_data"
    }
   ],
   "source": [
    "plt.figure(figsize = (10,10))\n",
    "sns.heatmap(data.corr())\n",
    "plt.show()"
   ]
  },
  {
   "cell_type": "markdown",
   "id": "81489980",
   "metadata": {
    "papermill": {
     "duration": 0.016032,
     "end_time": "2022-11-09T19:24:11.463266",
     "exception": false,
     "start_time": "2022-11-09T19:24:11.447234",
     "status": "completed"
    },
    "tags": []
   },
   "source": [
    "[back to contents &#10548;](#0.)\n",
    "<a class=\"anchor\" id=\"8.\"> \n",
    "<center> <h1 style=\"background-color:darkred; color:white\" >Test-Train Split</h1>\n",
    "    <center>\n",
    " <a/>"
   ]
  },
  {
   "cell_type": "code",
   "execution_count": 15,
   "id": "f046942b",
   "metadata": {
    "execution": {
     "iopub.execute_input": "2022-11-09T19:24:11.496273Z",
     "iopub.status.busy": "2022-11-09T19:24:11.495825Z",
     "iopub.status.idle": "2022-11-09T19:24:11.501829Z",
     "shell.execute_reply": "2022-11-09T19:24:11.500988Z"
    },
    "papermill": {
     "duration": 0.024787,
     "end_time": "2022-11-09T19:24:11.503809",
     "exception": false,
     "start_time": "2022-11-09T19:24:11.479022",
     "status": "completed"
    },
    "tags": []
   },
   "outputs": [],
   "source": [
    "X = data.drop(\"quality\", axis=1)\n",
    "y = data[\"quality\"]"
   ]
  },
  {
   "cell_type": "code",
   "execution_count": 16,
   "id": "e3e0299e",
   "metadata": {
    "execution": {
     "iopub.execute_input": "2022-11-09T19:24:11.536556Z",
     "iopub.status.busy": "2022-11-09T19:24:11.535852Z",
     "iopub.status.idle": "2022-11-09T19:24:11.561542Z",
     "shell.execute_reply": "2022-11-09T19:24:11.560297Z"
    },
    "papermill": {
     "duration": 0.044816,
     "end_time": "2022-11-09T19:24:11.563882",
     "exception": false,
     "start_time": "2022-11-09T19:24:11.519066",
     "status": "completed"
    },
    "tags": []
   },
   "outputs": [
    {
     "data": {
      "text/html": [
       "<div>\n",
       "<style scoped>\n",
       "    .dataframe tbody tr th:only-of-type {\n",
       "        vertical-align: middle;\n",
       "    }\n",
       "\n",
       "    .dataframe tbody tr th {\n",
       "        vertical-align: top;\n",
       "    }\n",
       "\n",
       "    .dataframe thead th {\n",
       "        text-align: right;\n",
       "    }\n",
       "</style>\n",
       "<table border=\"1\" class=\"dataframe\">\n",
       "  <thead>\n",
       "    <tr style=\"text-align: right;\">\n",
       "      <th></th>\n",
       "      <th>fixed acidity</th>\n",
       "      <th>volatile acidity</th>\n",
       "      <th>citric acid</th>\n",
       "      <th>residual sugar</th>\n",
       "      <th>chlorides</th>\n",
       "      <th>free sulfur dioxide</th>\n",
       "      <th>total sulfur dioxide</th>\n",
       "      <th>density</th>\n",
       "      <th>pH</th>\n",
       "      <th>sulphates</th>\n",
       "      <th>alcohol</th>\n",
       "    </tr>\n",
       "  </thead>\n",
       "  <tbody>\n",
       "    <tr>\n",
       "      <th>0</th>\n",
       "      <td>7.4</td>\n",
       "      <td>0.700</td>\n",
       "      <td>0.00</td>\n",
       "      <td>1.9</td>\n",
       "      <td>0.076</td>\n",
       "      <td>11.0</td>\n",
       "      <td>34.0</td>\n",
       "      <td>0.99780</td>\n",
       "      <td>3.51</td>\n",
       "      <td>0.56</td>\n",
       "      <td>9.4</td>\n",
       "    </tr>\n",
       "    <tr>\n",
       "      <th>1</th>\n",
       "      <td>7.8</td>\n",
       "      <td>0.880</td>\n",
       "      <td>0.00</td>\n",
       "      <td>2.6</td>\n",
       "      <td>0.098</td>\n",
       "      <td>25.0</td>\n",
       "      <td>67.0</td>\n",
       "      <td>0.99680</td>\n",
       "      <td>3.20</td>\n",
       "      <td>0.68</td>\n",
       "      <td>9.8</td>\n",
       "    </tr>\n",
       "    <tr>\n",
       "      <th>2</th>\n",
       "      <td>7.8</td>\n",
       "      <td>0.760</td>\n",
       "      <td>0.04</td>\n",
       "      <td>2.3</td>\n",
       "      <td>0.092</td>\n",
       "      <td>15.0</td>\n",
       "      <td>54.0</td>\n",
       "      <td>0.99700</td>\n",
       "      <td>3.26</td>\n",
       "      <td>0.65</td>\n",
       "      <td>9.8</td>\n",
       "    </tr>\n",
       "    <tr>\n",
       "      <th>3</th>\n",
       "      <td>11.2</td>\n",
       "      <td>0.280</td>\n",
       "      <td>0.56</td>\n",
       "      <td>1.9</td>\n",
       "      <td>0.075</td>\n",
       "      <td>17.0</td>\n",
       "      <td>60.0</td>\n",
       "      <td>0.99800</td>\n",
       "      <td>3.16</td>\n",
       "      <td>0.58</td>\n",
       "      <td>9.8</td>\n",
       "    </tr>\n",
       "    <tr>\n",
       "      <th>4</th>\n",
       "      <td>7.4</td>\n",
       "      <td>0.700</td>\n",
       "      <td>0.00</td>\n",
       "      <td>1.9</td>\n",
       "      <td>0.076</td>\n",
       "      <td>11.0</td>\n",
       "      <td>34.0</td>\n",
       "      <td>0.99780</td>\n",
       "      <td>3.51</td>\n",
       "      <td>0.56</td>\n",
       "      <td>9.4</td>\n",
       "    </tr>\n",
       "    <tr>\n",
       "      <th>...</th>\n",
       "      <td>...</td>\n",
       "      <td>...</td>\n",
       "      <td>...</td>\n",
       "      <td>...</td>\n",
       "      <td>...</td>\n",
       "      <td>...</td>\n",
       "      <td>...</td>\n",
       "      <td>...</td>\n",
       "      <td>...</td>\n",
       "      <td>...</td>\n",
       "      <td>...</td>\n",
       "    </tr>\n",
       "    <tr>\n",
       "      <th>1594</th>\n",
       "      <td>6.2</td>\n",
       "      <td>0.600</td>\n",
       "      <td>0.08</td>\n",
       "      <td>2.0</td>\n",
       "      <td>0.090</td>\n",
       "      <td>32.0</td>\n",
       "      <td>44.0</td>\n",
       "      <td>0.99490</td>\n",
       "      <td>3.45</td>\n",
       "      <td>0.58</td>\n",
       "      <td>10.5</td>\n",
       "    </tr>\n",
       "    <tr>\n",
       "      <th>1595</th>\n",
       "      <td>5.9</td>\n",
       "      <td>0.550</td>\n",
       "      <td>0.10</td>\n",
       "      <td>2.2</td>\n",
       "      <td>0.062</td>\n",
       "      <td>39.0</td>\n",
       "      <td>51.0</td>\n",
       "      <td>0.99512</td>\n",
       "      <td>3.52</td>\n",
       "      <td>0.76</td>\n",
       "      <td>11.2</td>\n",
       "    </tr>\n",
       "    <tr>\n",
       "      <th>1596</th>\n",
       "      <td>6.3</td>\n",
       "      <td>0.510</td>\n",
       "      <td>0.13</td>\n",
       "      <td>2.3</td>\n",
       "      <td>0.076</td>\n",
       "      <td>29.0</td>\n",
       "      <td>40.0</td>\n",
       "      <td>0.99574</td>\n",
       "      <td>3.42</td>\n",
       "      <td>0.75</td>\n",
       "      <td>11.0</td>\n",
       "    </tr>\n",
       "    <tr>\n",
       "      <th>1597</th>\n",
       "      <td>5.9</td>\n",
       "      <td>0.645</td>\n",
       "      <td>0.12</td>\n",
       "      <td>2.0</td>\n",
       "      <td>0.075</td>\n",
       "      <td>32.0</td>\n",
       "      <td>44.0</td>\n",
       "      <td>0.99547</td>\n",
       "      <td>3.57</td>\n",
       "      <td>0.71</td>\n",
       "      <td>10.2</td>\n",
       "    </tr>\n",
       "    <tr>\n",
       "      <th>1598</th>\n",
       "      <td>6.0</td>\n",
       "      <td>0.310</td>\n",
       "      <td>0.47</td>\n",
       "      <td>3.6</td>\n",
       "      <td>0.067</td>\n",
       "      <td>18.0</td>\n",
       "      <td>42.0</td>\n",
       "      <td>0.99549</td>\n",
       "      <td>3.39</td>\n",
       "      <td>0.66</td>\n",
       "      <td>11.0</td>\n",
       "    </tr>\n",
       "  </tbody>\n",
       "</table>\n",
       "<p>1599 rows × 11 columns</p>\n",
       "</div>"
      ],
      "text/plain": [
       "      fixed acidity  volatile acidity  citric acid  residual sugar  chlorides  \\\n",
       "0               7.4             0.700         0.00             1.9      0.076   \n",
       "1               7.8             0.880         0.00             2.6      0.098   \n",
       "2               7.8             0.760         0.04             2.3      0.092   \n",
       "3              11.2             0.280         0.56             1.9      0.075   \n",
       "4               7.4             0.700         0.00             1.9      0.076   \n",
       "...             ...               ...          ...             ...        ...   \n",
       "1594            6.2             0.600         0.08             2.0      0.090   \n",
       "1595            5.9             0.550         0.10             2.2      0.062   \n",
       "1596            6.3             0.510         0.13             2.3      0.076   \n",
       "1597            5.9             0.645         0.12             2.0      0.075   \n",
       "1598            6.0             0.310         0.47             3.6      0.067   \n",
       "\n",
       "      free sulfur dioxide  total sulfur dioxide  density    pH  sulphates  \\\n",
       "0                    11.0                  34.0  0.99780  3.51       0.56   \n",
       "1                    25.0                  67.0  0.99680  3.20       0.68   \n",
       "2                    15.0                  54.0  0.99700  3.26       0.65   \n",
       "3                    17.0                  60.0  0.99800  3.16       0.58   \n",
       "4                    11.0                  34.0  0.99780  3.51       0.56   \n",
       "...                   ...                   ...      ...   ...        ...   \n",
       "1594                 32.0                  44.0  0.99490  3.45       0.58   \n",
       "1595                 39.0                  51.0  0.99512  3.52       0.76   \n",
       "1596                 29.0                  40.0  0.99574  3.42       0.75   \n",
       "1597                 32.0                  44.0  0.99547  3.57       0.71   \n",
       "1598                 18.0                  42.0  0.99549  3.39       0.66   \n",
       "\n",
       "      alcohol  \n",
       "0         9.4  \n",
       "1         9.8  \n",
       "2         9.8  \n",
       "3         9.8  \n",
       "4         9.4  \n",
       "...       ...  \n",
       "1594     10.5  \n",
       "1595     11.2  \n",
       "1596     11.0  \n",
       "1597     10.2  \n",
       "1598     11.0  \n",
       "\n",
       "[1599 rows x 11 columns]"
      ]
     },
     "execution_count": 16,
     "metadata": {},
     "output_type": "execute_result"
    }
   ],
   "source": [
    "X"
   ]
  },
  {
   "cell_type": "code",
   "execution_count": 17,
   "id": "32bbddf5",
   "metadata": {
    "execution": {
     "iopub.execute_input": "2022-11-09T19:24:11.598562Z",
     "iopub.status.busy": "2022-11-09T19:24:11.598149Z",
     "iopub.status.idle": "2022-11-09T19:24:11.606618Z",
     "shell.execute_reply": "2022-11-09T19:24:11.605489Z"
    },
    "papermill": {
     "duration": 0.028589,
     "end_time": "2022-11-09T19:24:11.608752",
     "exception": false,
     "start_time": "2022-11-09T19:24:11.580163",
     "status": "completed"
    },
    "tags": []
   },
   "outputs": [
    {
     "data": {
      "text/plain": [
       "0       5\n",
       "1       5\n",
       "2       5\n",
       "3       6\n",
       "4       5\n",
       "       ..\n",
       "1594    5\n",
       "1595    6\n",
       "1596    6\n",
       "1597    5\n",
       "1598    6\n",
       "Name: quality, Length: 1599, dtype: int64"
      ]
     },
     "execution_count": 17,
     "metadata": {},
     "output_type": "execute_result"
    }
   ],
   "source": [
    "y"
   ]
  },
  {
   "cell_type": "code",
   "execution_count": 18,
   "id": "c9a9f694",
   "metadata": {
    "execution": {
     "iopub.execute_input": "2022-11-09T19:24:11.642430Z",
     "iopub.status.busy": "2022-11-09T19:24:11.641987Z",
     "iopub.status.idle": "2022-11-09T19:24:11.650027Z",
     "shell.execute_reply": "2022-11-09T19:24:11.648753Z"
    },
    "papermill": {
     "duration": 0.027635,
     "end_time": "2022-11-09T19:24:11.652305",
     "exception": false,
     "start_time": "2022-11-09T19:24:11.624670",
     "status": "completed"
    },
    "tags": []
   },
   "outputs": [],
   "source": [
    "X_train, X_test, y_train, y_test = train_test_split(X, y, test_size=0.20, random_state=17)"
   ]
  },
  {
   "cell_type": "markdown",
   "id": "2aecdc58",
   "metadata": {
    "papermill": {
     "duration": 0.015373,
     "end_time": "2022-11-09T19:24:11.683480",
     "exception": false,
     "start_time": "2022-11-09T19:24:11.668107",
     "status": "completed"
    },
    "tags": []
   },
   "source": [
    "[back to contents &#10548;](#0.)\n",
    "<a class=\"anchor\" id=\"9.\"> \n",
    "<center> <h1 style=\"background-color:darkred; color:white\" >Scaling Data</h1>\n",
    "    <center>\n",
    " <a/>"
   ]
  },
  {
   "cell_type": "code",
   "execution_count": 19,
   "id": "b9fafaeb",
   "metadata": {
    "execution": {
     "iopub.execute_input": "2022-11-09T19:24:11.717176Z",
     "iopub.status.busy": "2022-11-09T19:24:11.716718Z",
     "iopub.status.idle": "2022-11-09T19:24:11.735520Z",
     "shell.execute_reply": "2022-11-09T19:24:11.734705Z"
    },
    "papermill": {
     "duration": 0.03853,
     "end_time": "2022-11-09T19:24:11.737875",
     "exception": false,
     "start_time": "2022-11-09T19:24:11.699345",
     "status": "completed"
    },
    "tags": []
   },
   "outputs": [],
   "source": [
    "from sklearn.preprocessing import RobustScaler\n",
    "\n",
    "sc = RobustScaler()\n",
    "X_train = sc.fit_transform(X_train)\n",
    "X_test = sc.transform(X_test)"
   ]
  },
  {
   "cell_type": "markdown",
   "id": "bf3496b5",
   "metadata": {
    "papermill": {
     "duration": 0.015682,
     "end_time": "2022-11-09T19:24:11.769953",
     "exception": false,
     "start_time": "2022-11-09T19:24:11.754271",
     "status": "completed"
    },
    "tags": []
   },
   "source": [
    "[back to contents &#10548;](#0.)\n",
    "<a class=\"anchor\" id=\"10.\"> \n",
    "<center> <h1 style=\"background-color:darkred; color:white\" >Classifier Model</h1>\n",
    "    <center>\n",
    " <a/>"
   ]
  },
  {
   "cell_type": "markdown",
   "id": "bf9b2eb8",
   "metadata": {
    "papermill": {
     "duration": 0.015514,
     "end_time": "2022-11-09T19:24:11.801339",
     "exception": false,
     "start_time": "2022-11-09T19:24:11.785825",
     "status": "completed"
    },
    "tags": []
   },
   "source": [
    "[back to contents &#10548;](#0.)\n",
    "<a class=\"anchor\" id=\"10.1.\"> \n",
    "<center> <h1 style=\"background-color:darkred; color:white\" >GradientBoostingClassifier</h1>\n",
    "    <center>\n",
    " <a/>"
   ]
  },
  {
   "cell_type": "code",
   "execution_count": 20,
   "id": "7420b7b5",
   "metadata": {
    "execution": {
     "iopub.execute_input": "2022-11-09T19:24:11.834864Z",
     "iopub.status.busy": "2022-11-09T19:24:11.834465Z",
     "iopub.status.idle": "2022-11-09T20:11:19.087510Z",
     "shell.execute_reply": "2022-11-09T20:11:19.086085Z"
    },
    "papermill": {
     "duration": 2827.273023,
     "end_time": "2022-11-09T20:11:19.090141",
     "exception": false,
     "start_time": "2022-11-09T19:24:11.817118",
     "status": "completed"
    },
    "tags": []
   },
   "outputs": [
    {
     "name": "stdout",
     "output_type": "stream",
     "text": [
      "Fitting 5 folds for each of 192 candidates, totalling 960 fits\n"
     ]
    }
   ],
   "source": [
    "gbm_model = GradientBoostingClassifier()\n",
    "\n",
    "# Parameters Defined for the Test\n",
    "gbm_params = {\"learning_rate\": [0.01, 0.02, 0.1],\n",
    "              \"max_depth\": [5, 6, 7, 8],\n",
    "              \"n_estimators\": [100, 200, 400, 600],\n",
    "              \"subsample\": [0.3, 0.4, 0.6, 0.8]}\n",
    "\n",
    "#Finding the Best Parameters\n",
    "gbm_best_grid = GridSearchCV(gbm_model, gbm_params, cv=5, n_jobs=-1, verbose=True).fit(X_train, y_train)"
   ]
  },
  {
   "cell_type": "code",
   "execution_count": 21,
   "id": "ea856fbb",
   "metadata": {
    "execution": {
     "iopub.execute_input": "2022-11-09T20:11:19.127530Z",
     "iopub.status.busy": "2022-11-09T20:11:19.126453Z",
     "iopub.status.idle": "2022-11-09T20:11:35.678105Z",
     "shell.execute_reply": "2022-11-09T20:11:35.677078Z"
    },
    "papermill": {
     "duration": 16.572632,
     "end_time": "2022-11-09T20:11:35.680738",
     "exception": false,
     "start_time": "2022-11-09T20:11:19.108106",
     "status": "completed"
    },
    "tags": []
   },
   "outputs": [],
   "source": [
    "# Model Prepared with the Best Parameters\n",
    "gbm_final = gbm_model.set_params(**gbm_best_grid.best_params_, random_state=17)\n",
    "gbm_final.fit(X_train, y_train)\n",
    "y_pred_gbm = gbm_final.predict(X_test)"
   ]
  },
  {
   "cell_type": "markdown",
   "id": "918bb5c3",
   "metadata": {
    "papermill": {
     "duration": 0.016007,
     "end_time": "2022-11-09T20:11:35.713552",
     "exception": false,
     "start_time": "2022-11-09T20:11:35.697545",
     "status": "completed"
    },
    "tags": []
   },
   "source": [
    "[back to contents &#10548;](#0.)\n",
    "<a class=\"anchor\" id=\"10.2.\"> \n",
    "<center> <h1 style=\"background-color:darkred; color:white\" >Random Forest &#127794;&#127794;</h1>\n",
    "    <center>\n",
    " <a/>"
   ]
  },
  {
   "cell_type": "code",
   "execution_count": 22,
   "id": "13cc0f3f",
   "metadata": {
    "execution": {
     "iopub.execute_input": "2022-11-09T20:11:35.749239Z",
     "iopub.status.busy": "2022-11-09T20:11:35.748535Z",
     "iopub.status.idle": "2022-11-09T20:16:52.402853Z",
     "shell.execute_reply": "2022-11-09T20:16:52.401793Z"
    },
    "papermill": {
     "duration": 316.675247,
     "end_time": "2022-11-09T20:16:52.405487",
     "exception": false,
     "start_time": "2022-11-09T20:11:35.730240",
     "status": "completed"
    },
    "tags": []
   },
   "outputs": [
    {
     "name": "stdout",
     "output_type": "stream",
     "text": [
      "Fitting 5 folds for each of 240 candidates, totalling 1200 fits\n"
     ]
    }
   ],
   "source": [
    "rf_model = RandomForestClassifier()\n",
    "\n",
    "# Parameters Defined for the Test\n",
    "rf_params = {\"max_depth\": [7, 8, 9, 10],\n",
    "             \"max_features\": [4, 5, 6, 7],\n",
    "             \"min_samples_split\": [3, 4, 5, 6, 7],\n",
    "             \"n_estimators\": [100, 200, 300]}\n",
    "\n",
    "rf_best_grid = GridSearchCV(rf_model, rf_params, cv=5, n_jobs=-1, verbose=True).fit(X_train, y_train)"
   ]
  },
  {
   "cell_type": "code",
   "execution_count": 23,
   "id": "da7dcea9",
   "metadata": {
    "execution": {
     "iopub.execute_input": "2022-11-09T20:16:52.440096Z",
     "iopub.status.busy": "2022-11-09T20:16:52.439693Z",
     "iopub.status.idle": "2022-11-09T20:16:53.568270Z",
     "shell.execute_reply": "2022-11-09T20:16:53.567218Z"
    },
    "papermill": {
     "duration": 1.148894,
     "end_time": "2022-11-09T20:16:53.570906",
     "exception": false,
     "start_time": "2022-11-09T20:16:52.422012",
     "status": "completed"
    },
    "tags": []
   },
   "outputs": [],
   "source": [
    "rf_final = rf_model.set_params(**rf_best_grid.best_params_, random_state=17)\n",
    "rf_final.fit(X_train, y_train)\n",
    "y_pred_rf = rf_final.predict(X_test)"
   ]
  },
  {
   "cell_type": "markdown",
   "id": "9431dce3",
   "metadata": {
    "papermill": {
     "duration": 0.015448,
     "end_time": "2022-11-09T20:16:53.602255",
     "exception": false,
     "start_time": "2022-11-09T20:16:53.586807",
     "status": "completed"
    },
    "tags": []
   },
   "source": [
    "[back to contents &#10548;](#0.)\n",
    "<a class=\"anchor\" id=\"10.3.\"> \n",
    "<center> <h1 style=\"background-color:darkred; color:white\" >Light Gradient Boosting Machine &#128294;</h1>\n",
    "    <center>\n",
    " <a/>"
   ]
  },
  {
   "cell_type": "code",
   "execution_count": 24,
   "id": "a3ff54ad",
   "metadata": {
    "execution": {
     "iopub.execute_input": "2022-11-09T20:16:53.635835Z",
     "iopub.status.busy": "2022-11-09T20:16:53.635083Z",
     "iopub.status.idle": "2022-11-09T20:25:50.296709Z",
     "shell.execute_reply": "2022-11-09T20:25:50.295761Z"
    },
    "papermill": {
     "duration": 536.681392,
     "end_time": "2022-11-09T20:25:50.299340",
     "exception": false,
     "start_time": "2022-11-09T20:16:53.617948",
     "status": "completed"
    },
    "tags": []
   },
   "outputs": [
    {
     "name": "stdout",
     "output_type": "stream",
     "text": [
      "Fitting 5 folds for each of 192 candidates, totalling 960 fits\n"
     ]
    }
   ],
   "source": [
    "lgbm_model = LGBMClassifier()\n",
    "\n",
    "# Parameters Defined for the Test\n",
    "lgbm_params = {\"learning_rate\": [0.01, 0.02, 0.1],\n",
    "              \"max_depth\": [5, 6, 7, 8],\n",
    "              \"n_estimators\": [100, 200, 400, 600],\n",
    "              \"subsample\": [0.3, 0.4, 0.6, 0.8]}\n",
    "\n",
    "#Finding the Best Parameters\n",
    "lgbm_best_grid = GridSearchCV(lgbm_model, lgbm_params, cv=5, n_jobs=-1, verbose=True).fit(X_train, y_train)"
   ]
  },
  {
   "cell_type": "code",
   "execution_count": 25,
   "id": "eb558460",
   "metadata": {
    "execution": {
     "iopub.execute_input": "2022-11-09T20:25:50.334282Z",
     "iopub.status.busy": "2022-11-09T20:25:50.333860Z",
     "iopub.status.idle": "2022-11-09T20:25:52.640255Z",
     "shell.execute_reply": "2022-11-09T20:25:52.639271Z"
    },
    "papermill": {
     "duration": 2.326886,
     "end_time": "2022-11-09T20:25:52.642777",
     "exception": false,
     "start_time": "2022-11-09T20:25:50.315891",
     "status": "completed"
    },
    "tags": []
   },
   "outputs": [],
   "source": [
    "lgbm_final = lgbm_model.set_params(**lgbm_best_grid.best_params_, random_state=17)\n",
    "lgbm_final.fit(X_train, y_train)\n",
    "y_pred_lgbm = lgbm_final.predict(X_test)"
   ]
  },
  {
   "cell_type": "markdown",
   "id": "9656c318",
   "metadata": {
    "papermill": {
     "duration": 0.015617,
     "end_time": "2022-11-09T20:25:52.676775",
     "exception": false,
     "start_time": "2022-11-09T20:25:52.661158",
     "status": "completed"
    },
    "tags": []
   },
   "source": [
    "[back to contents &#10548;](#0.)\n",
    "<a class=\"anchor\" id=\"10.4.\"> \n",
    "<center> <h1 style=\"background-color:darkred; color:white\" >KNeighbors Classifier</h1>\n",
    "    <center>\n",
    " <a/>"
   ]
  },
  {
   "cell_type": "code",
   "execution_count": 26,
   "id": "b6e3113f",
   "metadata": {
    "execution": {
     "iopub.execute_input": "2022-11-09T20:25:52.710988Z",
     "iopub.status.busy": "2022-11-09T20:25:52.710545Z",
     "iopub.status.idle": "2022-11-09T20:25:52.916191Z",
     "shell.execute_reply": "2022-11-09T20:25:52.915077Z"
    },
    "papermill": {
     "duration": 0.225863,
     "end_time": "2022-11-09T20:25:52.918696",
     "exception": false,
     "start_time": "2022-11-09T20:25:52.692833",
     "status": "completed"
    },
    "tags": []
   },
   "outputs": [
    {
     "name": "stdout",
     "output_type": "stream",
     "text": [
      "Fitting 5 folds for each of 5 candidates, totalling 25 fits\n"
     ]
    }
   ],
   "source": [
    "KNe_model = KNeighborsClassifier()\n",
    "\n",
    "# Parameters Defined for the Test\n",
    "n_neighbors_params= {\"n_neighbors\": [3, 4, 5, 6, 7]}\n",
    "\n",
    "#Finding the Best Parameters\n",
    "KNe_best_grid = GridSearchCV(KNe_model, n_neighbors_params, cv=5, n_jobs=-1, verbose=True).fit(X_train, y_train)"
   ]
  },
  {
   "cell_type": "code",
   "execution_count": 27,
   "id": "06070758",
   "metadata": {
    "execution": {
     "iopub.execute_input": "2022-11-09T20:25:52.953028Z",
     "iopub.status.busy": "2022-11-09T20:25:52.952324Z",
     "iopub.status.idle": "2022-11-09T20:25:52.974691Z",
     "shell.execute_reply": "2022-11-09T20:25:52.973733Z"
    },
    "papermill": {
     "duration": 0.042241,
     "end_time": "2022-11-09T20:25:52.976987",
     "exception": false,
     "start_time": "2022-11-09T20:25:52.934746",
     "status": "completed"
    },
    "tags": []
   },
   "outputs": [],
   "source": [
    "KNe_final = KNe_model.set_params(**KNe_best_grid.best_params_)\n",
    "KNe_final.fit(X_train, y_train)\n",
    "y_pred_KNe = KNe_final.predict(X_test)"
   ]
  },
  {
   "cell_type": "markdown",
   "id": "fccec4bd",
   "metadata": {
    "papermill": {
     "duration": 0.015618,
     "end_time": "2022-11-09T20:25:53.008672",
     "exception": false,
     "start_time": "2022-11-09T20:25:52.993054",
     "status": "completed"
    },
    "tags": []
   },
   "source": [
    "[back to contents &#10548;](#0.)\n",
    "<a class=\"anchor\" id=\"10.5.\"> \n",
    "<center> <h1 style=\"background-color:darkred; color:white\" >Decision Tree Classifier &#127795;</h1>\n",
    "    <center>\n",
    " <a/>"
   ]
  },
  {
   "cell_type": "code",
   "execution_count": 28,
   "id": "e92f60dd",
   "metadata": {
    "execution": {
     "iopub.execute_input": "2022-11-09T20:25:53.042681Z",
     "iopub.status.busy": "2022-11-09T20:25:53.041975Z",
     "iopub.status.idle": "2022-11-09T20:25:53.429794Z",
     "shell.execute_reply": "2022-11-09T20:25:53.428767Z"
    },
    "papermill": {
     "duration": 0.407678,
     "end_time": "2022-11-09T20:25:53.432317",
     "exception": false,
     "start_time": "2022-11-09T20:25:53.024639",
     "status": "completed"
    },
    "tags": []
   },
   "outputs": [
    {
     "name": "stdout",
     "output_type": "stream",
     "text": [
      "Fitting 5 folds for each of 20 candidates, totalling 100 fits\n"
     ]
    }
   ],
   "source": [
    "dtc_model = DecisionTreeClassifier()\n",
    "\n",
    "# Parameters Defined for the Test\n",
    "dtc_params = {\"max_depth\": [7, 8, 9, 10],\n",
    "             \"min_samples_split\": [3, 4, 5, 6, 7]}\n",
    "\n",
    "#Finding the Best Parameters\n",
    "dtc_best_grid = GridSearchCV(dtc_model, dtc_params, cv=5, n_jobs=-1, verbose=True).fit(X_train, y_train)"
   ]
  },
  {
   "cell_type": "code",
   "execution_count": 29,
   "id": "960bb055",
   "metadata": {
    "execution": {
     "iopub.execute_input": "2022-11-09T20:25:53.466577Z",
     "iopub.status.busy": "2022-11-09T20:25:53.465793Z",
     "iopub.status.idle": "2022-11-09T20:25:53.479523Z",
     "shell.execute_reply": "2022-11-09T20:25:53.478752Z"
    },
    "papermill": {
     "duration": 0.033214,
     "end_time": "2022-11-09T20:25:53.481694",
     "exception": false,
     "start_time": "2022-11-09T20:25:53.448480",
     "status": "completed"
    },
    "tags": []
   },
   "outputs": [],
   "source": [
    "dtc_final = dtc_model.set_params(**dtc_best_grid.best_params_, random_state=17)\n",
    "dtc_final.fit(X_train, y_train)\n",
    "y_pred_dtc = dtc_final.predict(X_test)"
   ]
  },
  {
   "cell_type": "markdown",
   "id": "ff45df6d",
   "metadata": {
    "papermill": {
     "duration": 0.015573,
     "end_time": "2022-11-09T20:25:53.513282",
     "exception": false,
     "start_time": "2022-11-09T20:25:53.497709",
     "status": "completed"
    },
    "tags": []
   },
   "source": [
    "[back to contents &#10548;](#0.)\n",
    "<a class=\"anchor\" id=\"11.\"> \n",
    "<center> <h1 style=\"background-color:darkred; color:white\" >Accuracy table of models</h1>\n",
    "    <center>\n",
    " <a/>"
   ]
  },
  {
   "cell_type": "code",
   "execution_count": 30,
   "id": "d5ae97f9",
   "metadata": {
    "execution": {
     "iopub.execute_input": "2022-11-09T20:25:53.547029Z",
     "iopub.status.busy": "2022-11-09T20:25:53.546174Z",
     "iopub.status.idle": "2022-11-09T20:27:19.168214Z",
     "shell.execute_reply": "2022-11-09T20:27:19.166884Z"
    },
    "papermill": {
     "duration": 85.658301,
     "end_time": "2022-11-09T20:27:19.187435",
     "exception": false,
     "start_time": "2022-11-09T20:25:53.529134",
     "status": "completed"
    },
    "tags": []
   },
   "outputs": [
    {
     "data": {
      "text/html": [
       "<div>\n",
       "<style scoped>\n",
       "    .dataframe tbody tr th:only-of-type {\n",
       "        vertical-align: middle;\n",
       "    }\n",
       "\n",
       "    .dataframe tbody tr th {\n",
       "        vertical-align: top;\n",
       "    }\n",
       "\n",
       "    .dataframe thead th {\n",
       "        text-align: right;\n",
       "    }\n",
       "</style>\n",
       "<table border=\"1\" class=\"dataframe\">\n",
       "  <thead>\n",
       "    <tr style=\"text-align: right;\">\n",
       "      <th></th>\n",
       "      <th>Model</th>\n",
       "      <th>Cross Validation</th>\n",
       "      <th>Test Accuracy</th>\n",
       "    </tr>\n",
       "  </thead>\n",
       "  <tbody>\n",
       "    <tr>\n",
       "      <th>0</th>\n",
       "      <td>Random Forest</td>\n",
       "      <td>0.655971</td>\n",
       "      <td>0.728125</td>\n",
       "    </tr>\n",
       "    <tr>\n",
       "      <th>1</th>\n",
       "      <td>Gradient Boosting Machine</td>\n",
       "      <td>0.655987</td>\n",
       "      <td>0.753125</td>\n",
       "    </tr>\n",
       "    <tr>\n",
       "      <th>2</th>\n",
       "      <td>Light Gradient Boosting Machine</td>\n",
       "      <td>0.650512</td>\n",
       "      <td>0.718750</td>\n",
       "    </tr>\n",
       "    <tr>\n",
       "      <th>3</th>\n",
       "      <td>KNeighbors</td>\n",
       "      <td>0.566866</td>\n",
       "      <td>0.587500</td>\n",
       "    </tr>\n",
       "    <tr>\n",
       "      <th>4</th>\n",
       "      <td>DecisionTreeClassifier</td>\n",
       "      <td>0.584835</td>\n",
       "      <td>0.612500</td>\n",
       "    </tr>\n",
       "  </tbody>\n",
       "</table>\n",
       "</div>"
      ],
      "text/plain": [
       "                             Model  Cross Validation  Test Accuracy\n",
       "0                    Random Forest          0.655971       0.728125\n",
       "1        Gradient Boosting Machine          0.655987       0.753125\n",
       "2  Light Gradient Boosting Machine          0.650512       0.718750\n",
       "3                       KNeighbors          0.566866       0.587500\n",
       "4           DecisionTreeClassifier          0.584835       0.612500"
      ]
     },
     "execution_count": 30,
     "metadata": {},
     "output_type": "execute_result"
    }
   ],
   "source": [
    "models = [\"Random Forest\",\"Gradient Boosting Machine\",\n",
    "          \"Light Gradient Boosting Machine\",\"KNeighbors\",\n",
    "          \"DecisionTreeClassifier\"]\n",
    "\n",
    "test_acc = [\n",
    "    accuracy_score(y_test, y_pred_rf),\n",
    "    accuracy_score(y_test, y_pred_gbm),\n",
    "    accuracy_score(y_test, y_pred_lgbm),\n",
    "    accuracy_score(y_test, y_pred_KNe),\n",
    "    accuracy_score(y_test, y_pred_dtc)   \n",
    "]\n",
    "\n",
    "cv_rf = cross_val_score(estimator = rf_final, X = X_train, y = y_train.ravel(), cv = 5)\n",
    "cv_gbm = cross_val_score(estimator = gbm_final, X = X_train, y = y_train.ravel(), cv = 5)\n",
    "cv_lgbm = cross_val_score(estimator = lgbm_final, X = X_train, y = y_train.ravel(), cv = 5)\n",
    "cv_KNe = cross_val_score(estimator = KNe_final, X = X_train, y = y_train.ravel(), cv = 5)\n",
    "cv_dtc = cross_val_score(estimator = dtc_final, X = X_train, y = y_train.ravel(), cv = 5)\n",
    "\n",
    "cross_val_score = [\n",
    "    \n",
    "    cv_rf.mean(),\n",
    "    cv_gbm.mean(),\n",
    "    cv_lgbm.mean(),\n",
    "    cv_KNe.mean(),\n",
    "    cv_dtc.mean()\n",
    "]\n",
    "\n",
    "pd.DataFrame({\n",
    "    \n",
    "    \"Model\":models,\n",
    "    \"Cross Validation\": cross_val_score,\n",
    "    \"Test Accuracy\": test_acc\n",
    "    \n",
    "})"
   ]
  }
 ],
 "metadata": {
  "kernelspec": {
   "display_name": "Python 3",
   "language": "python",
   "name": "python3"
  },
  "language_info": {
   "codemirror_mode": {
    "name": "ipython",
    "version": 3
   },
   "file_extension": ".py",
   "mimetype": "text/x-python",
   "name": "python",
   "nbconvert_exporter": "python",
   "pygments_lexer": "ipython3",
   "version": "3.7.12"
  },
  "papermill": {
   "default_parameters": {},
   "duration": 3806.521534,
   "end_time": "2022-11-09T20:27:21.831050",
   "environment_variables": {},
   "exception": null,
   "input_path": "__notebook__.ipynb",
   "output_path": "__notebook__.ipynb",
   "parameters": {},
   "start_time": "2022-11-09T19:23:55.309516",
   "version": "2.3.4"
  }
 },
 "nbformat": 4,
 "nbformat_minor": 5
}
